{
 "cells": [
  {
   "cell_type": "code",
   "execution_count": 4,
   "metadata": {},
   "outputs": [
    {
     "name": "stdout",
     "output_type": "stream",
     "text": [
      "Python 3.7.9\n"
     ]
    }
   ],
   "source": [
    "!python --version"
   ]
  },
  {
   "cell_type": "markdown",
   "metadata": {},
   "source": [
    "### Introduction"
   ]
  },
  {
   "cell_type": "markdown",
   "metadata": {},
   "source": [
    "The Home Mortgage Disclosure Act was a bill passed by the U.S. Congress in 1975. It is an important piece of legislation that requires banks, credit unions, and other types of financial institutions to publicly report data involving the mortgages they process. This information can be used by individuals or businesses to analyze trends, conduct research, and/or make critical financial decisions. Some of the information legally required to be released includes the type of loan applied for, the amount requested to borrow, property type, ethnicity of the borrower, and much more. The HMDA was strengthened decades later after the passage of the Dodd–Frank Wall Street Reform and Consumer Protection Act, a response to the irresponsible mortgage lending by banks which caused the 2008 recession. Dodd Frank then required lenders to publicly report additional information such as loan terms, the age of the borrowers, credit score type, and interest rates, among others. \n",
    "\n",
    "This notebook will attempt to create machine learning classifiers to predict whether loans are approved or denied based on the historical data provided from the HMDA website. The dataset contains records from 2018-2019 and can be downloaded from the link at the bottom of the notebook in the References section."
   ]
  },
  {
   "cell_type": "markdown",
   "metadata": {},
   "source": [
    "### Importing Data & Libraries"
   ]
  },
  {
   "cell_type": "code",
   "execution_count": 5,
   "metadata": {},
   "outputs": [
    {
     "data": {
      "text/html": [
       "        <script type=\"text/javascript\">\n",
       "        window.PlotlyConfig = {MathJaxConfig: 'local'};\n",
       "        if (window.MathJax) {MathJax.Hub.Config({SVG: {font: \"STIX-Web\"}});}\n",
       "        if (typeof require !== 'undefined') {\n",
       "        require.undef(\"plotly\");\n",
       "        requirejs.config({\n",
       "            paths: {\n",
       "                'plotly': ['https://cdn.plot.ly/plotly-latest.min']\n",
       "            }\n",
       "        });\n",
       "        require(['plotly'], function(Plotly) {\n",
       "            window._Plotly = Plotly;\n",
       "        });\n",
       "        }\n",
       "        </script>\n",
       "        "
      ]
     },
     "metadata": {},
     "output_type": "display_data"
    },
    {
     "name": "stdout",
     "output_type": "stream",
     "text": [
      "['.ipynb_checkpoints', '2018_lar.txt', '2018_ts.txt', '2019_lar.txt', '2019_ts.txt', 'CFPB Loans 2.ipynb', 'CFPB Loans.ipynb', 'model-benchmarks.txt', 'spark-warehouse']\n"
     ]
    }
   ],
   "source": [
    "from pyspark import SparkContext, SparkConf\n",
    "from pyspark.sql import SparkSession, SQLContext\n",
    "\n",
    "import os\n",
    "import seaborn as sns\n",
    "import pandas as pd\n",
    "import numpy as np\n",
    "import plotly\n",
    "import cufflinks as cf\n",
    "\n",
    "cf.go_offline()\n",
    "pd.set_option('display.max_colwidth', None)\n",
    "\n",
    "print(os.listdir('../loans'))"
   ]
  },
  {
   "cell_type": "code",
   "execution_count": 6,
   "metadata": {},
   "outputs": [
    {
     "data": {
      "text/html": [
       "\n",
       "            <div>\n",
       "                <p><b>SparkSession - in-memory</b></p>\n",
       "                \n",
       "        <div>\n",
       "            <p><b>SparkContext</b></p>\n",
       "\n",
       "            <p><a href=\"http://DESKTOP-BT7U3JB:4040\">Spark UI</a></p>\n",
       "\n",
       "            <dl>\n",
       "              <dt>Version</dt>\n",
       "                <dd><code>v3.0.0</code></dd>\n",
       "              <dt>Master</dt>\n",
       "                <dd><code>local[*]</code></dd>\n",
       "              <dt>AppName</dt>\n",
       "                <dd><code>cfpb-loans</code></dd>\n",
       "            </dl>\n",
       "        </div>\n",
       "        \n",
       "            </div>\n",
       "        "
      ],
      "text/plain": [
       "<pyspark.sql.session.SparkSession at 0x28574b43808>"
      ]
     },
     "execution_count": 6,
     "metadata": {},
     "output_type": "execute_result"
    }
   ],
   "source": [
    "spark = (SparkSession\n",
    "        .builder \n",
    "        .master(\"local[*]\") \n",
    "        .appName(\"cfpb-loans\") \n",
    "        .getOrCreate())\n",
    "\n",
    "spark"
   ]
  },
  {
   "cell_type": "code",
   "execution_count": 7,
   "metadata": {},
   "outputs": [
    {
     "name": "stdout",
     "output_type": "stream",
     "text": [
      "root\n",
      " |-- activity_year: integer (nullable = true)\n",
      " |-- lei: string (nullable = true)\n",
      " |-- derived_msa_md: integer (nullable = true)\n",
      " |-- state_code: string (nullable = true)\n",
      " |-- county_code: string (nullable = true)\n",
      " |-- census_tract: string (nullable = true)\n",
      " |-- conforming_loan_limit: string (nullable = true)\n",
      " |-- derived_loan_product_type: string (nullable = true)\n",
      " |-- derived_dwelling_category: string (nullable = true)\n",
      " |-- derived_ethnicity: string (nullable = true)\n",
      " |-- derived_race: string (nullable = true)\n",
      " |-- derived_sex: string (nullable = true)\n",
      " |-- action_taken: integer (nullable = true)\n",
      " |-- purchaser_type: integer (nullable = true)\n",
      " |-- preapproval: integer (nullable = true)\n",
      " |-- loan_type: integer (nullable = true)\n",
      " |-- loan_purpose: integer (nullable = true)\n",
      " |-- lien_status: integer (nullable = true)\n",
      " |-- reverse_mortgage: integer (nullable = true)\n",
      " |-- open_end_line_of_credit: integer (nullable = true)\n",
      " |-- business_or_commercial_purpose: integer (nullable = true)\n",
      " |-- loan_amount: double (nullable = true)\n",
      " |-- combined_loan_to_value_ratio: string (nullable = true)\n",
      " |-- interest_rate: string (nullable = true)\n",
      " |-- rate_spread: string (nullable = true)\n",
      " |-- hoepa_status: integer (nullable = true)\n",
      " |-- total_loan_costs: string (nullable = true)\n",
      " |-- total_points_and_fees: string (nullable = true)\n",
      " |-- origination_charges: string (nullable = true)\n",
      " |-- discount_points: string (nullable = true)\n",
      " |-- lender_credits: string (nullable = true)\n",
      " |-- loan_term: string (nullable = true)\n",
      " |-- prepayment_penalty_term: string (nullable = true)\n",
      " |-- intro_rate_period: string (nullable = true)\n",
      " |-- negative_amortization: integer (nullable = true)\n",
      " |-- interest_only_payment: integer (nullable = true)\n",
      " |-- balloon_payment: integer (nullable = true)\n",
      " |-- other_nonamortizing_features: integer (nullable = true)\n",
      " |-- property_value: string (nullable = true)\n",
      " |-- construction_method: integer (nullable = true)\n",
      " |-- occupancy_type: integer (nullable = true)\n",
      " |-- manufactured_home_secured_property_type: integer (nullable = true)\n",
      " |-- manufactured_home_land_property_interest: integer (nullable = true)\n",
      " |-- total_units: string (nullable = true)\n",
      " |-- multifamily_affordable_units: string (nullable = true)\n",
      " |-- income: string (nullable = true)\n",
      " |-- debt_to_income_ratio: string (nullable = true)\n",
      " |-- applicant_credit_score_type: integer (nullable = true)\n",
      " |-- co_applicant_credit_score_type: integer (nullable = true)\n",
      " |-- applicant_ethnicity_1: integer (nullable = true)\n",
      " |-- applicant_ethnicity_2: integer (nullable = true)\n",
      " |-- applicant_ethnicity_3: integer (nullable = true)\n",
      " |-- applicant_ethnicity_4: integer (nullable = true)\n",
      " |-- applicant_ethnicity_5: integer (nullable = true)\n",
      " |-- co_applicant_ethnicity_1: integer (nullable = true)\n",
      " |-- co_applicant_ethnicity_2: integer (nullable = true)\n",
      " |-- co_applicant_ethnicity_3: integer (nullable = true)\n",
      " |-- co_applicant_ethnicity_4: integer (nullable = true)\n",
      " |-- co_applicant_ethnicity_5: integer (nullable = true)\n",
      " |-- applicant_ethnicity_observed: integer (nullable = true)\n",
      " |-- co_applicant_ethnicity_observed: integer (nullable = true)\n",
      " |-- applicant_race_1: integer (nullable = true)\n",
      " |-- applicant_race_2: integer (nullable = true)\n",
      " |-- applicant_race_3: integer (nullable = true)\n",
      " |-- applicant_race_4: integer (nullable = true)\n",
      " |-- applicant_race_5: integer (nullable = true)\n",
      " |-- co_applicant_race_1: integer (nullable = true)\n",
      " |-- co_applicant_race_2: integer (nullable = true)\n",
      " |-- co_applicant_race_3: integer (nullable = true)\n",
      " |-- co_applicant_race_4: integer (nullable = true)\n",
      " |-- co_applicant_race_5: integer (nullable = true)\n",
      " |-- applicant_race_observed: integer (nullable = true)\n",
      " |-- co_applicant_race_observed: integer (nullable = true)\n",
      " |-- applicant_sex: integer (nullable = true)\n",
      " |-- co_applicant_sex: integer (nullable = true)\n",
      " |-- applicant_sex_observed: integer (nullable = true)\n",
      " |-- co_applicant_sex_observed: integer (nullable = true)\n",
      " |-- applicant_age: string (nullable = true)\n",
      " |-- co_applicant_age: string (nullable = true)\n",
      " |-- applicant_age_above_62: string (nullable = true)\n",
      " |-- co_applicant_age_above_62: string (nullable = true)\n",
      " |-- submission_of_application: integer (nullable = true)\n",
      " |-- initially_payable_to_institution: integer (nullable = true)\n",
      " |-- aus_1: integer (nullable = true)\n",
      " |-- aus_2: integer (nullable = true)\n",
      " |-- aus_3: integer (nullable = true)\n",
      " |-- aus_4: integer (nullable = true)\n",
      " |-- aus_5: integer (nullable = true)\n",
      " |-- denial_reason_1: integer (nullable = true)\n",
      " |-- denial_reason_2: integer (nullable = true)\n",
      " |-- denial_reason_3: integer (nullable = true)\n",
      " |-- denial_reason_4: integer (nullable = true)\n",
      " |-- tract_population: integer (nullable = true)\n",
      " |-- tract_minority_population_percent: double (nullable = true)\n",
      " |-- ffiec_msa_md_median_family_income: integer (nullable = true)\n",
      " |-- tract_to_msa_income_percentage: integer (nullable = true)\n",
      " |-- tract_owner_occupied_units: integer (nullable = true)\n",
      " |-- tract_one_to_four_family_homes: integer (nullable = true)\n",
      " |-- tract_median_age_of_housing_units: integer (nullable = true)\n",
      "\n"
     ]
    }
   ],
   "source": [
    "loans_2019 = (spark.read.format(\"csv\")\n",
    "    .option(\"header\", \"true\")\n",
    "    .option(\"delimiter\", \"|\")\n",
    "    .option(\"inferSchema\", \"true\")\n",
    "    .load(\"../loans/2019_lar.txt\"))\n",
    "\n",
    "loans_2018 = (spark.read.format(\"csv\")\n",
    "    .option(\"header\", \"true\")\n",
    "    .option(\"delimiter\", \"|\")\n",
    "    .option(\"inferSchema\", \"true\")\n",
    "    .load(\"../loans/2018_lar.txt\"))\n",
    "\n",
    "loans_2019.printSchema()"
   ]
  },
  {
   "cell_type": "code",
   "execution_count": 8,
   "metadata": {},
   "outputs": [
    {
     "name": "stdout",
     "output_type": "stream",
     "text": [
      "2019 loans count:  17522258 \n",
      "2018 loans count:  15128476 \n",
      "total loan count:  32650734\n"
     ]
    }
   ],
   "source": [
    "loans = loans_2019.unionAll(loans_2018)\n",
    "\n",
    "loans_2019.columns == loans_2018.columns\n",
    "\n",
    "print('2019 loans count: ', loans_2019.count(), '\\n' \n",
    "      '2018 loans count: ', loans_2018.count(), '\\n'\n",
    "      'total loan count: ', loans.count())"
   ]
  },
  {
   "cell_type": "code",
   "execution_count": 9,
   "metadata": {},
   "outputs": [
    {
     "data": {
      "text/html": [
       "<div>\n",
       "<style scoped>\n",
       "    .dataframe tbody tr th:only-of-type {\n",
       "        vertical-align: middle;\n",
       "    }\n",
       "\n",
       "    .dataframe tbody tr th {\n",
       "        vertical-align: top;\n",
       "    }\n",
       "\n",
       "    .dataframe thead th {\n",
       "        text-align: right;\n",
       "    }\n",
       "</style>\n",
       "<table border=\"1\" class=\"dataframe\">\n",
       "  <thead>\n",
       "    <tr style=\"text-align: right;\">\n",
       "      <th></th>\n",
       "      <th>activity_year</th>\n",
       "      <th>lei</th>\n",
       "      <th>derived_msa_md</th>\n",
       "      <th>state_code</th>\n",
       "      <th>county_code</th>\n",
       "      <th>census_tract</th>\n",
       "      <th>conforming_loan_limit</th>\n",
       "      <th>derived_loan_product_type</th>\n",
       "      <th>derived_dwelling_category</th>\n",
       "      <th>derived_ethnicity</th>\n",
       "      <th>...</th>\n",
       "      <th>denial_reason_2</th>\n",
       "      <th>denial_reason_3</th>\n",
       "      <th>denial_reason_4</th>\n",
       "      <th>tract_population</th>\n",
       "      <th>tract_minority_population_percent</th>\n",
       "      <th>ffiec_msa_md_median_family_income</th>\n",
       "      <th>tract_to_msa_income_percentage</th>\n",
       "      <th>tract_owner_occupied_units</th>\n",
       "      <th>tract_one_to_four_family_homes</th>\n",
       "      <th>tract_median_age_of_housing_units</th>\n",
       "    </tr>\n",
       "  </thead>\n",
       "  <tbody>\n",
       "    <tr>\n",
       "      <th>0</th>\n",
       "      <td>2019</td>\n",
       "      <td>549300LIZH7VW4DFJK44</td>\n",
       "      <td>44060</td>\n",
       "      <td>WA</td>\n",
       "      <td>53065</td>\n",
       "      <td>53065941000</td>\n",
       "      <td>C</td>\n",
       "      <td>FHA:First Lien</td>\n",
       "      <td>Single Family (1-4 Units):Site-Built</td>\n",
       "      <td>Not Hispanic or Latino</td>\n",
       "      <td>...</td>\n",
       "      <td>NaN</td>\n",
       "      <td>NaN</td>\n",
       "      <td>NaN</td>\n",
       "      <td>2204</td>\n",
       "      <td>85.53</td>\n",
       "      <td>67400</td>\n",
       "      <td>58</td>\n",
       "      <td>517</td>\n",
       "      <td>850</td>\n",
       "      <td>32</td>\n",
       "    </tr>\n",
       "    <tr>\n",
       "      <th>1</th>\n",
       "      <td>2019</td>\n",
       "      <td>549300LIZH7VW4DFJK44</td>\n",
       "      <td>46140</td>\n",
       "      <td>OK</td>\n",
       "      <td>40143</td>\n",
       "      <td>40143007633</td>\n",
       "      <td>C</td>\n",
       "      <td>FHA:First Lien</td>\n",
       "      <td>Single Family (1-4 Units):Site-Built</td>\n",
       "      <td>Not Hispanic or Latino</td>\n",
       "      <td>...</td>\n",
       "      <td>NaN</td>\n",
       "      <td>NaN</td>\n",
       "      <td>NaN</td>\n",
       "      <td>2609</td>\n",
       "      <td>20.35</td>\n",
       "      <td>68600</td>\n",
       "      <td>166</td>\n",
       "      <td>836</td>\n",
       "      <td>1035</td>\n",
       "      <td>32</td>\n",
       "    </tr>\n",
       "    <tr>\n",
       "      <th>2</th>\n",
       "      <td>2019</td>\n",
       "      <td>549300LIZH7VW4DFJK44</td>\n",
       "      <td>99999</td>\n",
       "      <td>OK</td>\n",
       "      <td>40147</td>\n",
       "      <td>40147000600</td>\n",
       "      <td>C</td>\n",
       "      <td>FHA:First Lien</td>\n",
       "      <td>Single Family (1-4 Units):Site-Built</td>\n",
       "      <td>Not Hispanic or Latino</td>\n",
       "      <td>...</td>\n",
       "      <td>NaN</td>\n",
       "      <td>NaN</td>\n",
       "      <td>NaN</td>\n",
       "      <td>7428</td>\n",
       "      <td>20.81</td>\n",
       "      <td>55800</td>\n",
       "      <td>150</td>\n",
       "      <td>2460</td>\n",
       "      <td>3036</td>\n",
       "      <td>38</td>\n",
       "    </tr>\n",
       "    <tr>\n",
       "      <th>3</th>\n",
       "      <td>2019</td>\n",
       "      <td>549300LIZH7VW4DFJK44</td>\n",
       "      <td>36420</td>\n",
       "      <td>OK</td>\n",
       "      <td>40109</td>\n",
       "      <td>40109108900</td>\n",
       "      <td>C</td>\n",
       "      <td>Conventional:First Lien</td>\n",
       "      <td>Single Family (1-4 Units):Site-Built</td>\n",
       "      <td>Not Hispanic or Latino</td>\n",
       "      <td>...</td>\n",
       "      <td>NaN</td>\n",
       "      <td>NaN</td>\n",
       "      <td>NaN</td>\n",
       "      <td>4036</td>\n",
       "      <td>30.43</td>\n",
       "      <td>73100</td>\n",
       "      <td>86</td>\n",
       "      <td>1107</td>\n",
       "      <td>1547</td>\n",
       "      <td>33</td>\n",
       "    </tr>\n",
       "    <tr>\n",
       "      <th>4</th>\n",
       "      <td>2019</td>\n",
       "      <td>549300LIZH7VW4DFJK44</td>\n",
       "      <td>42140</td>\n",
       "      <td>NM</td>\n",
       "      <td>35049</td>\n",
       "      <td>35049940600</td>\n",
       "      <td>C</td>\n",
       "      <td>FHA:First Lien</td>\n",
       "      <td>Single Family (1-4 Units):Site-Built</td>\n",
       "      <td>Hispanic or Latino</td>\n",
       "      <td>...</td>\n",
       "      <td>NaN</td>\n",
       "      <td>NaN</td>\n",
       "      <td>NaN</td>\n",
       "      <td>3673</td>\n",
       "      <td>80.56</td>\n",
       "      <td>73200</td>\n",
       "      <td>89</td>\n",
       "      <td>1057</td>\n",
       "      <td>1523</td>\n",
       "      <td>29</td>\n",
       "    </tr>\n",
       "  </tbody>\n",
       "</table>\n",
       "<p>5 rows × 99 columns</p>\n",
       "</div>"
      ],
      "text/plain": [
       "   activity_year                   lei  derived_msa_md state_code county_code  \\\n",
       "0           2019  549300LIZH7VW4DFJK44           44060         WA       53065   \n",
       "1           2019  549300LIZH7VW4DFJK44           46140         OK       40143   \n",
       "2           2019  549300LIZH7VW4DFJK44           99999         OK       40147   \n",
       "3           2019  549300LIZH7VW4DFJK44           36420         OK       40109   \n",
       "4           2019  549300LIZH7VW4DFJK44           42140         NM       35049   \n",
       "\n",
       "  census_tract conforming_loan_limit derived_loan_product_type  \\\n",
       "0  53065941000                     C            FHA:First Lien   \n",
       "1  40143007633                     C            FHA:First Lien   \n",
       "2  40147000600                     C            FHA:First Lien   \n",
       "3  40109108900                     C   Conventional:First Lien   \n",
       "4  35049940600                     C            FHA:First Lien   \n",
       "\n",
       "              derived_dwelling_category       derived_ethnicity  ...  \\\n",
       "0  Single Family (1-4 Units):Site-Built  Not Hispanic or Latino  ...   \n",
       "1  Single Family (1-4 Units):Site-Built  Not Hispanic or Latino  ...   \n",
       "2  Single Family (1-4 Units):Site-Built  Not Hispanic or Latino  ...   \n",
       "3  Single Family (1-4 Units):Site-Built  Not Hispanic or Latino  ...   \n",
       "4  Single Family (1-4 Units):Site-Built      Hispanic or Latino  ...   \n",
       "\n",
       "  denial_reason_2 denial_reason_3  denial_reason_4  tract_population  \\\n",
       "0             NaN             NaN              NaN              2204   \n",
       "1             NaN             NaN              NaN              2609   \n",
       "2             NaN             NaN              NaN              7428   \n",
       "3             NaN             NaN              NaN              4036   \n",
       "4             NaN             NaN              NaN              3673   \n",
       "\n",
       "   tract_minority_population_percent  ffiec_msa_md_median_family_income  \\\n",
       "0                              85.53                              67400   \n",
       "1                              20.35                              68600   \n",
       "2                              20.81                              55800   \n",
       "3                              30.43                              73100   \n",
       "4                              80.56                              73200   \n",
       "\n",
       "   tract_to_msa_income_percentage  tract_owner_occupied_units  \\\n",
       "0                              58                         517   \n",
       "1                             166                         836   \n",
       "2                             150                        2460   \n",
       "3                              86                        1107   \n",
       "4                              89                        1057   \n",
       "\n",
       "   tract_one_to_four_family_homes  tract_median_age_of_housing_units  \n",
       "0                             850                                 32  \n",
       "1                            1035                                 32  \n",
       "2                            3036                                 38  \n",
       "3                            1547                                 33  \n",
       "4                            1523                                 29  \n",
       "\n",
       "[5 rows x 99 columns]"
      ]
     },
     "execution_count": 9,
     "metadata": {},
     "output_type": "execute_result"
    }
   ],
   "source": [
    "loans.limit(5).toPandas()"
   ]
  },
  {
   "cell_type": "code",
   "execution_count": 10,
   "metadata": {},
   "outputs": [
    {
     "name": "stdout",
     "output_type": "stream",
     "text": [
      "root\n",
      " |-- activity_year: integer (nullable = true)\n",
      " |-- calendar_quarter: integer (nullable = true)\n",
      " |-- lei: string (nullable = true)\n",
      " |-- tax_id: string (nullable = true)\n",
      " |-- agency_code: integer (nullable = true)\n",
      " |-- respondent_name: string (nullable = true)\n",
      " |-- respondent_state: string (nullable = true)\n",
      " |-- respondent_city: string (nullable = true)\n",
      " |-- respondent_zip_code: string (nullable = true)\n",
      " |-- lar_count: integer (nullable = true)\n",
      "\n"
     ]
    },
    {
     "data": {
      "text/html": [
       "<div>\n",
       "<style scoped>\n",
       "    .dataframe tbody tr th:only-of-type {\n",
       "        vertical-align: middle;\n",
       "    }\n",
       "\n",
       "    .dataframe tbody tr th {\n",
       "        vertical-align: top;\n",
       "    }\n",
       "\n",
       "    .dataframe thead th {\n",
       "        text-align: right;\n",
       "    }\n",
       "</style>\n",
       "<table border=\"1\" class=\"dataframe\">\n",
       "  <thead>\n",
       "    <tr style=\"text-align: right;\">\n",
       "      <th></th>\n",
       "      <th>activity_year</th>\n",
       "      <th>calendar_quarter</th>\n",
       "      <th>lei</th>\n",
       "      <th>tax_id</th>\n",
       "      <th>agency_code</th>\n",
       "      <th>respondent_name</th>\n",
       "      <th>respondent_state</th>\n",
       "      <th>respondent_city</th>\n",
       "      <th>respondent_zip_code</th>\n",
       "      <th>lar_count</th>\n",
       "    </tr>\n",
       "  </thead>\n",
       "  <tbody>\n",
       "    <tr>\n",
       "      <th>0</th>\n",
       "      <td>2019</td>\n",
       "      <td>4</td>\n",
       "      <td>5493005HN78XQ5US3306</td>\n",
       "      <td>72-0433983</td>\n",
       "      <td>5</td>\n",
       "      <td>CSE Federal Credit Union</td>\n",
       "      <td>LA</td>\n",
       "      <td>Sulphur</td>\n",
       "      <td>70665</td>\n",
       "      <td>180</td>\n",
       "    </tr>\n",
       "    <tr>\n",
       "      <th>1</th>\n",
       "      <td>2019</td>\n",
       "      <td>4</td>\n",
       "      <td>549300HNQDVXN8569N58</td>\n",
       "      <td>01-0079380</td>\n",
       "      <td>5</td>\n",
       "      <td>cPort Credit Union</td>\n",
       "      <td>ME</td>\n",
       "      <td>Portland</td>\n",
       "      <td>04103</td>\n",
       "      <td>146</td>\n",
       "    </tr>\n",
       "    <tr>\n",
       "      <th>2</th>\n",
       "      <td>2019</td>\n",
       "      <td>4</td>\n",
       "      <td>549300W2DSERWC01YR18</td>\n",
       "      <td>14-1155630</td>\n",
       "      <td>1</td>\n",
       "      <td>Walden Savings Bank</td>\n",
       "      <td>NY</td>\n",
       "      <td>MONTGOMERY</td>\n",
       "      <td>12549</td>\n",
       "      <td>545</td>\n",
       "    </tr>\n",
       "    <tr>\n",
       "      <th>3</th>\n",
       "      <td>2019</td>\n",
       "      <td>4</td>\n",
       "      <td>549300E3X7YDJIUENL65</td>\n",
       "      <td>36-6006909</td>\n",
       "      <td>5</td>\n",
       "      <td>NuMark Credit Union</td>\n",
       "      <td>IL</td>\n",
       "      <td>Joliet</td>\n",
       "      <td>60436</td>\n",
       "      <td>1007</td>\n",
       "    </tr>\n",
       "    <tr>\n",
       "      <th>4</th>\n",
       "      <td>2019</td>\n",
       "      <td>4</td>\n",
       "      <td>549300QTN66CFMVWLH03</td>\n",
       "      <td>41-0400045</td>\n",
       "      <td>5</td>\n",
       "      <td>MAYO EMPLOYEES FEDERAL CREDIT UNION</td>\n",
       "      <td>MN</td>\n",
       "      <td>ROCHESTER</td>\n",
       "      <td>55902</td>\n",
       "      <td>1136</td>\n",
       "    </tr>\n",
       "  </tbody>\n",
       "</table>\n",
       "</div>"
      ],
      "text/plain": [
       "   activity_year  calendar_quarter                   lei      tax_id  \\\n",
       "0           2019                 4  5493005HN78XQ5US3306  72-0433983   \n",
       "1           2019                 4  549300HNQDVXN8569N58  01-0079380   \n",
       "2           2019                 4  549300W2DSERWC01YR18  14-1155630   \n",
       "3           2019                 4  549300E3X7YDJIUENL65  36-6006909   \n",
       "4           2019                 4  549300QTN66CFMVWLH03  41-0400045   \n",
       "\n",
       "   agency_code                      respondent_name respondent_state  \\\n",
       "0            5             CSE Federal Credit Union               LA   \n",
       "1            5                   cPort Credit Union               ME   \n",
       "2            1                  Walden Savings Bank               NY   \n",
       "3            5                  NuMark Credit Union               IL   \n",
       "4            5  MAYO EMPLOYEES FEDERAL CREDIT UNION               MN   \n",
       "\n",
       "  respondent_city respondent_zip_code  lar_count  \n",
       "0         Sulphur               70665        180  \n",
       "1        Portland               04103        146  \n",
       "2      MONTGOMERY               12549        545  \n",
       "3          Joliet               60436       1007  \n",
       "4       ROCHESTER               55902       1136  "
      ]
     },
     "execution_count": 10,
     "metadata": {},
     "output_type": "execute_result"
    }
   ],
   "source": [
    "institutions = (spark.read.format(\"csv\")\n",
    "    .option(\"header\", \"true\")\n",
    "    .option(\"delimiter\", \"|\")\n",
    "    .option(\"inferSchema\", \"true\")\n",
    "    .load(\"../loans/2019_ts.txt\"))\n",
    "\n",
    "institutions.printSchema()\n",
    "institutions.limit(5).toPandas()"
   ]
  },
  {
   "cell_type": "code",
   "execution_count": 11,
   "metadata": {},
   "outputs": [],
   "source": [
    "from pyspark.sql import *\n",
    "\n",
    "institutions.registerTempTable('Institutions')\n",
    "loans_2019.registerTempTable('Loans2019')\n",
    "loans_2018.registerTempTable('Loans2018')\n",
    "loans.registerTempTable('Loans')"
   ]
  },
  {
   "cell_type": "markdown",
   "metadata": {},
   "source": [
    "### Exploration"
   ]
  },
  {
   "cell_type": "code",
   "execution_count": 12,
   "metadata": {},
   "outputs": [
    {
     "name": "stdout",
     "output_type": "stream",
     "text": [
      "+--------+\n",
      "|count(1)|\n",
      "+--------+\n",
      "|5525    |\n",
      "+--------+\n",
      "\n"
     ]
    }
   ],
   "source": [
    "query = \"\"\" SELECT COUNT(*)\n",
    "            FROM Institutions \"\"\"\n",
    "spark.sql(query).show(truncate = False)"
   ]
  },
  {
   "cell_type": "code",
   "execution_count": 13,
   "metadata": {},
   "outputs": [
    {
     "name": "stdout",
     "output_type": "stream",
     "text": [
      "+-----------------+\n",
      "|Average_Loan_2019|\n",
      "+-----------------+\n",
      "|268214.9277356263|\n",
      "+-----------------+\n",
      "\n",
      "+-----------------+\n",
      "|Average_Loan_2018|\n",
      "+-----------------+\n",
      "|241037.3535739489|\n",
      "+-----------------+\n",
      "\n"
     ]
    }
   ],
   "source": [
    "query = \"\"\" SELECT AVG(loan_amount) AS Average_Loan_2019\n",
    "            FROM Loans2019 \"\"\"\n",
    "spark.sql(query).show(truncate = False)\n",
    "\n",
    "query = \"\"\" SELECT AVG(loan_amount) AS Average_Loan_2018\n",
    "            FROM Loans2018 \"\"\"\n",
    "spark.sql(query).show(truncate = False)"
   ]
  },
  {
   "cell_type": "markdown",
   "metadata": {},
   "source": [
    "The above query shows the average loan amount applied for in each year."
   ]
  },
  {
   "cell_type": "code",
   "execution_count": 14,
   "metadata": {},
   "outputs": [
    {
     "name": "stdout",
     "output_type": "stream",
     "text": [
      "+--------------------+----------------------------------------------+--------------------+\n",
      "|Institution_ID      |Name                                          |Average_Loan        |\n",
      "+--------------------+----------------------------------------------+--------------------+\n",
      "|1DU7IM20QESYGDO4HO54|The Northwestern Mutual Life Insurance Company|6.189032258064516E7 |\n",
      "|C4BXATY60WC6XEOZDX54|Metropolitan Life Insurance Co                |5.688422535211267E7 |\n",
      "|7LTWFZYICNSX8D621K86|Deutsche Bank AG                              |5.543406976744186E7 |\n",
      "|B2S31CFVSWTN3FR00Q90|PGIM Real Estate Finance, LLC                 |3.611929824561404E7 |\n",
      "|CUMYEZJOAF02RYZ1JJ85|Principal Financial Group                     |3.01139010989011E7  |\n",
      "|549300J5WHZ3UBAKJW15|Prudential Affordable Mortgage Company, LLC   |2.909069536423841E7 |\n",
      "|549300IBT3SCF2K09D58|CBRE Multifamily Capital, Inc.                |2.614407894736842E7 |\n",
      "|549300RDGRWJXEQOEC49|Prudential Multifamily Mortgage, LLC.         |2.526874251497006E7 |\n",
      "|549300HINJH60UG3KG47|Berkeley Point Capital LLC                    |2.4245233050847456E7|\n",
      "|AM9FLTUTLEC73M6N7I37|Nationwide Life Insurance Company             |2.3648076923076924E7|\n",
      "+--------------------+----------------------------------------------+--------------------+\n",
      "\n"
     ]
    }
   ],
   "source": [
    "query = \"\"\" WITH top10 AS (SELECT lei AS Institution_ID, AVG(loan_amount) AS Average_Loan\n",
    "                           FROM Loans \n",
    "                           GROUP BY lei\n",
    "                           ORDER BY Average_Loan DESC \n",
    "                           LIMIT 10) \n",
    "            \n",
    "            SELECT top10.Institution_ID, Institutions.respondent_name AS Name, top10.Average_Loan\n",
    "            FROM top10\n",
    "            LEFT JOIN Institutions ON top10.Institution_ID = Institutions.lei \"\"\"\n",
    "spark.sql(query).show(truncate = False)"
   ]
  },
  {
   "cell_type": "markdown",
   "metadata": {},
   "source": [
    "The above query shows the top 10 banks/financial institutions with the highest average loan amount applied for."
   ]
  },
  {
   "cell_type": "code",
   "execution_count": 15,
   "metadata": {},
   "outputs": [
    {
     "name": "stdout",
     "output_type": "stream",
     "text": [
      "+-----------+\n",
      "|total_count|\n",
      "+-----------+\n",
      "|22237131   |\n",
      "+-----------+\n",
      "\n"
     ]
    }
   ],
   "source": [
    "query = \"\"\" SELECT COUNT(*) AS total_count\n",
    "            FROM Loans \n",
    "            WHERE action_taken IN (1, 2, 3, 5, 8) AND loan_purpose IN (1, 2, 31, 32) \"\"\"\n",
    "\n",
    "spark.sql(query).show(truncate = False)"
   ]
  },
  {
   "cell_type": "markdown",
   "metadata": {},
   "source": [
    "The above query shows the total number of loans approved or denied based on the values explained in the \n",
    "data definitions. This does not include the records that were denied for being incomplete or those not processed \n",
    "due to applicants withdrawing consideration."
   ]
  },
  {
   "cell_type": "code",
   "execution_count": 16,
   "metadata": {},
   "outputs": [
    {
     "name": "stdout",
     "output_type": "stream",
     "text": [
      "+-----------------------------------------+--------+-------------------+\n",
      "|derived_race                             |approved|percentage         |\n",
      "+-----------------------------------------+--------+-------------------+\n",
      "|2 or more minority races                 |1       |0.5929314976494291 |\n",
      "|2 or more minority races                 |0       |0.40706850235057085|\n",
      "|American Indian or Alaska Native         |0       |0.4113604204568425 |\n",
      "|American Indian or Alaska Native         |1       |0.5886395795431575 |\n",
      "|Asian                                    |0       |0.23828686619630318|\n",
      "|Asian                                    |1       |0.7617131338036969 |\n",
      "|Black or African American                |0       |0.378879598130544  |\n",
      "|Black or African American                |1       |0.621120401869456  |\n",
      "|Joint                                    |0       |0.2139335192525951 |\n",
      "|Joint                                    |1       |0.7860664807474049 |\n",
      "|Native Hawaiian or Other Pacific Islander|1       |0.6015918398887258 |\n",
      "|Native Hawaiian or Other Pacific Islander|0       |0.3984081601112742 |\n",
      "|White                                    |0       |0.21892794015794526|\n",
      "|White                                    |1       |0.7810720598420547 |\n",
      "+-----------------------------------------+--------+-------------------+\n",
      "\n"
     ]
    }
   ],
   "source": [
    "query = \"\"\" WITH x AS (\n",
    "                SELECT *, \n",
    "                CASE\n",
    "                    WHEN action_taken IN (3, 5) THEN 0\n",
    "                    WHEN action_taken IN (1, 2, 8) THEN 1\n",
    "                END AS approved\n",
    "                FROM Loans \n",
    "                WHERE action_taken IN (1, 2, 3, 5, 8) AND loan_purpose IN (1, 2, 31, 32) AND \n",
    "                      derived_race NOT IN ('Race Not Available', 'Free Form Text Only') \n",
    "            ), y AS (\n",
    "                SELECT derived_race, COUNT(approved) as cnt, approved\n",
    "                FROM x \n",
    "                GROUP BY derived_race, approved \n",
    "                ORDER BY derived_race) \n",
    "            \n",
    "            SELECT derived_race, approved, cnt / SUM(cnt) OVER(PARTITION BY derived_race) AS percentage\n",
    "            FROM y \"\"\"\n",
    "\n",
    "spark.sql(query).show(truncate = False)"
   ]
  },
  {
   "cell_type": "markdown",
   "metadata": {},
   "source": [
    "The above query shows the percentages of loan approval & denial for each race."
   ]
  },
  {
   "cell_type": "markdown",
   "metadata": {},
   "source": [
    "### Preprocessing"
   ]
  },
  {
   "cell_type": "code",
   "execution_count": 17,
   "metadata": {},
   "outputs": [
    {
     "name": "stdout",
     "output_type": "stream",
     "text": [
      "+--------+--------+\n",
      "|approved|   count|\n",
      "+--------+--------+\n",
      "|       1|16857273|\n",
      "|       0| 5379858|\n",
      "+--------+--------+\n",
      "\n"
     ]
    }
   ],
   "source": [
    "import pyspark.sql.functions as F\n",
    "from pyspark.sql.types import *\n",
    "\n",
    "features = ['derived_race', 'derived_sex', 'purchaser_type', 'loan_type', 'loan_amount', \n",
    "            'loan_term', 'occupancy_type', 'income', 'debt_to_income_ratio', 'applicant_age', \n",
    "            'discount_points', 'business_or_commercial_purpose', 'state_code', 'preapproval', 'loan_purpose']\n",
    "target = ['approved']\n",
    "\n",
    "def check_approval(num):\n",
    "    if num in (1, 2, 8):\n",
    "        return 1\n",
    "    elif num in (3, 5):\n",
    "        return 0\n",
    "    \n",
    "def remove_features(column):\n",
    "    return (column not in features) and (column not in target)\n",
    "    \n",
    "func = F.udf(check_approval, IntegerType())\n",
    "\n",
    "query = \"\"\" SELECT * \n",
    "            FROM Loans \n",
    "            WHERE action_taken IN (1, 2, 3, 5, 8) AND loan_purpose IN (1, 2, 31, 32) \"\"\"\n",
    "filtered = spark.sql(query)\n",
    "loans_adjusted = filtered.withColumn(\"approved\", func(\"action_taken\"))\n",
    "\n",
    "dropped_features = list(filter(remove_features, loans_adjusted.columns))\n",
    "df = loans_adjusted.drop(*dropped_features)\n",
    "df.groupBy('approved').count().show()"
   ]
  },
  {
   "cell_type": "code",
   "execution_count": 18,
   "metadata": {
    "scrolled": true
   },
   "outputs": [
    {
     "data": {
      "text/html": [
       "<div>\n",
       "<style scoped>\n",
       "    .dataframe tbody tr th:only-of-type {\n",
       "        vertical-align: middle;\n",
       "    }\n",
       "\n",
       "    .dataframe tbody tr th {\n",
       "        vertical-align: top;\n",
       "    }\n",
       "\n",
       "    .dataframe thead th {\n",
       "        text-align: right;\n",
       "    }\n",
       "</style>\n",
       "<table border=\"1\" class=\"dataframe\">\n",
       "  <thead>\n",
       "    <tr style=\"text-align: right;\">\n",
       "      <th></th>\n",
       "      <th>state_code</th>\n",
       "      <th>derived_race</th>\n",
       "      <th>derived_sex</th>\n",
       "      <th>purchaser_type</th>\n",
       "      <th>preapproval</th>\n",
       "      <th>loan_type</th>\n",
       "      <th>loan_purpose</th>\n",
       "      <th>business_or_commercial_purpose</th>\n",
       "      <th>loan_amount</th>\n",
       "      <th>discount_points</th>\n",
       "      <th>loan_term</th>\n",
       "      <th>occupancy_type</th>\n",
       "      <th>income</th>\n",
       "      <th>debt_to_income_ratio</th>\n",
       "      <th>applicant_age</th>\n",
       "      <th>approved</th>\n",
       "    </tr>\n",
       "  </thead>\n",
       "  <tbody>\n",
       "    <tr>\n",
       "      <th>0</th>\n",
       "      <td>WA</td>\n",
       "      <td>American Indian or Alaska Native</td>\n",
       "      <td>Joint</td>\n",
       "      <td>0</td>\n",
       "      <td>2</td>\n",
       "      <td>2</td>\n",
       "      <td>31</td>\n",
       "      <td>2</td>\n",
       "      <td>135000.0</td>\n",
       "      <td>NA</td>\n",
       "      <td>180</td>\n",
       "      <td>1</td>\n",
       "      <td>61</td>\n",
       "      <td>20%-&lt;30%</td>\n",
       "      <td>55-64</td>\n",
       "      <td>0</td>\n",
       "    </tr>\n",
       "    <tr>\n",
       "      <th>1</th>\n",
       "      <td>OK</td>\n",
       "      <td>White</td>\n",
       "      <td>Joint</td>\n",
       "      <td>0</td>\n",
       "      <td>2</td>\n",
       "      <td>2</td>\n",
       "      <td>1</td>\n",
       "      <td>2</td>\n",
       "      <td>215000.0</td>\n",
       "      <td>NA</td>\n",
       "      <td>360</td>\n",
       "      <td>1</td>\n",
       "      <td>82</td>\n",
       "      <td>40</td>\n",
       "      <td>25-34</td>\n",
       "      <td>0</td>\n",
       "    </tr>\n",
       "    <tr>\n",
       "      <th>2</th>\n",
       "      <td>OK</td>\n",
       "      <td>Joint</td>\n",
       "      <td>Joint</td>\n",
       "      <td>0</td>\n",
       "      <td>2</td>\n",
       "      <td>2</td>\n",
       "      <td>2</td>\n",
       "      <td>2</td>\n",
       "      <td>35000.0</td>\n",
       "      <td>NA</td>\n",
       "      <td>180</td>\n",
       "      <td>1</td>\n",
       "      <td>125</td>\n",
       "      <td>30%-&lt;36%</td>\n",
       "      <td>55-64</td>\n",
       "      <td>0</td>\n",
       "    </tr>\n",
       "    <tr>\n",
       "      <th>3</th>\n",
       "      <td>OK</td>\n",
       "      <td>White</td>\n",
       "      <td>Male</td>\n",
       "      <td>1</td>\n",
       "      <td>2</td>\n",
       "      <td>1</td>\n",
       "      <td>31</td>\n",
       "      <td>2</td>\n",
       "      <td>345000.0</td>\n",
       "      <td>4600.2</td>\n",
       "      <td>360</td>\n",
       "      <td>1</td>\n",
       "      <td>153</td>\n",
       "      <td>20%-&lt;30%</td>\n",
       "      <td>25-34</td>\n",
       "      <td>1</td>\n",
       "    </tr>\n",
       "    <tr>\n",
       "      <th>4</th>\n",
       "      <td>AK</td>\n",
       "      <td>American Indian or Alaska Native</td>\n",
       "      <td>Female</td>\n",
       "      <td>2</td>\n",
       "      <td>2</td>\n",
       "      <td>2</td>\n",
       "      <td>1</td>\n",
       "      <td>2</td>\n",
       "      <td>135000.0</td>\n",
       "      <td>2461.37</td>\n",
       "      <td>360</td>\n",
       "      <td>1</td>\n",
       "      <td>34</td>\n",
       "      <td>36</td>\n",
       "      <td>55-64</td>\n",
       "      <td>1</td>\n",
       "    </tr>\n",
       "  </tbody>\n",
       "</table>\n",
       "</div>"
      ],
      "text/plain": [
       "  state_code                      derived_race derived_sex  purchaser_type  \\\n",
       "0         WA  American Indian or Alaska Native       Joint               0   \n",
       "1         OK                             White       Joint               0   \n",
       "2         OK                             Joint       Joint               0   \n",
       "3         OK                             White        Male               1   \n",
       "4         AK  American Indian or Alaska Native      Female               2   \n",
       "\n",
       "   preapproval  loan_type  loan_purpose  business_or_commercial_purpose  \\\n",
       "0            2          2            31                               2   \n",
       "1            2          2             1                               2   \n",
       "2            2          2             2                               2   \n",
       "3            2          1            31                               2   \n",
       "4            2          2             1                               2   \n",
       "\n",
       "   loan_amount discount_points loan_term  occupancy_type income  \\\n",
       "0     135000.0              NA       180               1     61   \n",
       "1     215000.0              NA       360               1     82   \n",
       "2      35000.0              NA       180               1    125   \n",
       "3     345000.0          4600.2       360               1    153   \n",
       "4     135000.0         2461.37       360               1     34   \n",
       "\n",
       "  debt_to_income_ratio applicant_age  approved  \n",
       "0             20%-<30%         55-64         0  \n",
       "1                   40         25-34         0  \n",
       "2             30%-<36%         55-64         0  \n",
       "3             20%-<30%         25-34         1  \n",
       "4                   36         55-64         1  "
      ]
     },
     "execution_count": 18,
     "metadata": {},
     "output_type": "execute_result"
    }
   ],
   "source": [
    "pd.DataFrame(df.take(5), columns = df.columns)"
   ]
  },
  {
   "cell_type": "code",
   "execution_count": 19,
   "metadata": {},
   "outputs": [
    {
     "name": "stdout",
     "output_type": "stream",
     "text": [
      "root\n",
      " |-- state_code: string (nullable = true)\n",
      " |-- derived_race: string (nullable = true)\n",
      " |-- derived_sex: string (nullable = true)\n",
      " |-- purchaser_type: integer (nullable = true)\n",
      " |-- preapproval: integer (nullable = true)\n",
      " |-- loan_type: integer (nullable = true)\n",
      " |-- loan_purpose: integer (nullable = true)\n",
      " |-- business_or_commercial_purpose: integer (nullable = true)\n",
      " |-- loan_amount: double (nullable = true)\n",
      " |-- discount_points: string (nullable = true)\n",
      " |-- loan_term: string (nullable = true)\n",
      " |-- occupancy_type: integer (nullable = true)\n",
      " |-- income: string (nullable = true)\n",
      " |-- debt_to_income_ratio: string (nullable = true)\n",
      " |-- applicant_age: string (nullable = true)\n",
      " |-- approved: integer (nullable = true)\n",
      "\n"
     ]
    }
   ],
   "source": [
    "from pyspark.sql.functions import isnan, when, count, col\n",
    "\n",
    "df.registerTempTable('Filtered')\n",
    "df.printSchema()"
   ]
  },
  {
   "cell_type": "code",
   "execution_count": 20,
   "metadata": {},
   "outputs": [],
   "source": [
    "query = \"\"\" SELECT derived_race, derived_sex, purchaser_type, loan_type, \n",
    "                   business_or_commercial_purpose, INT(loan_amount), \n",
    "                   INT(discount_points), INT(loan_term), occupancy_type, \n",
    "                   INT(income), debt_to_income_ratio, applicant_age, \n",
    "                   state_code, preapproval, loan_purpose, approved\n",
    "            FROM Filtered \"\"\"\n",
    "\n",
    "df = spark.sql(query)\n",
    "df.registerTempTable('Filtered')"
   ]
  },
  {
   "cell_type": "code",
   "execution_count": 21,
   "metadata": {},
   "outputs": [
    {
     "name": "stdout",
     "output_type": "stream",
     "text": [
      "+--------+--------+\n",
      "|count(1)|dtir    |\n",
      "+--------+--------+\n",
      "|712969  |Exempt  |\n",
      "|1018561 |>60%    |\n",
      "|1374671 |<20%    |\n",
      "|1537139 |50%-60% |\n",
      "|2536758 |NA      |\n",
      "|3362287 |20%-<30%|\n",
      "|5531171 |30%-<40%|\n",
      "|6163575 |40%-<50%|\n",
      "+--------+--------+\n",
      "\n"
     ]
    }
   ],
   "source": [
    "query = \"\"\" SELECT COUNT(*), \n",
    "            CASE\n",
    "                WHEN debt_to_income_ratio IN ('30%-<36%', '36', '37', '38', '39') THEN '30%-<40%'\n",
    "                WHEN debt_to_income_ratio IN ('40', '41', '42', '43', '44', '45', '46', '47', '48', '49') THEN '40%-<50%'\n",
    "                ELSE debt_to_income_ratio\n",
    "            END AS dtir\n",
    "            FROM Filtered \n",
    "            GROUP BY dtir\n",
    "            ORDER BY COUNT(*) \"\"\"\n",
    "\n",
    "spark.sql(query).show(truncate = False)"
   ]
  },
  {
   "cell_type": "code",
   "execution_count": 22,
   "metadata": {},
   "outputs": [
    {
     "data": {
      "text/plain": [
       "17228367"
      ]
     },
     "execution_count": 22,
     "metadata": {},
     "output_type": "execute_result"
    }
   ],
   "source": [
    "query = \"\"\" SELECT derived_race, derived_sex, purchaser_type, loan_type, \n",
    "                   business_or_commercial_purpose, loan_amount,  loan_term,  \n",
    "                   occupancy_type, income, applicant_age, state_code, preapproval, loan_purpose, approved,\n",
    "            CASE \n",
    "                WHEN discount_points IS NULL THEN 0\n",
    "                ELSE discount_points\n",
    "            END AS discount_pts,\n",
    "            CASE\n",
    "                WHEN debt_to_income_ratio IN ('30%-<36%', '36', '37', '38', '39') THEN '30%-<40%'\n",
    "                WHEN debt_to_income_ratio IN ('40', '41', '42', '43', '44', '45', '46', '47', '48', '49') THEN '40%-<50%'\n",
    "                ELSE debt_to_income_ratio\n",
    "            END AS dtir\n",
    "            FROM Filtered \n",
    "            WHERE loan_amount IS NOT NULL AND derived_race NOT IN ('Race Not Available', 'Free Form Text Only') AND \n",
    "                  loan_term IS NOT NULL AND applicant_age NOT IN (8888, 9999) AND income IS NOT NULL AND income > 0 \"\"\"\n",
    "\n",
    "df = spark.sql(query)\n",
    "df.count()"
   ]
  },
  {
   "cell_type": "code",
   "execution_count": 23,
   "metadata": {},
   "outputs": [],
   "source": [
    "approved_ratio = 0.76\n",
    "\n",
    "def balance_class_weights(labels):\n",
    "    return when(labels == 0, approved_ratio).otherwise(1 * (1 - approved_ratio))\n",
    "\n",
    "df = df.withColumn('weights', balance_class_weights(col('approved')))"
   ]
  },
  {
   "cell_type": "code",
   "execution_count": 24,
   "metadata": {},
   "outputs": [
    {
     "name": "stdout",
     "output_type": "stream",
     "text": [
      "root\n",
      " |-- derived_race: string (nullable = true)\n",
      " |-- derived_sex: string (nullable = true)\n",
      " |-- purchaser_type: integer (nullable = true)\n",
      " |-- loan_type: integer (nullable = true)\n",
      " |-- business_or_commercial_purpose: integer (nullable = true)\n",
      " |-- loan_amount: integer (nullable = true)\n",
      " |-- loan_term: integer (nullable = true)\n",
      " |-- occupancy_type: integer (nullable = true)\n",
      " |-- income: integer (nullable = true)\n",
      " |-- applicant_age: string (nullable = true)\n",
      " |-- state_code: string (nullable = true)\n",
      " |-- preapproval: integer (nullable = true)\n",
      " |-- loan_purpose: integer (nullable = true)\n",
      " |-- approved: integer (nullable = true)\n",
      " |-- discount_pts: integer (nullable = true)\n",
      " |-- dtir: string (nullable = true)\n",
      " |-- weights: double (nullable = false)\n",
      "\n"
     ]
    }
   ],
   "source": [
    "df.printSchema()"
   ]
  },
  {
   "cell_type": "code",
   "execution_count": 25,
   "metadata": {},
   "outputs": [],
   "source": [
    "from pyspark.ml.feature import VectorAssembler\n",
    "from pyspark.ml.feature import StandardScaler\n",
    "\n",
    "assembler = VectorAssembler(inputCols = ['loan_amount', 'income', 'discount_pts'], outputCol = 'continuous_features_vector')\n",
    "df = assembler.transform(df)\n",
    "\n",
    "standard_scaler = StandardScaler().setInputCol('continuous_features_vector').setOutputCol('continuous_features_scaled')\n",
    "df_scaled = standard_scaler.fit(df).transform(df)"
   ]
  },
  {
   "cell_type": "code",
   "execution_count": 26,
   "metadata": {},
   "outputs": [
    {
     "data": {
      "text/html": [
       "<div>\n",
       "<style scoped>\n",
       "    .dataframe tbody tr th:only-of-type {\n",
       "        vertical-align: middle;\n",
       "    }\n",
       "\n",
       "    .dataframe tbody tr th {\n",
       "        vertical-align: top;\n",
       "    }\n",
       "\n",
       "    .dataframe thead th {\n",
       "        text-align: right;\n",
       "    }\n",
       "</style>\n",
       "<table border=\"1\" class=\"dataframe\">\n",
       "  <thead>\n",
       "    <tr style=\"text-align: right;\">\n",
       "      <th></th>\n",
       "      <th>derived_race</th>\n",
       "      <th>derived_sex</th>\n",
       "      <th>purchaser_type</th>\n",
       "      <th>loan_type</th>\n",
       "      <th>business_or_commercial_purpose</th>\n",
       "      <th>loan_amount</th>\n",
       "      <th>loan_term</th>\n",
       "      <th>occupancy_type</th>\n",
       "      <th>income</th>\n",
       "      <th>applicant_age</th>\n",
       "      <th>state_code</th>\n",
       "      <th>preapproval</th>\n",
       "      <th>loan_purpose</th>\n",
       "      <th>approved</th>\n",
       "      <th>discount_pts</th>\n",
       "      <th>dtir</th>\n",
       "      <th>weights</th>\n",
       "      <th>continuous_features_vector</th>\n",
       "      <th>continuous_features_scaled</th>\n",
       "    </tr>\n",
       "  </thead>\n",
       "  <tbody>\n",
       "    <tr>\n",
       "      <th>0</th>\n",
       "      <td>American Indian or Alaska Native</td>\n",
       "      <td>Joint</td>\n",
       "      <td>0</td>\n",
       "      <td>2</td>\n",
       "      <td>2</td>\n",
       "      <td>135000</td>\n",
       "      <td>180</td>\n",
       "      <td>1</td>\n",
       "      <td>61</td>\n",
       "      <td>55-64</td>\n",
       "      <td>WA</td>\n",
       "      <td>2</td>\n",
       "      <td>31</td>\n",
       "      <td>0</td>\n",
       "      <td>0</td>\n",
       "      <td>20%-&lt;30%</td>\n",
       "      <td>0.76</td>\n",
       "      <td>[135000.0, 61.0, 0.0]</td>\n",
       "      <td>[0.1725648471579141, 0.01165464902967626, 0.0]</td>\n",
       "    </tr>\n",
       "    <tr>\n",
       "      <th>1</th>\n",
       "      <td>White</td>\n",
       "      <td>Joint</td>\n",
       "      <td>0</td>\n",
       "      <td>2</td>\n",
       "      <td>2</td>\n",
       "      <td>215000</td>\n",
       "      <td>360</td>\n",
       "      <td>1</td>\n",
       "      <td>82</td>\n",
       "      <td>25-34</td>\n",
       "      <td>OK</td>\n",
       "      <td>2</td>\n",
       "      <td>1</td>\n",
       "      <td>0</td>\n",
       "      <td>0</td>\n",
       "      <td>40%-&lt;50%</td>\n",
       "      <td>0.76</td>\n",
       "      <td>[215000.0, 82.0, 0.0]</td>\n",
       "      <td>[0.2748254973255669, 0.01566690525300743, 0.0]</td>\n",
       "    </tr>\n",
       "    <tr>\n",
       "      <th>2</th>\n",
       "      <td>Joint</td>\n",
       "      <td>Joint</td>\n",
       "      <td>0</td>\n",
       "      <td>2</td>\n",
       "      <td>2</td>\n",
       "      <td>35000</td>\n",
       "      <td>180</td>\n",
       "      <td>1</td>\n",
       "      <td>125</td>\n",
       "      <td>55-64</td>\n",
       "      <td>OK</td>\n",
       "      <td>2</td>\n",
       "      <td>2</td>\n",
       "      <td>0</td>\n",
       "      <td>0</td>\n",
       "      <td>30%-&lt;40%</td>\n",
       "      <td>0.76</td>\n",
       "      <td>[35000.0, 125.0, 0.0]</td>\n",
       "      <td>[0.0447390344483481, 0.023882477519828398, 0.0]</td>\n",
       "    </tr>\n",
       "    <tr>\n",
       "      <th>3</th>\n",
       "      <td>White</td>\n",
       "      <td>Male</td>\n",
       "      <td>1</td>\n",
       "      <td>1</td>\n",
       "      <td>2</td>\n",
       "      <td>345000</td>\n",
       "      <td>360</td>\n",
       "      <td>1</td>\n",
       "      <td>153</td>\n",
       "      <td>25-34</td>\n",
       "      <td>OK</td>\n",
       "      <td>2</td>\n",
       "      <td>31</td>\n",
       "      <td>1</td>\n",
       "      <td>4600</td>\n",
       "      <td>20%-&lt;30%</td>\n",
       "      <td>0.24</td>\n",
       "      <td>[345000.0, 153.0, 4600.0]</td>\n",
       "      <td>[0.4409990538480027, 0.029232152484269962, 3.251283374541778]</td>\n",
       "    </tr>\n",
       "    <tr>\n",
       "      <th>4</th>\n",
       "      <td>American Indian or Alaska Native</td>\n",
       "      <td>Female</td>\n",
       "      <td>2</td>\n",
       "      <td>2</td>\n",
       "      <td>2</td>\n",
       "      <td>135000</td>\n",
       "      <td>360</td>\n",
       "      <td>1</td>\n",
       "      <td>34</td>\n",
       "      <td>55-64</td>\n",
       "      <td>AK</td>\n",
       "      <td>2</td>\n",
       "      <td>1</td>\n",
       "      <td>1</td>\n",
       "      <td>2461</td>\n",
       "      <td>30%-&lt;40%</td>\n",
       "      <td>0.24</td>\n",
       "      <td>[135000.0, 34.0, 2461.0]</td>\n",
       "      <td>[0.1725648471579141, 0.006496033885393325, 1.7394366053798511]</td>\n",
       "    </tr>\n",
       "  </tbody>\n",
       "</table>\n",
       "</div>"
      ],
      "text/plain": [
       "                       derived_race derived_sex  purchaser_type  loan_type  \\\n",
       "0  American Indian or Alaska Native       Joint               0          2   \n",
       "1                             White       Joint               0          2   \n",
       "2                             Joint       Joint               0          2   \n",
       "3                             White        Male               1          1   \n",
       "4  American Indian or Alaska Native      Female               2          2   \n",
       "\n",
       "   business_or_commercial_purpose  loan_amount  loan_term  occupancy_type  \\\n",
       "0                               2       135000        180               1   \n",
       "1                               2       215000        360               1   \n",
       "2                               2        35000        180               1   \n",
       "3                               2       345000        360               1   \n",
       "4                               2       135000        360               1   \n",
       "\n",
       "   income applicant_age state_code  preapproval  loan_purpose  approved  \\\n",
       "0      61         55-64         WA            2            31         0   \n",
       "1      82         25-34         OK            2             1         0   \n",
       "2     125         55-64         OK            2             2         0   \n",
       "3     153         25-34         OK            2            31         1   \n",
       "4      34         55-64         AK            2             1         1   \n",
       "\n",
       "   discount_pts      dtir  weights continuous_features_vector  \\\n",
       "0             0  20%-<30%     0.76      [135000.0, 61.0, 0.0]   \n",
       "1             0  40%-<50%     0.76      [215000.0, 82.0, 0.0]   \n",
       "2             0  30%-<40%     0.76      [35000.0, 125.0, 0.0]   \n",
       "3          4600  20%-<30%     0.24  [345000.0, 153.0, 4600.0]   \n",
       "4          2461  30%-<40%     0.24   [135000.0, 34.0, 2461.0]   \n",
       "\n",
       "                                       continuous_features_scaled  \n",
       "0                  [0.1725648471579141, 0.01165464902967626, 0.0]  \n",
       "1                  [0.2748254973255669, 0.01566690525300743, 0.0]  \n",
       "2                 [0.0447390344483481, 0.023882477519828398, 0.0]  \n",
       "3   [0.4409990538480027, 0.029232152484269962, 3.251283374541778]  \n",
       "4  [0.1725648471579141, 0.006496033885393325, 1.7394366053798511]  "
      ]
     },
     "execution_count": 26,
     "metadata": {},
     "output_type": "execute_result"
    }
   ],
   "source": [
    "pd.DataFrame(df_scaled.take(5), columns = df_scaled.columns)"
   ]
  },
  {
   "cell_type": "code",
   "execution_count": 27,
   "metadata": {},
   "outputs": [],
   "source": [
    "from pyspark.ml import Pipeline\n",
    "from pyspark.ml.feature import OneHotEncoder, StringIndexer\n",
    "\n",
    "categorical_columns_str = ['derived_race', 'derived_sex', 'applicant_age', \n",
    "                           'state_code', 'dtir']\n",
    "categorical_columns_num = ['purchaser_type', 'loan_type', 'business_or_commercial_purpose',\n",
    "                           'loan_term', 'preapproval', 'occupancy_type', 'loan_purpose']\n",
    "stages = []\n",
    "\n",
    "for column in categorical_columns_str:\n",
    "    stringIndexer = StringIndexer(inputCol = column, outputCol = column + 'Index')\n",
    "    stages += [stringIndexer]"
   ]
  },
  {
   "cell_type": "markdown",
   "metadata": {},
   "source": [
    "Here, the categorical features are indexed by each unique string or number and prepared for target/mean encoding."
   ]
  },
  {
   "cell_type": "code",
   "execution_count": 28,
   "metadata": {},
   "outputs": [
    {
     "data": {
      "text/html": [
       "<div>\n",
       "<style scoped>\n",
       "    .dataframe tbody tr th:only-of-type {\n",
       "        vertical-align: middle;\n",
       "    }\n",
       "\n",
       "    .dataframe tbody tr th {\n",
       "        vertical-align: top;\n",
       "    }\n",
       "\n",
       "    .dataframe thead th {\n",
       "        text-align: right;\n",
       "    }\n",
       "</style>\n",
       "<table border=\"1\" class=\"dataframe\">\n",
       "  <thead>\n",
       "    <tr style=\"text-align: right;\">\n",
       "      <th></th>\n",
       "      <th>0</th>\n",
       "      <th>1</th>\n",
       "      <th>2</th>\n",
       "      <th>3</th>\n",
       "      <th>4</th>\n",
       "    </tr>\n",
       "  </thead>\n",
       "  <tbody>\n",
       "    <tr>\n",
       "      <th>derived_race</th>\n",
       "      <td>American Indian or Alaska Native</td>\n",
       "      <td>White</td>\n",
       "      <td>Joint</td>\n",
       "      <td>White</td>\n",
       "      <td>American Indian or Alaska Native</td>\n",
       "    </tr>\n",
       "    <tr>\n",
       "      <th>derived_sex</th>\n",
       "      <td>Joint</td>\n",
       "      <td>Joint</td>\n",
       "      <td>Joint</td>\n",
       "      <td>Male</td>\n",
       "      <td>Female</td>\n",
       "    </tr>\n",
       "    <tr>\n",
       "      <th>purchaser_type</th>\n",
       "      <td>0</td>\n",
       "      <td>0</td>\n",
       "      <td>0</td>\n",
       "      <td>1</td>\n",
       "      <td>2</td>\n",
       "    </tr>\n",
       "    <tr>\n",
       "      <th>loan_type</th>\n",
       "      <td>2</td>\n",
       "      <td>2</td>\n",
       "      <td>2</td>\n",
       "      <td>1</td>\n",
       "      <td>2</td>\n",
       "    </tr>\n",
       "    <tr>\n",
       "      <th>business_or_commercial_purpose</th>\n",
       "      <td>2</td>\n",
       "      <td>2</td>\n",
       "      <td>2</td>\n",
       "      <td>2</td>\n",
       "      <td>2</td>\n",
       "    </tr>\n",
       "    <tr>\n",
       "      <th>loan_amount</th>\n",
       "      <td>135000</td>\n",
       "      <td>215000</td>\n",
       "      <td>35000</td>\n",
       "      <td>345000</td>\n",
       "      <td>135000</td>\n",
       "    </tr>\n",
       "    <tr>\n",
       "      <th>loan_term</th>\n",
       "      <td>180</td>\n",
       "      <td>360</td>\n",
       "      <td>180</td>\n",
       "      <td>360</td>\n",
       "      <td>360</td>\n",
       "    </tr>\n",
       "    <tr>\n",
       "      <th>occupancy_type</th>\n",
       "      <td>1</td>\n",
       "      <td>1</td>\n",
       "      <td>1</td>\n",
       "      <td>1</td>\n",
       "      <td>1</td>\n",
       "    </tr>\n",
       "    <tr>\n",
       "      <th>income</th>\n",
       "      <td>61</td>\n",
       "      <td>82</td>\n",
       "      <td>125</td>\n",
       "      <td>153</td>\n",
       "      <td>34</td>\n",
       "    </tr>\n",
       "    <tr>\n",
       "      <th>applicant_age</th>\n",
       "      <td>55-64</td>\n",
       "      <td>25-34</td>\n",
       "      <td>55-64</td>\n",
       "      <td>25-34</td>\n",
       "      <td>55-64</td>\n",
       "    </tr>\n",
       "    <tr>\n",
       "      <th>state_code</th>\n",
       "      <td>WA</td>\n",
       "      <td>OK</td>\n",
       "      <td>OK</td>\n",
       "      <td>OK</td>\n",
       "      <td>AK</td>\n",
       "    </tr>\n",
       "    <tr>\n",
       "      <th>preapproval</th>\n",
       "      <td>2</td>\n",
       "      <td>2</td>\n",
       "      <td>2</td>\n",
       "      <td>2</td>\n",
       "      <td>2</td>\n",
       "    </tr>\n",
       "    <tr>\n",
       "      <th>loan_purpose</th>\n",
       "      <td>31</td>\n",
       "      <td>1</td>\n",
       "      <td>2</td>\n",
       "      <td>31</td>\n",
       "      <td>1</td>\n",
       "    </tr>\n",
       "    <tr>\n",
       "      <th>approved</th>\n",
       "      <td>0</td>\n",
       "      <td>0</td>\n",
       "      <td>0</td>\n",
       "      <td>1</td>\n",
       "      <td>1</td>\n",
       "    </tr>\n",
       "    <tr>\n",
       "      <th>discount_pts</th>\n",
       "      <td>0</td>\n",
       "      <td>0</td>\n",
       "      <td>0</td>\n",
       "      <td>4600</td>\n",
       "      <td>2461</td>\n",
       "    </tr>\n",
       "    <tr>\n",
       "      <th>dtir</th>\n",
       "      <td>20%-&lt;30%</td>\n",
       "      <td>40%-&lt;50%</td>\n",
       "      <td>30%-&lt;40%</td>\n",
       "      <td>20%-&lt;30%</td>\n",
       "      <td>30%-&lt;40%</td>\n",
       "    </tr>\n",
       "    <tr>\n",
       "      <th>weights</th>\n",
       "      <td>0.76</td>\n",
       "      <td>0.76</td>\n",
       "      <td>0.76</td>\n",
       "      <td>0.24</td>\n",
       "      <td>0.24</td>\n",
       "    </tr>\n",
       "    <tr>\n",
       "      <th>continuous_features_vector</th>\n",
       "      <td>[135000.0, 61.0, 0.0]</td>\n",
       "      <td>[215000.0, 82.0, 0.0]</td>\n",
       "      <td>[35000.0, 125.0, 0.0]</td>\n",
       "      <td>[345000.0, 153.0, 4600.0]</td>\n",
       "      <td>[135000.0, 34.0, 2461.0]</td>\n",
       "    </tr>\n",
       "    <tr>\n",
       "      <th>continuous_features_scaled</th>\n",
       "      <td>[0.1725648471579141, 0.01165464902967626, 0.0]</td>\n",
       "      <td>[0.2748254973255669, 0.01566690525300743, 0.0]</td>\n",
       "      <td>[0.0447390344483481, 0.023882477519828398, 0.0]</td>\n",
       "      <td>[0.4409990538480027, 0.029232152484269962, 3.251283374541778]</td>\n",
       "      <td>[0.1725648471579141, 0.006496033885393325, 1.7394366053798511]</td>\n",
       "    </tr>\n",
       "    <tr>\n",
       "      <th>derived_raceIndex</th>\n",
       "      <td>4</td>\n",
       "      <td>0</td>\n",
       "      <td>3</td>\n",
       "      <td>0</td>\n",
       "      <td>4</td>\n",
       "    </tr>\n",
       "    <tr>\n",
       "      <th>derived_sexIndex</th>\n",
       "      <td>0</td>\n",
       "      <td>0</td>\n",
       "      <td>0</td>\n",
       "      <td>1</td>\n",
       "      <td>2</td>\n",
       "    </tr>\n",
       "    <tr>\n",
       "      <th>applicant_ageIndex</th>\n",
       "      <td>3</td>\n",
       "      <td>2</td>\n",
       "      <td>3</td>\n",
       "      <td>2</td>\n",
       "      <td>3</td>\n",
       "    </tr>\n",
       "    <tr>\n",
       "      <th>state_codeIndex</th>\n",
       "      <td>10</td>\n",
       "      <td>29</td>\n",
       "      <td>29</td>\n",
       "      <td>29</td>\n",
       "      <td>52</td>\n",
       "    </tr>\n",
       "    <tr>\n",
       "      <th>dtirIndex</th>\n",
       "      <td>2</td>\n",
       "      <td>0</td>\n",
       "      <td>1</td>\n",
       "      <td>2</td>\n",
       "      <td>1</td>\n",
       "    </tr>\n",
       "    <tr>\n",
       "      <th>label</th>\n",
       "      <td>0</td>\n",
       "      <td>0</td>\n",
       "      <td>0</td>\n",
       "      <td>1</td>\n",
       "      <td>1</td>\n",
       "    </tr>\n",
       "  </tbody>\n",
       "</table>\n",
       "</div>"
      ],
      "text/plain": [
       "                                                                             0  \\\n",
       "derived_race                                  American Indian or Alaska Native   \n",
       "derived_sex                                                              Joint   \n",
       "purchaser_type                                                               0   \n",
       "loan_type                                                                    2   \n",
       "business_or_commercial_purpose                                               2   \n",
       "loan_amount                                                             135000   \n",
       "loan_term                                                                  180   \n",
       "occupancy_type                                                               1   \n",
       "income                                                                      61   \n",
       "applicant_age                                                            55-64   \n",
       "state_code                                                                  WA   \n",
       "preapproval                                                                  2   \n",
       "loan_purpose                                                                31   \n",
       "approved                                                                     0   \n",
       "discount_pts                                                                 0   \n",
       "dtir                                                                  20%-<30%   \n",
       "weights                                                                   0.76   \n",
       "continuous_features_vector                               [135000.0, 61.0, 0.0]   \n",
       "continuous_features_scaled      [0.1725648471579141, 0.01165464902967626, 0.0]   \n",
       "derived_raceIndex                                                            4   \n",
       "derived_sexIndex                                                             0   \n",
       "applicant_ageIndex                                                           3   \n",
       "state_codeIndex                                                             10   \n",
       "dtirIndex                                                                    2   \n",
       "label                                                                        0   \n",
       "\n",
       "                                                                             1  \\\n",
       "derived_race                                                             White   \n",
       "derived_sex                                                              Joint   \n",
       "purchaser_type                                                               0   \n",
       "loan_type                                                                    2   \n",
       "business_or_commercial_purpose                                               2   \n",
       "loan_amount                                                             215000   \n",
       "loan_term                                                                  360   \n",
       "occupancy_type                                                               1   \n",
       "income                                                                      82   \n",
       "applicant_age                                                            25-34   \n",
       "state_code                                                                  OK   \n",
       "preapproval                                                                  2   \n",
       "loan_purpose                                                                 1   \n",
       "approved                                                                     0   \n",
       "discount_pts                                                                 0   \n",
       "dtir                                                                  40%-<50%   \n",
       "weights                                                                   0.76   \n",
       "continuous_features_vector                               [215000.0, 82.0, 0.0]   \n",
       "continuous_features_scaled      [0.2748254973255669, 0.01566690525300743, 0.0]   \n",
       "derived_raceIndex                                                            0   \n",
       "derived_sexIndex                                                             0   \n",
       "applicant_ageIndex                                                           2   \n",
       "state_codeIndex                                                             29   \n",
       "dtirIndex                                                                    0   \n",
       "label                                                                        0   \n",
       "\n",
       "                                                                              2  \\\n",
       "derived_race                                                              Joint   \n",
       "derived_sex                                                               Joint   \n",
       "purchaser_type                                                                0   \n",
       "loan_type                                                                     2   \n",
       "business_or_commercial_purpose                                                2   \n",
       "loan_amount                                                               35000   \n",
       "loan_term                                                                   180   \n",
       "occupancy_type                                                                1   \n",
       "income                                                                      125   \n",
       "applicant_age                                                             55-64   \n",
       "state_code                                                                   OK   \n",
       "preapproval                                                                   2   \n",
       "loan_purpose                                                                  2   \n",
       "approved                                                                      0   \n",
       "discount_pts                                                                  0   \n",
       "dtir                                                                   30%-<40%   \n",
       "weights                                                                    0.76   \n",
       "continuous_features_vector                                [35000.0, 125.0, 0.0]   \n",
       "continuous_features_scaled      [0.0447390344483481, 0.023882477519828398, 0.0]   \n",
       "derived_raceIndex                                                             3   \n",
       "derived_sexIndex                                                              0   \n",
       "applicant_ageIndex                                                            3   \n",
       "state_codeIndex                                                              29   \n",
       "dtirIndex                                                                     1   \n",
       "label                                                                         0   \n",
       "\n",
       "                                                                                            3  \\\n",
       "derived_race                                                                            White   \n",
       "derived_sex                                                                              Male   \n",
       "purchaser_type                                                                              1   \n",
       "loan_type                                                                                   1   \n",
       "business_or_commercial_purpose                                                              2   \n",
       "loan_amount                                                                            345000   \n",
       "loan_term                                                                                 360   \n",
       "occupancy_type                                                                              1   \n",
       "income                                                                                    153   \n",
       "applicant_age                                                                           25-34   \n",
       "state_code                                                                                 OK   \n",
       "preapproval                                                                                 2   \n",
       "loan_purpose                                                                               31   \n",
       "approved                                                                                    1   \n",
       "discount_pts                                                                             4600   \n",
       "dtir                                                                                 20%-<30%   \n",
       "weights                                                                                  0.24   \n",
       "continuous_features_vector                                          [345000.0, 153.0, 4600.0]   \n",
       "continuous_features_scaled      [0.4409990538480027, 0.029232152484269962, 3.251283374541778]   \n",
       "derived_raceIndex                                                                           0   \n",
       "derived_sexIndex                                                                            1   \n",
       "applicant_ageIndex                                                                          2   \n",
       "state_codeIndex                                                                            29   \n",
       "dtirIndex                                                                                   2   \n",
       "label                                                                                       1   \n",
       "\n",
       "                                                                                             4  \n",
       "derived_race                                                  American Indian or Alaska Native  \n",
       "derived_sex                                                                             Female  \n",
       "purchaser_type                                                                               2  \n",
       "loan_type                                                                                    2  \n",
       "business_or_commercial_purpose                                                               2  \n",
       "loan_amount                                                                             135000  \n",
       "loan_term                                                                                  360  \n",
       "occupancy_type                                                                               1  \n",
       "income                                                                                      34  \n",
       "applicant_age                                                                            55-64  \n",
       "state_code                                                                                  AK  \n",
       "preapproval                                                                                  2  \n",
       "loan_purpose                                                                                 1  \n",
       "approved                                                                                     1  \n",
       "discount_pts                                                                              2461  \n",
       "dtir                                                                                  30%-<40%  \n",
       "weights                                                                                   0.24  \n",
       "continuous_features_vector                                            [135000.0, 34.0, 2461.0]  \n",
       "continuous_features_scaled      [0.1725648471579141, 0.006496033885393325, 1.7394366053798511]  \n",
       "derived_raceIndex                                                                            4  \n",
       "derived_sexIndex                                                                             2  \n",
       "applicant_ageIndex                                                                           3  \n",
       "state_codeIndex                                                                             52  \n",
       "dtirIndex                                                                                    1  \n",
       "label                                                                                        1  "
      ]
     },
     "execution_count": 28,
     "metadata": {},
     "output_type": "execute_result"
    }
   ],
   "source": [
    "pipeline = Pipeline(stages = stages)\n",
    "pipelineModel = pipeline.fit(df_scaled)\n",
    "df_scaled = pipelineModel.transform(df_scaled)\n",
    "\n",
    "df_scaled = df_scaled.withColumn('label', col('approved'))\n",
    "pd.DataFrame(df_scaled.take(5), columns=df_scaled.columns).transpose()"
   ]
  },
  {
   "cell_type": "code",
   "execution_count": 29,
   "metadata": {},
   "outputs": [
    {
     "data": {
      "text/html": [
       "<div>\n",
       "<style scoped>\n",
       "    .dataframe tbody tr th:only-of-type {\n",
       "        vertical-align: middle;\n",
       "    }\n",
       "\n",
       "    .dataframe tbody tr th {\n",
       "        vertical-align: top;\n",
       "    }\n",
       "\n",
       "    .dataframe thead th {\n",
       "        text-align: right;\n",
       "    }\n",
       "</style>\n",
       "<table border=\"1\" class=\"dataframe\">\n",
       "  <thead>\n",
       "    <tr style=\"text-align: right;\">\n",
       "      <th></th>\n",
       "      <th>0</th>\n",
       "      <th>1</th>\n",
       "      <th>2</th>\n",
       "      <th>3</th>\n",
       "      <th>4</th>\n",
       "    </tr>\n",
       "  </thead>\n",
       "  <tbody>\n",
       "    <tr>\n",
       "      <th>derived_race</th>\n",
       "      <td>American Indian or Alaska Native</td>\n",
       "      <td>White</td>\n",
       "      <td>Joint</td>\n",
       "      <td>White</td>\n",
       "      <td>American Indian or Alaska Native</td>\n",
       "    </tr>\n",
       "    <tr>\n",
       "      <th>derived_sex</th>\n",
       "      <td>Joint</td>\n",
       "      <td>Joint</td>\n",
       "      <td>Joint</td>\n",
       "      <td>Male</td>\n",
       "      <td>Female</td>\n",
       "    </tr>\n",
       "    <tr>\n",
       "      <th>purchaser_type</th>\n",
       "      <td>0</td>\n",
       "      <td>0</td>\n",
       "      <td>0</td>\n",
       "      <td>1</td>\n",
       "      <td>2</td>\n",
       "    </tr>\n",
       "    <tr>\n",
       "      <th>loan_type</th>\n",
       "      <td>2</td>\n",
       "      <td>2</td>\n",
       "      <td>2</td>\n",
       "      <td>1</td>\n",
       "      <td>2</td>\n",
       "    </tr>\n",
       "    <tr>\n",
       "      <th>business_or_commercial_purpose</th>\n",
       "      <td>2</td>\n",
       "      <td>2</td>\n",
       "      <td>2</td>\n",
       "      <td>2</td>\n",
       "      <td>2</td>\n",
       "    </tr>\n",
       "    <tr>\n",
       "      <th>loan_amount</th>\n",
       "      <td>135000</td>\n",
       "      <td>215000</td>\n",
       "      <td>35000</td>\n",
       "      <td>345000</td>\n",
       "      <td>135000</td>\n",
       "    </tr>\n",
       "    <tr>\n",
       "      <th>loan_term</th>\n",
       "      <td>180</td>\n",
       "      <td>360</td>\n",
       "      <td>180</td>\n",
       "      <td>360</td>\n",
       "      <td>360</td>\n",
       "    </tr>\n",
       "    <tr>\n",
       "      <th>occupancy_type</th>\n",
       "      <td>1</td>\n",
       "      <td>1</td>\n",
       "      <td>1</td>\n",
       "      <td>1</td>\n",
       "      <td>1</td>\n",
       "    </tr>\n",
       "    <tr>\n",
       "      <th>income</th>\n",
       "      <td>61</td>\n",
       "      <td>82</td>\n",
       "      <td>125</td>\n",
       "      <td>153</td>\n",
       "      <td>34</td>\n",
       "    </tr>\n",
       "    <tr>\n",
       "      <th>applicant_age</th>\n",
       "      <td>55-64</td>\n",
       "      <td>25-34</td>\n",
       "      <td>55-64</td>\n",
       "      <td>25-34</td>\n",
       "      <td>55-64</td>\n",
       "    </tr>\n",
       "    <tr>\n",
       "      <th>state_code</th>\n",
       "      <td>WA</td>\n",
       "      <td>OK</td>\n",
       "      <td>OK</td>\n",
       "      <td>OK</td>\n",
       "      <td>AK</td>\n",
       "    </tr>\n",
       "    <tr>\n",
       "      <th>preapproval</th>\n",
       "      <td>2</td>\n",
       "      <td>2</td>\n",
       "      <td>2</td>\n",
       "      <td>2</td>\n",
       "      <td>2</td>\n",
       "    </tr>\n",
       "    <tr>\n",
       "      <th>loan_purpose</th>\n",
       "      <td>31</td>\n",
       "      <td>1</td>\n",
       "      <td>2</td>\n",
       "      <td>31</td>\n",
       "      <td>1</td>\n",
       "    </tr>\n",
       "    <tr>\n",
       "      <th>approved</th>\n",
       "      <td>0</td>\n",
       "      <td>0</td>\n",
       "      <td>0</td>\n",
       "      <td>1</td>\n",
       "      <td>1</td>\n",
       "    </tr>\n",
       "    <tr>\n",
       "      <th>discount_pts</th>\n",
       "      <td>0</td>\n",
       "      <td>0</td>\n",
       "      <td>0</td>\n",
       "      <td>4600</td>\n",
       "      <td>2461</td>\n",
       "    </tr>\n",
       "    <tr>\n",
       "      <th>dtir</th>\n",
       "      <td>20%-&lt;30%</td>\n",
       "      <td>40%-&lt;50%</td>\n",
       "      <td>30%-&lt;40%</td>\n",
       "      <td>20%-&lt;30%</td>\n",
       "      <td>30%-&lt;40%</td>\n",
       "    </tr>\n",
       "    <tr>\n",
       "      <th>weights</th>\n",
       "      <td>0.76</td>\n",
       "      <td>0.76</td>\n",
       "      <td>0.76</td>\n",
       "      <td>0.24</td>\n",
       "      <td>0.24</td>\n",
       "    </tr>\n",
       "    <tr>\n",
       "      <th>continuous_features_vector</th>\n",
       "      <td>[135000.0, 61.0, 0.0]</td>\n",
       "      <td>[215000.0, 82.0, 0.0]</td>\n",
       "      <td>[35000.0, 125.0, 0.0]</td>\n",
       "      <td>[345000.0, 153.0, 4600.0]</td>\n",
       "      <td>[135000.0, 34.0, 2461.0]</td>\n",
       "    </tr>\n",
       "    <tr>\n",
       "      <th>continuous_features_scaled</th>\n",
       "      <td>[0.1725648471579141, 0.01165464902967626, 0.0]</td>\n",
       "      <td>[0.2748254973255669, 0.01566690525300743, 0.0]</td>\n",
       "      <td>[0.0447390344483481, 0.023882477519828398, 0.0]</td>\n",
       "      <td>[0.4409990538480027, 0.029232152484269962, 3.251283374541778]</td>\n",
       "      <td>[0.1725648471579141, 0.006496033885393325, 1.7394366053798511]</td>\n",
       "    </tr>\n",
       "    <tr>\n",
       "      <th>derived_raceIndex</th>\n",
       "      <td>4</td>\n",
       "      <td>0</td>\n",
       "      <td>3</td>\n",
       "      <td>0</td>\n",
       "      <td>4</td>\n",
       "    </tr>\n",
       "    <tr>\n",
       "      <th>derived_sexIndex</th>\n",
       "      <td>0</td>\n",
       "      <td>0</td>\n",
       "      <td>0</td>\n",
       "      <td>1</td>\n",
       "      <td>2</td>\n",
       "    </tr>\n",
       "    <tr>\n",
       "      <th>applicant_ageIndex</th>\n",
       "      <td>3</td>\n",
       "      <td>2</td>\n",
       "      <td>3</td>\n",
       "      <td>2</td>\n",
       "      <td>3</td>\n",
       "    </tr>\n",
       "    <tr>\n",
       "      <th>state_codeIndex</th>\n",
       "      <td>10</td>\n",
       "      <td>29</td>\n",
       "      <td>29</td>\n",
       "      <td>29</td>\n",
       "      <td>52</td>\n",
       "    </tr>\n",
       "    <tr>\n",
       "      <th>dtirIndex</th>\n",
       "      <td>2</td>\n",
       "      <td>0</td>\n",
       "      <td>1</td>\n",
       "      <td>2</td>\n",
       "      <td>1</td>\n",
       "    </tr>\n",
       "    <tr>\n",
       "      <th>label</th>\n",
       "      <td>0</td>\n",
       "      <td>0</td>\n",
       "      <td>0</td>\n",
       "      <td>1</td>\n",
       "      <td>1</td>\n",
       "    </tr>\n",
       "    <tr>\n",
       "      <th>derived_raceIndex_enc</th>\n",
       "      <td>0.585992</td>\n",
       "      <td>0.782999</td>\n",
       "      <td>0.788268</td>\n",
       "      <td>0.782999</td>\n",
       "      <td>0.585992</td>\n",
       "    </tr>\n",
       "    <tr>\n",
       "      <th>derived_sexIndex_enc</th>\n",
       "      <td>0.806945</td>\n",
       "      <td>0.806945</td>\n",
       "      <td>0.806945</td>\n",
       "      <td>0.742576</td>\n",
       "      <td>0.732848</td>\n",
       "    </tr>\n",
       "    <tr>\n",
       "      <th>applicant_ageIndex_enc</th>\n",
       "      <td>0.727309</td>\n",
       "      <td>0.834257</td>\n",
       "      <td>0.727309</td>\n",
       "      <td>0.834257</td>\n",
       "      <td>0.727309</td>\n",
       "    </tr>\n",
       "    <tr>\n",
       "      <th>state_codeIndex_enc</th>\n",
       "      <td>0.808128</td>\n",
       "      <td>0.757553</td>\n",
       "      <td>0.757553</td>\n",
       "      <td>0.757553</td>\n",
       "      <td>0.798986</td>\n",
       "    </tr>\n",
       "    <tr>\n",
       "      <th>dtirIndex_enc</th>\n",
       "      <td>0.874673</td>\n",
       "      <td>0.862968</td>\n",
       "      <td>0.880347</td>\n",
       "      <td>0.874673</td>\n",
       "      <td>0.880347</td>\n",
       "    </tr>\n",
       "    <tr>\n",
       "      <th>purchaser_type_enc</th>\n",
       "      <td>0.526669</td>\n",
       "      <td>0.526669</td>\n",
       "      <td>0.526669</td>\n",
       "      <td>1</td>\n",
       "      <td>1</td>\n",
       "    </tr>\n",
       "    <tr>\n",
       "      <th>loan_type_enc</th>\n",
       "      <td>0.764468</td>\n",
       "      <td>0.764468</td>\n",
       "      <td>0.764468</td>\n",
       "      <td>0.766052</td>\n",
       "      <td>0.764468</td>\n",
       "    </tr>\n",
       "    <tr>\n",
       "      <th>business_or_commercial_purpose_enc</th>\n",
       "      <td>0.766496</td>\n",
       "      <td>0.766496</td>\n",
       "      <td>0.766496</td>\n",
       "      <td>0.766496</td>\n",
       "      <td>0.766496</td>\n",
       "    </tr>\n",
       "    <tr>\n",
       "      <th>loan_term_enc</th>\n",
       "      <td>0.775151</td>\n",
       "      <td>0.794611</td>\n",
       "      <td>0.775151</td>\n",
       "      <td>0.794611</td>\n",
       "      <td>0.794611</td>\n",
       "    </tr>\n",
       "    <tr>\n",
       "      <th>preapproval_enc</th>\n",
       "      <td>0.758135</td>\n",
       "      <td>0.758135</td>\n",
       "      <td>0.758135</td>\n",
       "      <td>0.758135</td>\n",
       "      <td>0.758135</td>\n",
       "    </tr>\n",
       "    <tr>\n",
       "      <th>occupancy_type_enc</th>\n",
       "      <td>0.765834</td>\n",
       "      <td>0.765834</td>\n",
       "      <td>0.765834</td>\n",
       "      <td>0.765834</td>\n",
       "      <td>0.765834</td>\n",
       "    </tr>\n",
       "    <tr>\n",
       "      <th>loan_purpose_enc</th>\n",
       "      <td>0.724874</td>\n",
       "      <td>0.851093</td>\n",
       "      <td>0.552057</td>\n",
       "      <td>0.724874</td>\n",
       "      <td>0.851093</td>\n",
       "    </tr>\n",
       "  </tbody>\n",
       "</table>\n",
       "</div>"
      ],
      "text/plain": [
       "                                                                                 0  \\\n",
       "derived_race                                      American Indian or Alaska Native   \n",
       "derived_sex                                                                  Joint   \n",
       "purchaser_type                                                                   0   \n",
       "loan_type                                                                        2   \n",
       "business_or_commercial_purpose                                                   2   \n",
       "loan_amount                                                                 135000   \n",
       "loan_term                                                                      180   \n",
       "occupancy_type                                                                   1   \n",
       "income                                                                          61   \n",
       "applicant_age                                                                55-64   \n",
       "state_code                                                                      WA   \n",
       "preapproval                                                                      2   \n",
       "loan_purpose                                                                    31   \n",
       "approved                                                                         0   \n",
       "discount_pts                                                                     0   \n",
       "dtir                                                                      20%-<30%   \n",
       "weights                                                                       0.76   \n",
       "continuous_features_vector                                   [135000.0, 61.0, 0.0]   \n",
       "continuous_features_scaled          [0.1725648471579141, 0.01165464902967626, 0.0]   \n",
       "derived_raceIndex                                                                4   \n",
       "derived_sexIndex                                                                 0   \n",
       "applicant_ageIndex                                                               3   \n",
       "state_codeIndex                                                                 10   \n",
       "dtirIndex                                                                        2   \n",
       "label                                                                            0   \n",
       "derived_raceIndex_enc                                                     0.585992   \n",
       "derived_sexIndex_enc                                                      0.806945   \n",
       "applicant_ageIndex_enc                                                    0.727309   \n",
       "state_codeIndex_enc                                                       0.808128   \n",
       "dtirIndex_enc                                                             0.874673   \n",
       "purchaser_type_enc                                                        0.526669   \n",
       "loan_type_enc                                                             0.764468   \n",
       "business_or_commercial_purpose_enc                                        0.766496   \n",
       "loan_term_enc                                                             0.775151   \n",
       "preapproval_enc                                                           0.758135   \n",
       "occupancy_type_enc                                                        0.765834   \n",
       "loan_purpose_enc                                                          0.724874   \n",
       "\n",
       "                                                                                 1  \\\n",
       "derived_race                                                                 White   \n",
       "derived_sex                                                                  Joint   \n",
       "purchaser_type                                                                   0   \n",
       "loan_type                                                                        2   \n",
       "business_or_commercial_purpose                                                   2   \n",
       "loan_amount                                                                 215000   \n",
       "loan_term                                                                      360   \n",
       "occupancy_type                                                                   1   \n",
       "income                                                                          82   \n",
       "applicant_age                                                                25-34   \n",
       "state_code                                                                      OK   \n",
       "preapproval                                                                      2   \n",
       "loan_purpose                                                                     1   \n",
       "approved                                                                         0   \n",
       "discount_pts                                                                     0   \n",
       "dtir                                                                      40%-<50%   \n",
       "weights                                                                       0.76   \n",
       "continuous_features_vector                                   [215000.0, 82.0, 0.0]   \n",
       "continuous_features_scaled          [0.2748254973255669, 0.01566690525300743, 0.0]   \n",
       "derived_raceIndex                                                                0   \n",
       "derived_sexIndex                                                                 0   \n",
       "applicant_ageIndex                                                               2   \n",
       "state_codeIndex                                                                 29   \n",
       "dtirIndex                                                                        0   \n",
       "label                                                                            0   \n",
       "derived_raceIndex_enc                                                     0.782999   \n",
       "derived_sexIndex_enc                                                      0.806945   \n",
       "applicant_ageIndex_enc                                                    0.834257   \n",
       "state_codeIndex_enc                                                       0.757553   \n",
       "dtirIndex_enc                                                             0.862968   \n",
       "purchaser_type_enc                                                        0.526669   \n",
       "loan_type_enc                                                             0.764468   \n",
       "business_or_commercial_purpose_enc                                        0.766496   \n",
       "loan_term_enc                                                             0.794611   \n",
       "preapproval_enc                                                           0.758135   \n",
       "occupancy_type_enc                                                        0.765834   \n",
       "loan_purpose_enc                                                          0.851093   \n",
       "\n",
       "                                                                                  2  \\\n",
       "derived_race                                                                  Joint   \n",
       "derived_sex                                                                   Joint   \n",
       "purchaser_type                                                                    0   \n",
       "loan_type                                                                         2   \n",
       "business_or_commercial_purpose                                                    2   \n",
       "loan_amount                                                                   35000   \n",
       "loan_term                                                                       180   \n",
       "occupancy_type                                                                    1   \n",
       "income                                                                          125   \n",
       "applicant_age                                                                 55-64   \n",
       "state_code                                                                       OK   \n",
       "preapproval                                                                       2   \n",
       "loan_purpose                                                                      2   \n",
       "approved                                                                          0   \n",
       "discount_pts                                                                      0   \n",
       "dtir                                                                       30%-<40%   \n",
       "weights                                                                        0.76   \n",
       "continuous_features_vector                                    [35000.0, 125.0, 0.0]   \n",
       "continuous_features_scaled          [0.0447390344483481, 0.023882477519828398, 0.0]   \n",
       "derived_raceIndex                                                                 3   \n",
       "derived_sexIndex                                                                  0   \n",
       "applicant_ageIndex                                                                3   \n",
       "state_codeIndex                                                                  29   \n",
       "dtirIndex                                                                         1   \n",
       "label                                                                             0   \n",
       "derived_raceIndex_enc                                                      0.788268   \n",
       "derived_sexIndex_enc                                                       0.806945   \n",
       "applicant_ageIndex_enc                                                     0.727309   \n",
       "state_codeIndex_enc                                                        0.757553   \n",
       "dtirIndex_enc                                                              0.880347   \n",
       "purchaser_type_enc                                                         0.526669   \n",
       "loan_type_enc                                                              0.764468   \n",
       "business_or_commercial_purpose_enc                                         0.766496   \n",
       "loan_term_enc                                                              0.775151   \n",
       "preapproval_enc                                                            0.758135   \n",
       "occupancy_type_enc                                                         0.765834   \n",
       "loan_purpose_enc                                                           0.552057   \n",
       "\n",
       "                                                                                                3  \\\n",
       "derived_race                                                                                White   \n",
       "derived_sex                                                                                  Male   \n",
       "purchaser_type                                                                                  1   \n",
       "loan_type                                                                                       1   \n",
       "business_or_commercial_purpose                                                                  2   \n",
       "loan_amount                                                                                345000   \n",
       "loan_term                                                                                     360   \n",
       "occupancy_type                                                                                  1   \n",
       "income                                                                                        153   \n",
       "applicant_age                                                                               25-34   \n",
       "state_code                                                                                     OK   \n",
       "preapproval                                                                                     2   \n",
       "loan_purpose                                                                                   31   \n",
       "approved                                                                                        1   \n",
       "discount_pts                                                                                 4600   \n",
       "dtir                                                                                     20%-<30%   \n",
       "weights                                                                                      0.24   \n",
       "continuous_features_vector                                              [345000.0, 153.0, 4600.0]   \n",
       "continuous_features_scaled          [0.4409990538480027, 0.029232152484269962, 3.251283374541778]   \n",
       "derived_raceIndex                                                                               0   \n",
       "derived_sexIndex                                                                                1   \n",
       "applicant_ageIndex                                                                              2   \n",
       "state_codeIndex                                                                                29   \n",
       "dtirIndex                                                                                       2   \n",
       "label                                                                                           1   \n",
       "derived_raceIndex_enc                                                                    0.782999   \n",
       "derived_sexIndex_enc                                                                     0.742576   \n",
       "applicant_ageIndex_enc                                                                   0.834257   \n",
       "state_codeIndex_enc                                                                      0.757553   \n",
       "dtirIndex_enc                                                                            0.874673   \n",
       "purchaser_type_enc                                                                              1   \n",
       "loan_type_enc                                                                            0.766052   \n",
       "business_or_commercial_purpose_enc                                                       0.766496   \n",
       "loan_term_enc                                                                            0.794611   \n",
       "preapproval_enc                                                                          0.758135   \n",
       "occupancy_type_enc                                                                       0.765834   \n",
       "loan_purpose_enc                                                                         0.724874   \n",
       "\n",
       "                                                                                                 4  \n",
       "derived_race                                                      American Indian or Alaska Native  \n",
       "derived_sex                                                                                 Female  \n",
       "purchaser_type                                                                                   2  \n",
       "loan_type                                                                                        2  \n",
       "business_or_commercial_purpose                                                                   2  \n",
       "loan_amount                                                                                 135000  \n",
       "loan_term                                                                                      360  \n",
       "occupancy_type                                                                                   1  \n",
       "income                                                                                          34  \n",
       "applicant_age                                                                                55-64  \n",
       "state_code                                                                                      AK  \n",
       "preapproval                                                                                      2  \n",
       "loan_purpose                                                                                     1  \n",
       "approved                                                                                         1  \n",
       "discount_pts                                                                                  2461  \n",
       "dtir                                                                                      30%-<40%  \n",
       "weights                                                                                       0.24  \n",
       "continuous_features_vector                                                [135000.0, 34.0, 2461.0]  \n",
       "continuous_features_scaled          [0.1725648471579141, 0.006496033885393325, 1.7394366053798511]  \n",
       "derived_raceIndex                                                                                4  \n",
       "derived_sexIndex                                                                                 2  \n",
       "applicant_ageIndex                                                                               3  \n",
       "state_codeIndex                                                                                 52  \n",
       "dtirIndex                                                                                        1  \n",
       "label                                                                                            1  \n",
       "derived_raceIndex_enc                                                                     0.585992  \n",
       "derived_sexIndex_enc                                                                      0.732848  \n",
       "applicant_ageIndex_enc                                                                    0.727309  \n",
       "state_codeIndex_enc                                                                       0.798986  \n",
       "dtirIndex_enc                                                                             0.880347  \n",
       "purchaser_type_enc                                                                               1  \n",
       "loan_type_enc                                                                             0.764468  \n",
       "business_or_commercial_purpose_enc                                                        0.766496  \n",
       "loan_term_enc                                                                             0.794611  \n",
       "preapproval_enc                                                                           0.758135  \n",
       "occupancy_type_enc                                                                        0.765834  \n",
       "loan_purpose_enc                                                                          0.851093  "
      ]
     },
     "execution_count": 29,
     "metadata": {},
     "output_type": "execute_result"
    }
   ],
   "source": [
    "from pyspark.sql.functions import create_map, lit\n",
    "from itertools import chain\n",
    "from functools import reduce\n",
    "import random\n",
    "\n",
    "categorical_features = [c + 'Index' for c in categorical_columns_str] + categorical_columns_num\n",
    "df_scaled.registerTempTable('Testing')\n",
    "\n",
    "def apply_normaldist_noise():\n",
    "    noise = 1 + random.normalvariate(0, 0.07)\n",
    "    \n",
    "    return noise\n",
    "\n",
    "def target_encoding(df):\n",
    "    for column in categorical_features:\n",
    "        encoded_column_name = column + '_enc'\n",
    "        query = f\"\"\" WITH x AS (\n",
    "                        SELECT COUNT(*) AS target_cnt, approved, {column}\n",
    "                        FROM Testing\n",
    "                        WHERE approved = 1\n",
    "                        GROUP BY {column}, approved\n",
    "                        ORDER BY {column}\n",
    "                     ), y AS (\n",
    "                        SELECT COUNT(*) AS feature_cnt, {column}\n",
    "                        FROM Testing\n",
    "                        GROUP BY {column}\n",
    "                        ORDER BY {column} )\n",
    "\n",
    "                     SELECT x.{column}, x.target_cnt / (y.feature_cnt) AS mean\n",
    "                     FROM x\n",
    "                     LEFT JOIN y ON x.{column} = y.{column}\n",
    "                     ORDER BY {column} \"\"\"\n",
    "\n",
    "        aggregate_df = spark.sql(query)\n",
    "\n",
    "        aggregate_dict = aggregate_df.rdd.map(lambda row: {row[column]: row['mean']}).collect()\n",
    "        aggregate_dict = reduce(lambda a, b: {**a, **b}, aggregate_dict)\n",
    "    \n",
    "        mapping_expr = create_map([lit(x) for x in chain(*aggregate_dict.items())])\n",
    "        df = df.withColumn(encoded_column_name, mapping_expr[col(column)])\n",
    "\n",
    "#         # Add noise for L.O.O encoding\n",
    "#         func = F.udf(apply_normaldist_noise, FloatType())\n",
    "#         df = df.withColumn(encoded_column_name, col(encoded_column_name) * func())\n",
    "        \n",
    "    return df\n",
    "\n",
    "df_scaled = target_encoding(df_scaled)\n",
    "pd.DataFrame(df_scaled.take(5), columns=df_scaled.columns).transpose()"
   ]
  },
  {
   "cell_type": "code",
   "execution_count": 30,
   "metadata": {},
   "outputs": [
    {
     "data": {
      "text/html": [
       "<div>\n",
       "<style scoped>\n",
       "    .dataframe tbody tr th:only-of-type {\n",
       "        vertical-align: middle;\n",
       "    }\n",
       "\n",
       "    .dataframe tbody tr th {\n",
       "        vertical-align: top;\n",
       "    }\n",
       "\n",
       "    .dataframe thead th {\n",
       "        text-align: right;\n",
       "    }\n",
       "</style>\n",
       "<table border=\"1\" class=\"dataframe\">\n",
       "  <thead>\n",
       "    <tr style=\"text-align: right;\">\n",
       "      <th></th>\n",
       "      <th>0</th>\n",
       "    </tr>\n",
       "  </thead>\n",
       "  <tbody>\n",
       "    <tr>\n",
       "      <th>derived_raceIndex_enc</th>\n",
       "      <td>0</td>\n",
       "    </tr>\n",
       "    <tr>\n",
       "      <th>derived_sexIndex_enc</th>\n",
       "      <td>0</td>\n",
       "    </tr>\n",
       "    <tr>\n",
       "      <th>applicant_ageIndex_enc</th>\n",
       "      <td>0</td>\n",
       "    </tr>\n",
       "    <tr>\n",
       "      <th>state_codeIndex_enc</th>\n",
       "      <td>0</td>\n",
       "    </tr>\n",
       "    <tr>\n",
       "      <th>dtirIndex_enc</th>\n",
       "      <td>0</td>\n",
       "    </tr>\n",
       "    <tr>\n",
       "      <th>purchaser_type_enc</th>\n",
       "      <td>0</td>\n",
       "    </tr>\n",
       "    <tr>\n",
       "      <th>loan_type_enc</th>\n",
       "      <td>0</td>\n",
       "    </tr>\n",
       "    <tr>\n",
       "      <th>business_or_commercial_purpose_enc</th>\n",
       "      <td>0</td>\n",
       "    </tr>\n",
       "    <tr>\n",
       "      <th>loan_term_enc</th>\n",
       "      <td>138</td>\n",
       "    </tr>\n",
       "    <tr>\n",
       "      <th>preapproval_enc</th>\n",
       "      <td>0</td>\n",
       "    </tr>\n",
       "    <tr>\n",
       "      <th>occupancy_type_enc</th>\n",
       "      <td>0</td>\n",
       "    </tr>\n",
       "    <tr>\n",
       "      <th>loan_purpose_enc</th>\n",
       "      <td>0</td>\n",
       "    </tr>\n",
       "  </tbody>\n",
       "</table>\n",
       "</div>"
      ],
      "text/plain": [
       "                                      0\n",
       "derived_raceIndex_enc                 0\n",
       "derived_sexIndex_enc                  0\n",
       "applicant_ageIndex_enc                0\n",
       "state_codeIndex_enc                   0\n",
       "dtirIndex_enc                         0\n",
       "purchaser_type_enc                    0\n",
       "loan_type_enc                         0\n",
       "business_or_commercial_purpose_enc    0\n",
       "loan_term_enc                       138\n",
       "preapproval_enc                       0\n",
       "occupancy_type_enc                    0\n",
       "loan_purpose_enc                      0"
      ]
     },
     "execution_count": 30,
     "metadata": {},
     "output_type": "execute_result"
    }
   ],
   "source": [
    "encfeatures = list(map(lambda x:\"{}{}\".format(x, '_enc'), categorical_features))\n",
    "df_scaled.select([count(when(col(c).isNull(), c)).alias(c) for c in encfeatures]).toPandas().T"
   ]
  },
  {
   "cell_type": "code",
   "execution_count": 31,
   "metadata": {},
   "outputs": [
    {
     "data": {
      "text/html": [
       "<div>\n",
       "<style scoped>\n",
       "    .dataframe tbody tr th:only-of-type {\n",
       "        vertical-align: middle;\n",
       "    }\n",
       "\n",
       "    .dataframe tbody tr th {\n",
       "        vertical-align: top;\n",
       "    }\n",
       "\n",
       "    .dataframe thead th {\n",
       "        text-align: right;\n",
       "    }\n",
       "</style>\n",
       "<table border=\"1\" class=\"dataframe\">\n",
       "  <thead>\n",
       "    <tr style=\"text-align: right;\">\n",
       "      <th></th>\n",
       "      <th>0</th>\n",
       "      <th>1</th>\n",
       "      <th>2</th>\n",
       "      <th>3</th>\n",
       "      <th>4</th>\n",
       "    </tr>\n",
       "  </thead>\n",
       "  <tbody>\n",
       "    <tr>\n",
       "      <th>chisq_features</th>\n",
       "      <td>[0.5859915548606365, 0.8069451212522806, 0.7273094658960028, 0.808127549157317, 0.8746725172972699, 0.5266690300283462, 0.7644677859281759, 0.7664958251165599, 0.7751510480738912, 0.7581354849861067, 0.7658341286078199, 0.7248737653961077]</td>\n",
       "      <td>[0.782999439926836, 0.8069451212522806, 0.8342565417713655, 0.7575528747655684, 0.8629681734737917, 0.5266690300283462, 0.7644677859281759, 0.7664958251165599, 0.7946107259792559, 0.7581354849861067, 0.7658341286078199, 0.8510934790255182]</td>\n",
       "      <td>[0.7882675639480726, 0.8069451212522806, 0.7273094658960028, 0.7575528747655684, 0.880346732052094, 0.5266690300283462, 0.7644677859281759, 0.7664958251165599, 0.7751510480738912, 0.7581354849861067, 0.7658341286078199, 0.552056992157519]</td>\n",
       "      <td>[0.782999439926836, 0.7425761525555532, 0.8342565417713655, 0.7575528747655684, 0.8746725172972699, 1.0, 0.7660516003450845, 0.7664958251165599, 0.7946107259792559, 0.7581354849861067, 0.7658341286078199, 0.7248737653961077]</td>\n",
       "      <td>[0.5859915548606365, 0.7328477104823524, 0.7273094658960028, 0.7989864253393665, 0.880346732052094, 1.0, 0.7644677859281759, 0.7664958251165599, 0.7946107259792559, 0.7581354849861067, 0.7658341286078199, 0.8510934790255182]</td>\n",
       "    </tr>\n",
       "    <tr>\n",
       "      <th>label</th>\n",
       "      <td>0</td>\n",
       "      <td>0</td>\n",
       "      <td>0</td>\n",
       "      <td>1</td>\n",
       "      <td>1</td>\n",
       "    </tr>\n",
       "    <tr>\n",
       "      <th>weights</th>\n",
       "      <td>0.76</td>\n",
       "      <td>0.76</td>\n",
       "      <td>0.76</td>\n",
       "      <td>0.24</td>\n",
       "      <td>0.24</td>\n",
       "    </tr>\n",
       "  </tbody>\n",
       "</table>\n",
       "</div>"
      ],
      "text/plain": [
       "                                                                                                                                                                                                                                                              0  \\\n",
       "chisq_features  [0.5859915548606365, 0.8069451212522806, 0.7273094658960028, 0.808127549157317, 0.8746725172972699, 0.5266690300283462, 0.7644677859281759, 0.7664958251165599, 0.7751510480738912, 0.7581354849861067, 0.7658341286078199, 0.7248737653961077]   \n",
       "label                                                                                                                                                                                                                                                         0   \n",
       "weights                                                                                                                                                                                                                                                    0.76   \n",
       "\n",
       "                                                                                                                                                                                                                                                              1  \\\n",
       "chisq_features  [0.782999439926836, 0.8069451212522806, 0.8342565417713655, 0.7575528747655684, 0.8629681734737917, 0.5266690300283462, 0.7644677859281759, 0.7664958251165599, 0.7946107259792559, 0.7581354849861067, 0.7658341286078199, 0.8510934790255182]   \n",
       "label                                                                                                                                                                                                                                                         0   \n",
       "weights                                                                                                                                                                                                                                                    0.76   \n",
       "\n",
       "                                                                                                                                                                                                                                                             2  \\\n",
       "chisq_features  [0.7882675639480726, 0.8069451212522806, 0.7273094658960028, 0.7575528747655684, 0.880346732052094, 0.5266690300283462, 0.7644677859281759, 0.7664958251165599, 0.7751510480738912, 0.7581354849861067, 0.7658341286078199, 0.552056992157519]   \n",
       "label                                                                                                                                                                                                                                                        0   \n",
       "weights                                                                                                                                                                                                                                                   0.76   \n",
       "\n",
       "                                                                                                                                                                                                                                               3  \\\n",
       "chisq_features  [0.782999439926836, 0.7425761525555532, 0.8342565417713655, 0.7575528747655684, 0.8746725172972699, 1.0, 0.7660516003450845, 0.7664958251165599, 0.7946107259792559, 0.7581354849861067, 0.7658341286078199, 0.7248737653961077]   \n",
       "label                                                                                                                                                                                                                                          1   \n",
       "weights                                                                                                                                                                                                                                     0.24   \n",
       "\n",
       "                                                                                                                                                                                                                                               4  \n",
       "chisq_features  [0.5859915548606365, 0.7328477104823524, 0.7273094658960028, 0.7989864253393665, 0.880346732052094, 1.0, 0.7644677859281759, 0.7664958251165599, 0.7946107259792559, 0.7581354849861067, 0.7658341286078199, 0.8510934790255182]  \n",
       "label                                                                                                                                                                                                                                          1  \n",
       "weights                                                                                                                                                                                                                                     0.24  "
      ]
     },
     "execution_count": 31,
     "metadata": {},
     "output_type": "execute_result"
    }
   ],
   "source": [
    "df_scaled = df_scaled.dropna(subset='loan_term_enc')\n",
    "\n",
    "assemblerInputs = encfeatures\n",
    "assembler = VectorAssembler(inputCols = assemblerInputs, outputCol = 'chisq_features')\n",
    "df_scaled = assembler.transform(df_scaled)\n",
    "\n",
    "df2 = df_scaled.select('chisq_features', 'label', 'weights')\n",
    "pd.DataFrame(df2.take(5), columns=df2.columns).transpose()"
   ]
  },
  {
   "cell_type": "code",
   "execution_count": 32,
   "metadata": {},
   "outputs": [
    {
     "name": "stdout",
     "output_type": "stream",
     "text": [
      "p-values: [0.0,0.0,0.0,0.0,0.0,0.0,0.0,2.8788319539341245e-07,0.0,0.0,0.0,0.0]\n",
      "degrees of freedom: [6, 3, 6, 54, 7, 1, 3, 2, 357, 1, 2, 3]\n",
      "statistics: [219644.72702182888,111644.78580594399,216554.18445850047,105364.29108818347,5327021.999998463,5391561.196502638,10369.434756809702,30.121422020958914,706411.6206296235,189581.3464073926,4043.911463637122,958460.8642184382]\n"
     ]
    }
   ],
   "source": [
    "from pyspark.ml.stat import ChiSquareTest\n",
    "\n",
    "chi_test = ChiSquareTest.test(df2, 'chisq_features', 'label').head()\n",
    "print(\"p-values: \" + str(chi_test.pValues))\n",
    "print(\"degrees of freedom: \" + str(chi_test.degreesOfFreedom))\n",
    "print(\"statistics: \" + str(chi_test.statistics))"
   ]
  },
  {
   "cell_type": "code",
   "execution_count": 33,
   "metadata": {},
   "outputs": [
    {
     "data": {
      "text/html": [
       "<div>\n",
       "<style scoped>\n",
       "    .dataframe tbody tr th:only-of-type {\n",
       "        vertical-align: middle;\n",
       "    }\n",
       "\n",
       "    .dataframe tbody tr th {\n",
       "        vertical-align: top;\n",
       "    }\n",
       "\n",
       "    .dataframe thead th {\n",
       "        text-align: right;\n",
       "    }\n",
       "</style>\n",
       "<table border=\"1\" class=\"dataframe\">\n",
       "  <thead>\n",
       "    <tr style=\"text-align: right;\">\n",
       "      <th></th>\n",
       "      <th>0</th>\n",
       "      <th>1</th>\n",
       "      <th>2</th>\n",
       "      <th>3</th>\n",
       "      <th>4</th>\n",
       "    </tr>\n",
       "  </thead>\n",
       "  <tbody>\n",
       "    <tr>\n",
       "      <th>features</th>\n",
       "      <td>[0.5859915548606365, 0.8069451212522806, 0.7273094658960028, 0.808127549157317, 0.8746725172972699, 0.5266690300283462, 0.7644677859281759, 0.7664958251165599, 0.7751510480738912, 0.7581354849861067, 0.7658341286078199, 0.7248737653961077, 0.1725648471579141, 0.01165464902967626, 0.0]</td>\n",
       "      <td>[0.782999439926836, 0.8069451212522806, 0.8342565417713655, 0.7575528747655684, 0.8629681734737917, 0.5266690300283462, 0.7644677859281759, 0.7664958251165599, 0.7946107259792559, 0.7581354849861067, 0.7658341286078199, 0.8510934790255182, 0.2748254973255669, 0.01566690525300743, 0.0]</td>\n",
       "      <td>[0.7882675639480726, 0.8069451212522806, 0.7273094658960028, 0.7575528747655684, 0.880346732052094, 0.5266690300283462, 0.7644677859281759, 0.7664958251165599, 0.7751510480738912, 0.7581354849861067, 0.7658341286078199, 0.552056992157519, 0.0447390344483481, 0.023882477519828398, 0.0]</td>\n",
       "      <td>[0.782999439926836, 0.7425761525555532, 0.8342565417713655, 0.7575528747655684, 0.8746725172972699, 1.0, 0.7660516003450845, 0.7664958251165599, 0.7946107259792559, 0.7581354849861067, 0.7658341286078199, 0.7248737653961077, 0.4409990538480027, 0.029232152484269962, 3.251283374541778]</td>\n",
       "      <td>[0.5859915548606365, 0.7328477104823524, 0.7273094658960028, 0.7989864253393665, 0.880346732052094, 1.0, 0.7644677859281759, 0.7664958251165599, 0.7946107259792559, 0.7581354849861067, 0.7658341286078199, 0.8510934790255182, 0.1725648471579141, 0.006496033885393325, 1.7394366053798511]</td>\n",
       "    </tr>\n",
       "    <tr>\n",
       "      <th>label</th>\n",
       "      <td>0</td>\n",
       "      <td>0</td>\n",
       "      <td>0</td>\n",
       "      <td>1</td>\n",
       "      <td>1</td>\n",
       "    </tr>\n",
       "    <tr>\n",
       "      <th>weights</th>\n",
       "      <td>0.76</td>\n",
       "      <td>0.76</td>\n",
       "      <td>0.76</td>\n",
       "      <td>0.24</td>\n",
       "      <td>0.24</td>\n",
       "    </tr>\n",
       "  </tbody>\n",
       "</table>\n",
       "</div>"
      ],
      "text/plain": [
       "                                                                                                                                                                                                                                                                                                      0  \\\n",
       "features  [0.5859915548606365, 0.8069451212522806, 0.7273094658960028, 0.808127549157317, 0.8746725172972699, 0.5266690300283462, 0.7644677859281759, 0.7664958251165599, 0.7751510480738912, 0.7581354849861067, 0.7658341286078199, 0.7248737653961077, 0.1725648471579141, 0.01165464902967626, 0.0]   \n",
       "label                                                                                                                                                                                                                                                                                                 0   \n",
       "weights                                                                                                                                                                                                                                                                                            0.76   \n",
       "\n",
       "                                                                                                                                                                                                                                                                                                      1  \\\n",
       "features  [0.782999439926836, 0.8069451212522806, 0.8342565417713655, 0.7575528747655684, 0.8629681734737917, 0.5266690300283462, 0.7644677859281759, 0.7664958251165599, 0.7946107259792559, 0.7581354849861067, 0.7658341286078199, 0.8510934790255182, 0.2748254973255669, 0.01566690525300743, 0.0]   \n",
       "label                                                                                                                                                                                                                                                                                                 0   \n",
       "weights                                                                                                                                                                                                                                                                                            0.76   \n",
       "\n",
       "                                                                                                                                                                                                                                                                                                      2  \\\n",
       "features  [0.7882675639480726, 0.8069451212522806, 0.7273094658960028, 0.7575528747655684, 0.880346732052094, 0.5266690300283462, 0.7644677859281759, 0.7664958251165599, 0.7751510480738912, 0.7581354849861067, 0.7658341286078199, 0.552056992157519, 0.0447390344483481, 0.023882477519828398, 0.0]   \n",
       "label                                                                                                                                                                                                                                                                                                 0   \n",
       "weights                                                                                                                                                                                                                                                                                            0.76   \n",
       "\n",
       "                                                                                                                                                                                                                                                                                                      3  \\\n",
       "features  [0.782999439926836, 0.7425761525555532, 0.8342565417713655, 0.7575528747655684, 0.8746725172972699, 1.0, 0.7660516003450845, 0.7664958251165599, 0.7946107259792559, 0.7581354849861067, 0.7658341286078199, 0.7248737653961077, 0.4409990538480027, 0.029232152484269962, 3.251283374541778]   \n",
       "label                                                                                                                                                                                                                                                                                                 1   \n",
       "weights                                                                                                                                                                                                                                                                                            0.24   \n",
       "\n",
       "                                                                                                                                                                                                                                                                                                       4  \n",
       "features  [0.5859915548606365, 0.7328477104823524, 0.7273094658960028, 0.7989864253393665, 0.880346732052094, 1.0, 0.7644677859281759, 0.7664958251165599, 0.7946107259792559, 0.7581354849861067, 0.7658341286078199, 0.8510934790255182, 0.1725648471579141, 0.006496033885393325, 1.7394366053798511]  \n",
       "label                                                                                                                                                                                                                                                                                                  1  \n",
       "weights                                                                                                                                                                                                                                                                                             0.24  "
      ]
     },
     "execution_count": 33,
     "metadata": {},
     "output_type": "execute_result"
    }
   ],
   "source": [
    "df_scaled = df_scaled.drop(col(\"features\"))\n",
    "encfeatures.append('continuous_features_scaled')\n",
    "\n",
    "assembler2 = VectorAssembler(inputCols = encfeatures, outputCol = 'features')\n",
    "df_scaled = assembler2.transform(df_scaled)\n",
    "\n",
    "df2 = df_scaled.select('features', 'label', 'weights')\n",
    "pd.DataFrame(df2.take(5), columns=df2.columns).transpose()"
   ]
  },
  {
   "cell_type": "code",
   "execution_count": 34,
   "metadata": {},
   "outputs": [],
   "source": [
    "train, test = df2.randomSplit([0.8, 0.2], seed = 7)"
   ]
  },
  {
   "cell_type": "markdown",
   "metadata": {},
   "source": [
    "### Building Models"
   ]
  },
  {
   "cell_type": "code",
   "execution_count": 35,
   "metadata": {},
   "outputs": [],
   "source": [
    "from pyspark.ml.tuning import ParamGridBuilder, CrossValidator\n",
    "from pyspark.ml.evaluation import BinaryClassificationEvaluator\n",
    "from sklearn import metrics\n",
    "import plotly.graph_objects as go\n",
    "import plotly.figure_factory as ff\n",
    "\n",
    "from pyspark.ml.classification import LogisticRegression\n",
    "from pyspark.ml.classification import DecisionTreeClassifier\n",
    "from pyspark.ml.classification import RandomForestClassifier\n",
    "from pyspark.ml.classification import GBTClassifier\n",
    "from pyspark.ml.classification import LinearSVC\n",
    "from pyspark.ml.classification import NaiveBayes\n",
    "\n",
    "def crossval_training(model):\n",
    "    cv = CrossValidator(estimator = model, estimatorParamMaps = ParamGridBuilder().build(), \n",
    "                        evaluator = BinaryClassificationEvaluator(), \n",
    "                        numFolds = 5, parallelism = 4, seed = 7)\n",
    "    cv_model = cv.fit(train)\n",
    "    \n",
    "    predictions = cv_model.transform(test)\n",
    "    predictions_df = predictions.select('label', 'prediction').toPandas()\n",
    "    report = metrics.classification_report(predictions_df['label'], predictions_df['prediction'])\n",
    "    matrix = metrics.confusion_matrix(predictions_df['label'], predictions_df['prediction'])\n",
    "\n",
    "    return {'model': cv_model, 'predictions': predictions, 'predictions_df': predictions_df, \n",
    "            'report': report, 'matrix': matrix}\n",
    "\n",
    "def make_heatmap(matrix, title, colorscale):\n",
    "    fig = ff.create_annotated_heatmap(matrix, \n",
    "                                      x = ['Predicted - Denied (0)', 'Predicted - Approved (1)'], \n",
    "                                      y = ['Actual - Denied (0)', 'Actual - Approved (1)'], \n",
    "                                      annotation_text = matrix, colorscale = 'Greens')\n",
    "    \n",
    "    fig.update_layout(title = 'Loan Predictions: ' + title)\n",
    "    fig.show()\n",
    "    \n",
    "def plot_roc_curve(model, title):\n",
    "    summary = model.bestModel.summary\n",
    "    roc = summary.roc.toPandas()\n",
    "\n",
    "    fig = go.Figure(data = go.Scatter(x = roc['FPR'], y = roc['TPR']))\n",
    "    fig.update_layout(title = 'Loan Predictions: ' + title)\n",
    "    fig.show()\n",
    "    \n",
    "    print('AUC: ' + str(summary.areaUnderROC))"
   ]
  },
  {
   "cell_type": "markdown",
   "metadata": {},
   "source": [
    "When it comes to metrics for evaluating these models it's important to take a couple of things into consideration. First of all, due to the heavy class imbalance, accuracy won't be a satisfactory. To illustrate with our example (keeping an 85-15 class ratio as with this dataset), assuming there were 100 rows and we predicted all 85 approved (1) cases correctly and all denied (0) cases incorrectly, the accuracy would be 85%. This seems like a solid number, but the model wasn't able to predict anything from the other class, so it's useless!\n",
    "\n",
    "In comes precision and recall, which are much more useful. Precision is defined as: true positives / (true positives + false positives). Essentially, this tries to measure how correct the model actually is when it predicts the positive class. On the other hand, recall is defined as: true positives / (true positives + false negatives). Or, this could be thought of as how many true positives the model finds among the total number of actual positives in the data. A balance between these two would be the F1-Score, which is the weighted average of precision & recall. Formally, this is defined as 2 * ((precision * recall) / (precision + recall)). \n",
    "\n",
    "From the perspective of the bank/financial institution/loan issuer, precision could be a preferred metric as it's used when the cost of false positives is high. For example, if a bank were to approve a loan that should have been denied, there is a chance that the borrower won't pay it back, which is a huge long-term cost. False negatives could hurt the bank in another way as repeatedly denying loans might bring the bank less customers/lose potential profits. If one were to value the cost of false negatives more than that of false positives, recall would be good to pay attention to. "
   ]
  },
  {
   "cell_type": "code",
   "execution_count": 59,
   "metadata": {
    "scrolled": true
   },
   "outputs": [],
   "source": [
    "# Logistic Regression\n",
    "\n",
    "lr = LogisticRegression(featuresCol = 'features', labelCol = 'label', weightCol = 'weights', \n",
    "                        maxIter = 10, regParam = 0.07, elasticNetParam = 0.4)\n",
    "\n",
    "lr_result = crossval_training(lr)"
   ]
  },
  {
   "cell_type": "code",
   "execution_count": 60,
   "metadata": {},
   "outputs": [
    {
     "data": {
      "application/vnd.plotly.v1+json": {
       "config": {
        "plotlyServerURL": "https://plot.ly"
       },
       "data": [
        {
         "colorscale": [
          [
           0,
           "rgb(247,252,245)"
          ],
          [
           0.125,
           "rgb(229,245,224)"
          ],
          [
           0.25,
           "rgb(199,233,192)"
          ],
          [
           0.375,
           "rgb(161,217,155)"
          ],
          [
           0.5,
           "rgb(116,196,118)"
          ],
          [
           0.625,
           "rgb(65,171,93)"
          ],
          [
           0.75,
           "rgb(35,139,69)"
          ],
          [
           0.875,
           "rgb(0,109,44)"
          ],
          [
           1,
           "rgb(0,68,27)"
          ]
         ],
         "reversescale": false,
         "showscale": false,
         "type": "heatmap",
         "x": [
          "Predicted - Denied (0)",
          "Predicted - Approved (1)"
         ],
         "y": [
          "Actual - Denied (0)",
          "Actual - Approved (1)"
         ],
         "z": [
          [
           508202,
           296372
          ],
          [
           242107,
           2401976
          ]
         ]
        }
       ],
       "layout": {
        "annotations": [
         {
          "font": {
           "color": "#000000"
          },
          "showarrow": false,
          "text": "508202",
          "x": "Predicted - Denied (0)",
          "xref": "x",
          "y": "Actual - Denied (0)",
          "yref": "y"
         },
         {
          "font": {
           "color": "#000000"
          },
          "showarrow": false,
          "text": "296372",
          "x": "Predicted - Approved (1)",
          "xref": "x",
          "y": "Actual - Denied (0)",
          "yref": "y"
         },
         {
          "font": {
           "color": "#000000"
          },
          "showarrow": false,
          "text": "242107",
          "x": "Predicted - Denied (0)",
          "xref": "x",
          "y": "Actual - Approved (1)",
          "yref": "y"
         },
         {
          "font": {
           "color": "#FFFFFF"
          },
          "showarrow": false,
          "text": "2401976",
          "x": "Predicted - Approved (1)",
          "xref": "x",
          "y": "Actual - Approved (1)",
          "yref": "y"
         }
        ],
        "template": {
         "data": {
          "bar": [
           {
            "error_x": {
             "color": "#2a3f5f"
            },
            "error_y": {
             "color": "#2a3f5f"
            },
            "marker": {
             "line": {
              "color": "#E5ECF6",
              "width": 0.5
             }
            },
            "type": "bar"
           }
          ],
          "barpolar": [
           {
            "marker": {
             "line": {
              "color": "#E5ECF6",
              "width": 0.5
             }
            },
            "type": "barpolar"
           }
          ],
          "carpet": [
           {
            "aaxis": {
             "endlinecolor": "#2a3f5f",
             "gridcolor": "white",
             "linecolor": "white",
             "minorgridcolor": "white",
             "startlinecolor": "#2a3f5f"
            },
            "baxis": {
             "endlinecolor": "#2a3f5f",
             "gridcolor": "white",
             "linecolor": "white",
             "minorgridcolor": "white",
             "startlinecolor": "#2a3f5f"
            },
            "type": "carpet"
           }
          ],
          "choropleth": [
           {
            "colorbar": {
             "outlinewidth": 0,
             "ticks": ""
            },
            "type": "choropleth"
           }
          ],
          "contour": [
           {
            "colorbar": {
             "outlinewidth": 0,
             "ticks": ""
            },
            "colorscale": [
             [
              0,
              "#0d0887"
             ],
             [
              0.1111111111111111,
              "#46039f"
             ],
             [
              0.2222222222222222,
              "#7201a8"
             ],
             [
              0.3333333333333333,
              "#9c179e"
             ],
             [
              0.4444444444444444,
              "#bd3786"
             ],
             [
              0.5555555555555556,
              "#d8576b"
             ],
             [
              0.6666666666666666,
              "#ed7953"
             ],
             [
              0.7777777777777778,
              "#fb9f3a"
             ],
             [
              0.8888888888888888,
              "#fdca26"
             ],
             [
              1,
              "#f0f921"
             ]
            ],
            "type": "contour"
           }
          ],
          "contourcarpet": [
           {
            "colorbar": {
             "outlinewidth": 0,
             "ticks": ""
            },
            "type": "contourcarpet"
           }
          ],
          "heatmap": [
           {
            "colorbar": {
             "outlinewidth": 0,
             "ticks": ""
            },
            "colorscale": [
             [
              0,
              "#0d0887"
             ],
             [
              0.1111111111111111,
              "#46039f"
             ],
             [
              0.2222222222222222,
              "#7201a8"
             ],
             [
              0.3333333333333333,
              "#9c179e"
             ],
             [
              0.4444444444444444,
              "#bd3786"
             ],
             [
              0.5555555555555556,
              "#d8576b"
             ],
             [
              0.6666666666666666,
              "#ed7953"
             ],
             [
              0.7777777777777778,
              "#fb9f3a"
             ],
             [
              0.8888888888888888,
              "#fdca26"
             ],
             [
              1,
              "#f0f921"
             ]
            ],
            "type": "heatmap"
           }
          ],
          "heatmapgl": [
           {
            "colorbar": {
             "outlinewidth": 0,
             "ticks": ""
            },
            "colorscale": [
             [
              0,
              "#0d0887"
             ],
             [
              0.1111111111111111,
              "#46039f"
             ],
             [
              0.2222222222222222,
              "#7201a8"
             ],
             [
              0.3333333333333333,
              "#9c179e"
             ],
             [
              0.4444444444444444,
              "#bd3786"
             ],
             [
              0.5555555555555556,
              "#d8576b"
             ],
             [
              0.6666666666666666,
              "#ed7953"
             ],
             [
              0.7777777777777778,
              "#fb9f3a"
             ],
             [
              0.8888888888888888,
              "#fdca26"
             ],
             [
              1,
              "#f0f921"
             ]
            ],
            "type": "heatmapgl"
           }
          ],
          "histogram": [
           {
            "marker": {
             "colorbar": {
              "outlinewidth": 0,
              "ticks": ""
             }
            },
            "type": "histogram"
           }
          ],
          "histogram2d": [
           {
            "colorbar": {
             "outlinewidth": 0,
             "ticks": ""
            },
            "colorscale": [
             [
              0,
              "#0d0887"
             ],
             [
              0.1111111111111111,
              "#46039f"
             ],
             [
              0.2222222222222222,
              "#7201a8"
             ],
             [
              0.3333333333333333,
              "#9c179e"
             ],
             [
              0.4444444444444444,
              "#bd3786"
             ],
             [
              0.5555555555555556,
              "#d8576b"
             ],
             [
              0.6666666666666666,
              "#ed7953"
             ],
             [
              0.7777777777777778,
              "#fb9f3a"
             ],
             [
              0.8888888888888888,
              "#fdca26"
             ],
             [
              1,
              "#f0f921"
             ]
            ],
            "type": "histogram2d"
           }
          ],
          "histogram2dcontour": [
           {
            "colorbar": {
             "outlinewidth": 0,
             "ticks": ""
            },
            "colorscale": [
             [
              0,
              "#0d0887"
             ],
             [
              0.1111111111111111,
              "#46039f"
             ],
             [
              0.2222222222222222,
              "#7201a8"
             ],
             [
              0.3333333333333333,
              "#9c179e"
             ],
             [
              0.4444444444444444,
              "#bd3786"
             ],
             [
              0.5555555555555556,
              "#d8576b"
             ],
             [
              0.6666666666666666,
              "#ed7953"
             ],
             [
              0.7777777777777778,
              "#fb9f3a"
             ],
             [
              0.8888888888888888,
              "#fdca26"
             ],
             [
              1,
              "#f0f921"
             ]
            ],
            "type": "histogram2dcontour"
           }
          ],
          "mesh3d": [
           {
            "colorbar": {
             "outlinewidth": 0,
             "ticks": ""
            },
            "type": "mesh3d"
           }
          ],
          "parcoords": [
           {
            "line": {
             "colorbar": {
              "outlinewidth": 0,
              "ticks": ""
             }
            },
            "type": "parcoords"
           }
          ],
          "pie": [
           {
            "automargin": true,
            "type": "pie"
           }
          ],
          "scatter": [
           {
            "marker": {
             "colorbar": {
              "outlinewidth": 0,
              "ticks": ""
             }
            },
            "type": "scatter"
           }
          ],
          "scatter3d": [
           {
            "line": {
             "colorbar": {
              "outlinewidth": 0,
              "ticks": ""
             }
            },
            "marker": {
             "colorbar": {
              "outlinewidth": 0,
              "ticks": ""
             }
            },
            "type": "scatter3d"
           }
          ],
          "scattercarpet": [
           {
            "marker": {
             "colorbar": {
              "outlinewidth": 0,
              "ticks": ""
             }
            },
            "type": "scattercarpet"
           }
          ],
          "scattergeo": [
           {
            "marker": {
             "colorbar": {
              "outlinewidth": 0,
              "ticks": ""
             }
            },
            "type": "scattergeo"
           }
          ],
          "scattergl": [
           {
            "marker": {
             "colorbar": {
              "outlinewidth": 0,
              "ticks": ""
             }
            },
            "type": "scattergl"
           }
          ],
          "scattermapbox": [
           {
            "marker": {
             "colorbar": {
              "outlinewidth": 0,
              "ticks": ""
             }
            },
            "type": "scattermapbox"
           }
          ],
          "scatterpolar": [
           {
            "marker": {
             "colorbar": {
              "outlinewidth": 0,
              "ticks": ""
             }
            },
            "type": "scatterpolar"
           }
          ],
          "scatterpolargl": [
           {
            "marker": {
             "colorbar": {
              "outlinewidth": 0,
              "ticks": ""
             }
            },
            "type": "scatterpolargl"
           }
          ],
          "scatterternary": [
           {
            "marker": {
             "colorbar": {
              "outlinewidth": 0,
              "ticks": ""
             }
            },
            "type": "scatterternary"
           }
          ],
          "surface": [
           {
            "colorbar": {
             "outlinewidth": 0,
             "ticks": ""
            },
            "colorscale": [
             [
              0,
              "#0d0887"
             ],
             [
              0.1111111111111111,
              "#46039f"
             ],
             [
              0.2222222222222222,
              "#7201a8"
             ],
             [
              0.3333333333333333,
              "#9c179e"
             ],
             [
              0.4444444444444444,
              "#bd3786"
             ],
             [
              0.5555555555555556,
              "#d8576b"
             ],
             [
              0.6666666666666666,
              "#ed7953"
             ],
             [
              0.7777777777777778,
              "#fb9f3a"
             ],
             [
              0.8888888888888888,
              "#fdca26"
             ],
             [
              1,
              "#f0f921"
             ]
            ],
            "type": "surface"
           }
          ],
          "table": [
           {
            "cells": {
             "fill": {
              "color": "#EBF0F8"
             },
             "line": {
              "color": "white"
             }
            },
            "header": {
             "fill": {
              "color": "#C8D4E3"
             },
             "line": {
              "color": "white"
             }
            },
            "type": "table"
           }
          ]
         },
         "layout": {
          "annotationdefaults": {
           "arrowcolor": "#2a3f5f",
           "arrowhead": 0,
           "arrowwidth": 1
          },
          "coloraxis": {
           "colorbar": {
            "outlinewidth": 0,
            "ticks": ""
           }
          },
          "colorscale": {
           "diverging": [
            [
             0,
             "#8e0152"
            ],
            [
             0.1,
             "#c51b7d"
            ],
            [
             0.2,
             "#de77ae"
            ],
            [
             0.3,
             "#f1b6da"
            ],
            [
             0.4,
             "#fde0ef"
            ],
            [
             0.5,
             "#f7f7f7"
            ],
            [
             0.6,
             "#e6f5d0"
            ],
            [
             0.7,
             "#b8e186"
            ],
            [
             0.8,
             "#7fbc41"
            ],
            [
             0.9,
             "#4d9221"
            ],
            [
             1,
             "#276419"
            ]
           ],
           "sequential": [
            [
             0,
             "#0d0887"
            ],
            [
             0.1111111111111111,
             "#46039f"
            ],
            [
             0.2222222222222222,
             "#7201a8"
            ],
            [
             0.3333333333333333,
             "#9c179e"
            ],
            [
             0.4444444444444444,
             "#bd3786"
            ],
            [
             0.5555555555555556,
             "#d8576b"
            ],
            [
             0.6666666666666666,
             "#ed7953"
            ],
            [
             0.7777777777777778,
             "#fb9f3a"
            ],
            [
             0.8888888888888888,
             "#fdca26"
            ],
            [
             1,
             "#f0f921"
            ]
           ],
           "sequentialminus": [
            [
             0,
             "#0d0887"
            ],
            [
             0.1111111111111111,
             "#46039f"
            ],
            [
             0.2222222222222222,
             "#7201a8"
            ],
            [
             0.3333333333333333,
             "#9c179e"
            ],
            [
             0.4444444444444444,
             "#bd3786"
            ],
            [
             0.5555555555555556,
             "#d8576b"
            ],
            [
             0.6666666666666666,
             "#ed7953"
            ],
            [
             0.7777777777777778,
             "#fb9f3a"
            ],
            [
             0.8888888888888888,
             "#fdca26"
            ],
            [
             1,
             "#f0f921"
            ]
           ]
          },
          "colorway": [
           "#636efa",
           "#EF553B",
           "#00cc96",
           "#ab63fa",
           "#FFA15A",
           "#19d3f3",
           "#FF6692",
           "#B6E880",
           "#FF97FF",
           "#FECB52"
          ],
          "font": {
           "color": "#2a3f5f"
          },
          "geo": {
           "bgcolor": "white",
           "lakecolor": "white",
           "landcolor": "#E5ECF6",
           "showlakes": true,
           "showland": true,
           "subunitcolor": "white"
          },
          "hoverlabel": {
           "align": "left"
          },
          "hovermode": "closest",
          "mapbox": {
           "style": "light"
          },
          "paper_bgcolor": "white",
          "plot_bgcolor": "#E5ECF6",
          "polar": {
           "angularaxis": {
            "gridcolor": "white",
            "linecolor": "white",
            "ticks": ""
           },
           "bgcolor": "#E5ECF6",
           "radialaxis": {
            "gridcolor": "white",
            "linecolor": "white",
            "ticks": ""
           }
          },
          "scene": {
           "xaxis": {
            "backgroundcolor": "#E5ECF6",
            "gridcolor": "white",
            "gridwidth": 2,
            "linecolor": "white",
            "showbackground": true,
            "ticks": "",
            "zerolinecolor": "white"
           },
           "yaxis": {
            "backgroundcolor": "#E5ECF6",
            "gridcolor": "white",
            "gridwidth": 2,
            "linecolor": "white",
            "showbackground": true,
            "ticks": "",
            "zerolinecolor": "white"
           },
           "zaxis": {
            "backgroundcolor": "#E5ECF6",
            "gridcolor": "white",
            "gridwidth": 2,
            "linecolor": "white",
            "showbackground": true,
            "ticks": "",
            "zerolinecolor": "white"
           }
          },
          "shapedefaults": {
           "line": {
            "color": "#2a3f5f"
           }
          },
          "ternary": {
           "aaxis": {
            "gridcolor": "white",
            "linecolor": "white",
            "ticks": ""
           },
           "baxis": {
            "gridcolor": "white",
            "linecolor": "white",
            "ticks": ""
           },
           "bgcolor": "#E5ECF6",
           "caxis": {
            "gridcolor": "white",
            "linecolor": "white",
            "ticks": ""
           }
          },
          "title": {
           "x": 0.05
          },
          "xaxis": {
           "automargin": true,
           "gridcolor": "white",
           "linecolor": "white",
           "ticks": "",
           "title": {
            "standoff": 15
           },
           "zerolinecolor": "white",
           "zerolinewidth": 2
          },
          "yaxis": {
           "automargin": true,
           "gridcolor": "white",
           "linecolor": "white",
           "ticks": "",
           "title": {
            "standoff": 15
           },
           "zerolinecolor": "white",
           "zerolinewidth": 2
          }
         }
        },
        "title": {
         "text": "Loan Predictions: Logistic Regression Confusion Matrix"
        },
        "xaxis": {
         "dtick": 1,
         "gridcolor": "rgb(0, 0, 0)",
         "side": "top",
         "ticks": ""
        },
        "yaxis": {
         "dtick": 1,
         "ticks": "",
         "ticksuffix": "  "
        }
       }
      },
      "text/html": [
       "<div>                            <div id=\"f7608816-e531-460b-b4a0-e935fb365e67\" class=\"plotly-graph-div\" style=\"height:525px; width:100%;\"></div>            <script type=\"text/javascript\">                require([\"plotly\"], function(Plotly) {                    window.PLOTLYENV=window.PLOTLYENV || {};                                    if (document.getElementById(\"f7608816-e531-460b-b4a0-e935fb365e67\")) {                    Plotly.newPlot(                        \"f7608816-e531-460b-b4a0-e935fb365e67\",                        [{\"colorscale\": [[0.0, \"rgb(247,252,245)\"], [0.125, \"rgb(229,245,224)\"], [0.25, \"rgb(199,233,192)\"], [0.375, \"rgb(161,217,155)\"], [0.5, \"rgb(116,196,118)\"], [0.625, \"rgb(65,171,93)\"], [0.75, \"rgb(35,139,69)\"], [0.875, \"rgb(0,109,44)\"], [1.0, \"rgb(0,68,27)\"]], \"reversescale\": false, \"showscale\": false, \"type\": \"heatmap\", \"x\": [\"Predicted - Denied (0)\", \"Predicted - Approved (1)\"], \"y\": [\"Actual - Denied (0)\", \"Actual - Approved (1)\"], \"z\": [[508202, 296372], [242107, 2401976]]}],                        {\"annotations\": [{\"font\": {\"color\": \"#000000\"}, \"showarrow\": false, \"text\": \"508202\", \"x\": \"Predicted - Denied (0)\", \"xref\": \"x\", \"y\": \"Actual - Denied (0)\", \"yref\": \"y\"}, {\"font\": {\"color\": \"#000000\"}, \"showarrow\": false, \"text\": \"296372\", \"x\": \"Predicted - Approved (1)\", \"xref\": \"x\", \"y\": \"Actual - Denied (0)\", \"yref\": \"y\"}, {\"font\": {\"color\": \"#000000\"}, \"showarrow\": false, \"text\": \"242107\", \"x\": \"Predicted - Denied (0)\", \"xref\": \"x\", \"y\": \"Actual - Approved (1)\", \"yref\": \"y\"}, {\"font\": {\"color\": \"#FFFFFF\"}, \"showarrow\": false, \"text\": \"2401976\", \"x\": \"Predicted - Approved (1)\", \"xref\": \"x\", \"y\": \"Actual - Approved (1)\", \"yref\": \"y\"}], \"template\": {\"data\": {\"bar\": [{\"error_x\": {\"color\": \"#2a3f5f\"}, \"error_y\": {\"color\": \"#2a3f5f\"}, \"marker\": {\"line\": {\"color\": \"#E5ECF6\", \"width\": 0.5}}, \"type\": \"bar\"}], \"barpolar\": [{\"marker\": {\"line\": {\"color\": \"#E5ECF6\", \"width\": 0.5}}, \"type\": \"barpolar\"}], \"carpet\": [{\"aaxis\": {\"endlinecolor\": \"#2a3f5f\", \"gridcolor\": \"white\", \"linecolor\": \"white\", \"minorgridcolor\": \"white\", \"startlinecolor\": \"#2a3f5f\"}, \"baxis\": {\"endlinecolor\": \"#2a3f5f\", \"gridcolor\": \"white\", \"linecolor\": \"white\", \"minorgridcolor\": \"white\", \"startlinecolor\": \"#2a3f5f\"}, \"type\": \"carpet\"}], \"choropleth\": [{\"colorbar\": {\"outlinewidth\": 0, \"ticks\": \"\"}, \"type\": \"choropleth\"}], \"contour\": [{\"colorbar\": {\"outlinewidth\": 0, \"ticks\": \"\"}, \"colorscale\": [[0.0, \"#0d0887\"], [0.1111111111111111, \"#46039f\"], [0.2222222222222222, \"#7201a8\"], [0.3333333333333333, \"#9c179e\"], [0.4444444444444444, \"#bd3786\"], [0.5555555555555556, \"#d8576b\"], [0.6666666666666666, \"#ed7953\"], [0.7777777777777778, \"#fb9f3a\"], [0.8888888888888888, \"#fdca26\"], [1.0, \"#f0f921\"]], \"type\": \"contour\"}], \"contourcarpet\": [{\"colorbar\": {\"outlinewidth\": 0, \"ticks\": \"\"}, \"type\": \"contourcarpet\"}], \"heatmap\": [{\"colorbar\": {\"outlinewidth\": 0, \"ticks\": \"\"}, \"colorscale\": [[0.0, \"#0d0887\"], [0.1111111111111111, \"#46039f\"], [0.2222222222222222, \"#7201a8\"], [0.3333333333333333, \"#9c179e\"], [0.4444444444444444, \"#bd3786\"], [0.5555555555555556, \"#d8576b\"], [0.6666666666666666, \"#ed7953\"], [0.7777777777777778, \"#fb9f3a\"], [0.8888888888888888, \"#fdca26\"], [1.0, \"#f0f921\"]], \"type\": \"heatmap\"}], \"heatmapgl\": [{\"colorbar\": {\"outlinewidth\": 0, \"ticks\": \"\"}, \"colorscale\": [[0.0, \"#0d0887\"], [0.1111111111111111, \"#46039f\"], [0.2222222222222222, \"#7201a8\"], [0.3333333333333333, \"#9c179e\"], [0.4444444444444444, \"#bd3786\"], [0.5555555555555556, \"#d8576b\"], [0.6666666666666666, \"#ed7953\"], [0.7777777777777778, \"#fb9f3a\"], [0.8888888888888888, \"#fdca26\"], [1.0, \"#f0f921\"]], \"type\": \"heatmapgl\"}], \"histogram\": [{\"marker\": {\"colorbar\": {\"outlinewidth\": 0, \"ticks\": \"\"}}, \"type\": \"histogram\"}], \"histogram2d\": [{\"colorbar\": {\"outlinewidth\": 0, \"ticks\": \"\"}, \"colorscale\": [[0.0, \"#0d0887\"], [0.1111111111111111, \"#46039f\"], [0.2222222222222222, \"#7201a8\"], [0.3333333333333333, \"#9c179e\"], [0.4444444444444444, \"#bd3786\"], [0.5555555555555556, \"#d8576b\"], [0.6666666666666666, \"#ed7953\"], [0.7777777777777778, \"#fb9f3a\"], [0.8888888888888888, \"#fdca26\"], [1.0, \"#f0f921\"]], \"type\": \"histogram2d\"}], \"histogram2dcontour\": [{\"colorbar\": {\"outlinewidth\": 0, \"ticks\": \"\"}, \"colorscale\": [[0.0, \"#0d0887\"], [0.1111111111111111, \"#46039f\"], [0.2222222222222222, \"#7201a8\"], [0.3333333333333333, \"#9c179e\"], [0.4444444444444444, \"#bd3786\"], [0.5555555555555556, \"#d8576b\"], [0.6666666666666666, \"#ed7953\"], [0.7777777777777778, \"#fb9f3a\"], [0.8888888888888888, \"#fdca26\"], [1.0, \"#f0f921\"]], \"type\": \"histogram2dcontour\"}], \"mesh3d\": [{\"colorbar\": {\"outlinewidth\": 0, \"ticks\": \"\"}, \"type\": \"mesh3d\"}], \"parcoords\": [{\"line\": {\"colorbar\": {\"outlinewidth\": 0, \"ticks\": \"\"}}, \"type\": \"parcoords\"}], \"pie\": [{\"automargin\": true, \"type\": \"pie\"}], \"scatter\": [{\"marker\": {\"colorbar\": {\"outlinewidth\": 0, \"ticks\": \"\"}}, \"type\": \"scatter\"}], \"scatter3d\": [{\"line\": {\"colorbar\": {\"outlinewidth\": 0, \"ticks\": \"\"}}, \"marker\": {\"colorbar\": {\"outlinewidth\": 0, \"ticks\": \"\"}}, \"type\": \"scatter3d\"}], \"scattercarpet\": [{\"marker\": {\"colorbar\": {\"outlinewidth\": 0, \"ticks\": \"\"}}, \"type\": \"scattercarpet\"}], \"scattergeo\": [{\"marker\": {\"colorbar\": {\"outlinewidth\": 0, \"ticks\": \"\"}}, \"type\": \"scattergeo\"}], \"scattergl\": [{\"marker\": {\"colorbar\": {\"outlinewidth\": 0, \"ticks\": \"\"}}, \"type\": \"scattergl\"}], \"scattermapbox\": [{\"marker\": {\"colorbar\": {\"outlinewidth\": 0, \"ticks\": \"\"}}, \"type\": \"scattermapbox\"}], \"scatterpolar\": [{\"marker\": {\"colorbar\": {\"outlinewidth\": 0, \"ticks\": \"\"}}, \"type\": \"scatterpolar\"}], \"scatterpolargl\": [{\"marker\": {\"colorbar\": {\"outlinewidth\": 0, \"ticks\": \"\"}}, \"type\": \"scatterpolargl\"}], \"scatterternary\": [{\"marker\": {\"colorbar\": {\"outlinewidth\": 0, \"ticks\": \"\"}}, \"type\": \"scatterternary\"}], \"surface\": [{\"colorbar\": {\"outlinewidth\": 0, \"ticks\": \"\"}, \"colorscale\": [[0.0, \"#0d0887\"], [0.1111111111111111, \"#46039f\"], [0.2222222222222222, \"#7201a8\"], [0.3333333333333333, \"#9c179e\"], [0.4444444444444444, \"#bd3786\"], [0.5555555555555556, \"#d8576b\"], [0.6666666666666666, \"#ed7953\"], [0.7777777777777778, \"#fb9f3a\"], [0.8888888888888888, \"#fdca26\"], [1.0, \"#f0f921\"]], \"type\": \"surface\"}], \"table\": [{\"cells\": {\"fill\": {\"color\": \"#EBF0F8\"}, \"line\": {\"color\": \"white\"}}, \"header\": {\"fill\": {\"color\": \"#C8D4E3\"}, \"line\": {\"color\": \"white\"}}, \"type\": \"table\"}]}, \"layout\": {\"annotationdefaults\": {\"arrowcolor\": \"#2a3f5f\", \"arrowhead\": 0, \"arrowwidth\": 1}, \"coloraxis\": {\"colorbar\": {\"outlinewidth\": 0, \"ticks\": \"\"}}, \"colorscale\": {\"diverging\": [[0, \"#8e0152\"], [0.1, \"#c51b7d\"], [0.2, \"#de77ae\"], [0.3, \"#f1b6da\"], [0.4, \"#fde0ef\"], [0.5, \"#f7f7f7\"], [0.6, \"#e6f5d0\"], [0.7, \"#b8e186\"], [0.8, \"#7fbc41\"], [0.9, \"#4d9221\"], [1, \"#276419\"]], \"sequential\": [[0.0, \"#0d0887\"], [0.1111111111111111, \"#46039f\"], [0.2222222222222222, \"#7201a8\"], [0.3333333333333333, \"#9c179e\"], [0.4444444444444444, \"#bd3786\"], [0.5555555555555556, \"#d8576b\"], [0.6666666666666666, \"#ed7953\"], [0.7777777777777778, \"#fb9f3a\"], [0.8888888888888888, \"#fdca26\"], [1.0, \"#f0f921\"]], \"sequentialminus\": [[0.0, \"#0d0887\"], [0.1111111111111111, \"#46039f\"], [0.2222222222222222, \"#7201a8\"], [0.3333333333333333, \"#9c179e\"], [0.4444444444444444, \"#bd3786\"], [0.5555555555555556, \"#d8576b\"], [0.6666666666666666, \"#ed7953\"], [0.7777777777777778, \"#fb9f3a\"], [0.8888888888888888, \"#fdca26\"], [1.0, \"#f0f921\"]]}, \"colorway\": [\"#636efa\", \"#EF553B\", \"#00cc96\", \"#ab63fa\", \"#FFA15A\", \"#19d3f3\", \"#FF6692\", \"#B6E880\", \"#FF97FF\", \"#FECB52\"], \"font\": {\"color\": \"#2a3f5f\"}, \"geo\": {\"bgcolor\": \"white\", \"lakecolor\": \"white\", \"landcolor\": \"#E5ECF6\", \"showlakes\": true, \"showland\": true, \"subunitcolor\": \"white\"}, \"hoverlabel\": {\"align\": \"left\"}, \"hovermode\": \"closest\", \"mapbox\": {\"style\": \"light\"}, \"paper_bgcolor\": \"white\", \"plot_bgcolor\": \"#E5ECF6\", \"polar\": {\"angularaxis\": {\"gridcolor\": \"white\", \"linecolor\": \"white\", \"ticks\": \"\"}, \"bgcolor\": \"#E5ECF6\", \"radialaxis\": {\"gridcolor\": \"white\", \"linecolor\": \"white\", \"ticks\": \"\"}}, \"scene\": {\"xaxis\": {\"backgroundcolor\": \"#E5ECF6\", \"gridcolor\": \"white\", \"gridwidth\": 2, \"linecolor\": \"white\", \"showbackground\": true, \"ticks\": \"\", \"zerolinecolor\": \"white\"}, \"yaxis\": {\"backgroundcolor\": \"#E5ECF6\", \"gridcolor\": \"white\", \"gridwidth\": 2, \"linecolor\": \"white\", \"showbackground\": true, \"ticks\": \"\", \"zerolinecolor\": \"white\"}, \"zaxis\": {\"backgroundcolor\": \"#E5ECF6\", \"gridcolor\": \"white\", \"gridwidth\": 2, \"linecolor\": \"white\", \"showbackground\": true, \"ticks\": \"\", \"zerolinecolor\": \"white\"}}, \"shapedefaults\": {\"line\": {\"color\": \"#2a3f5f\"}}, \"ternary\": {\"aaxis\": {\"gridcolor\": \"white\", \"linecolor\": \"white\", \"ticks\": \"\"}, \"baxis\": {\"gridcolor\": \"white\", \"linecolor\": \"white\", \"ticks\": \"\"}, \"bgcolor\": \"#E5ECF6\", \"caxis\": {\"gridcolor\": \"white\", \"linecolor\": \"white\", \"ticks\": \"\"}}, \"title\": {\"x\": 0.05}, \"xaxis\": {\"automargin\": true, \"gridcolor\": \"white\", \"linecolor\": \"white\", \"ticks\": \"\", \"title\": {\"standoff\": 15}, \"zerolinecolor\": \"white\", \"zerolinewidth\": 2}, \"yaxis\": {\"automargin\": true, \"gridcolor\": \"white\", \"linecolor\": \"white\", \"ticks\": \"\", \"title\": {\"standoff\": 15}, \"zerolinecolor\": \"white\", \"zerolinewidth\": 2}}}, \"title\": {\"text\": \"Loan Predictions: Logistic Regression Confusion Matrix\"}, \"xaxis\": {\"dtick\": 1, \"gridcolor\": \"rgb(0, 0, 0)\", \"side\": \"top\", \"ticks\": \"\"}, \"yaxis\": {\"dtick\": 1, \"ticks\": \"\", \"ticksuffix\": \"  \"}},                        {\"responsive\": true}                    ).then(function(){\n",
       "                            \n",
       "var gd = document.getElementById('f7608816-e531-460b-b4a0-e935fb365e67');\n",
       "var x = new MutationObserver(function (mutations, observer) {{\n",
       "        var display = window.getComputedStyle(gd).display;\n",
       "        if (!display || display === 'none') {{\n",
       "            console.log([gd, 'removed!']);\n",
       "            Plotly.purge(gd);\n",
       "            observer.disconnect();\n",
       "        }}\n",
       "}});\n",
       "\n",
       "// Listen for the removal of the full notebook cells\n",
       "var notebookContainer = gd.closest('#notebook-container');\n",
       "if (notebookContainer) {{\n",
       "    x.observe(notebookContainer, {childList: true});\n",
       "}}\n",
       "\n",
       "// Listen for the clearing of the current output cell\n",
       "var outputEl = gd.closest('.output');\n",
       "if (outputEl) {{\n",
       "    x.observe(outputEl, {childList: true});\n",
       "}}\n",
       "\n",
       "                        })                };                });            </script>        </div>"
      ]
     },
     "metadata": {},
     "output_type": "display_data"
    }
   ],
   "source": [
    "make_heatmap(lr_result['matrix'], 'Logistic Regression Confusion Matrix', 'Greens')"
   ]
  },
  {
   "cell_type": "code",
   "execution_count": 61,
   "metadata": {},
   "outputs": [
    {
     "name": "stdout",
     "output_type": "stream",
     "text": [
      "              precision    recall  f1-score   support\n",
      "\n",
      "           0       0.68      0.63      0.65    804574\n",
      "           1       0.89      0.91      0.90   2644083\n",
      "\n",
      "    accuracy                           0.84   3448657\n",
      "   macro avg       0.78      0.77      0.78   3448657\n",
      "weighted avg       0.84      0.84      0.84   3448657\n",
      "\n"
     ]
    }
   ],
   "source": [
    "print(lr_result['report'])"
   ]
  },
  {
   "cell_type": "code",
   "execution_count": 62,
   "metadata": {},
   "outputs": [
    {
     "name": "stdout",
     "output_type": "stream",
     "text": [
      "Logistic Regression areaUnderROC: 0.9235463819860802\n"
     ]
    }
   ],
   "source": [
    "evaluator = BinaryClassificationEvaluator()\n",
    "print('Logistic Regression areaUnderROC: {}'.format(evaluator.evaluate(lr_result['predictions'])))"
   ]
  },
  {
   "cell_type": "code",
   "execution_count": 41,
   "metadata": {},
   "outputs": [],
   "source": [
    "# Random Forest\n",
    "\n",
    "rf = RandomForestClassifier(featuresCol = 'features', labelCol = 'label', weightCol = 'weights')\n",
    "\n",
    "rf_result = crossval_training(rf)"
   ]
  },
  {
   "cell_type": "code",
   "execution_count": 42,
   "metadata": {},
   "outputs": [
    {
     "data": {
      "application/vnd.plotly.v1+json": {
       "config": {
        "plotlyServerURL": "https://plot.ly"
       },
       "data": [
        {
         "colorscale": [
          [
           0,
           "rgb(247,252,245)"
          ],
          [
           0.125,
           "rgb(229,245,224)"
          ],
          [
           0.25,
           "rgb(199,233,192)"
          ],
          [
           0.375,
           "rgb(161,217,155)"
          ],
          [
           0.5,
           "rgb(116,196,118)"
          ],
          [
           0.625,
           "rgb(65,171,93)"
          ],
          [
           0.75,
           "rgb(35,139,69)"
          ],
          [
           0.875,
           "rgb(0,109,44)"
          ],
          [
           1,
           "rgb(0,68,27)"
          ]
         ],
         "reversescale": false,
         "showscale": false,
         "type": "heatmap",
         "x": [
          "Predicted - Denied (0)",
          "Predicted - Approved (1)"
         ],
         "y": [
          "Actual - Denied (0)",
          "Actual - Approved (1)"
         ],
         "z": [
          [
           804403,
           171
          ],
          [
           749126,
           1894957
          ]
         ]
        }
       ],
       "layout": {
        "annotations": [
         {
          "font": {
           "color": "#000000"
          },
          "showarrow": false,
          "text": "804403",
          "x": "Predicted - Denied (0)",
          "xref": "x",
          "y": "Actual - Denied (0)",
          "yref": "y"
         },
         {
          "font": {
           "color": "#000000"
          },
          "showarrow": false,
          "text": "171",
          "x": "Predicted - Approved (1)",
          "xref": "x",
          "y": "Actual - Denied (0)",
          "yref": "y"
         },
         {
          "font": {
           "color": "#000000"
          },
          "showarrow": false,
          "text": "749126",
          "x": "Predicted - Denied (0)",
          "xref": "x",
          "y": "Actual - Approved (1)",
          "yref": "y"
         },
         {
          "font": {
           "color": "#FFFFFF"
          },
          "showarrow": false,
          "text": "1894957",
          "x": "Predicted - Approved (1)",
          "xref": "x",
          "y": "Actual - Approved (1)",
          "yref": "y"
         }
        ],
        "template": {
         "data": {
          "bar": [
           {
            "error_x": {
             "color": "#2a3f5f"
            },
            "error_y": {
             "color": "#2a3f5f"
            },
            "marker": {
             "line": {
              "color": "#E5ECF6",
              "width": 0.5
             }
            },
            "type": "bar"
           }
          ],
          "barpolar": [
           {
            "marker": {
             "line": {
              "color": "#E5ECF6",
              "width": 0.5
             }
            },
            "type": "barpolar"
           }
          ],
          "carpet": [
           {
            "aaxis": {
             "endlinecolor": "#2a3f5f",
             "gridcolor": "white",
             "linecolor": "white",
             "minorgridcolor": "white",
             "startlinecolor": "#2a3f5f"
            },
            "baxis": {
             "endlinecolor": "#2a3f5f",
             "gridcolor": "white",
             "linecolor": "white",
             "minorgridcolor": "white",
             "startlinecolor": "#2a3f5f"
            },
            "type": "carpet"
           }
          ],
          "choropleth": [
           {
            "colorbar": {
             "outlinewidth": 0,
             "ticks": ""
            },
            "type": "choropleth"
           }
          ],
          "contour": [
           {
            "colorbar": {
             "outlinewidth": 0,
             "ticks": ""
            },
            "colorscale": [
             [
              0,
              "#0d0887"
             ],
             [
              0.1111111111111111,
              "#46039f"
             ],
             [
              0.2222222222222222,
              "#7201a8"
             ],
             [
              0.3333333333333333,
              "#9c179e"
             ],
             [
              0.4444444444444444,
              "#bd3786"
             ],
             [
              0.5555555555555556,
              "#d8576b"
             ],
             [
              0.6666666666666666,
              "#ed7953"
             ],
             [
              0.7777777777777778,
              "#fb9f3a"
             ],
             [
              0.8888888888888888,
              "#fdca26"
             ],
             [
              1,
              "#f0f921"
             ]
            ],
            "type": "contour"
           }
          ],
          "contourcarpet": [
           {
            "colorbar": {
             "outlinewidth": 0,
             "ticks": ""
            },
            "type": "contourcarpet"
           }
          ],
          "heatmap": [
           {
            "colorbar": {
             "outlinewidth": 0,
             "ticks": ""
            },
            "colorscale": [
             [
              0,
              "#0d0887"
             ],
             [
              0.1111111111111111,
              "#46039f"
             ],
             [
              0.2222222222222222,
              "#7201a8"
             ],
             [
              0.3333333333333333,
              "#9c179e"
             ],
             [
              0.4444444444444444,
              "#bd3786"
             ],
             [
              0.5555555555555556,
              "#d8576b"
             ],
             [
              0.6666666666666666,
              "#ed7953"
             ],
             [
              0.7777777777777778,
              "#fb9f3a"
             ],
             [
              0.8888888888888888,
              "#fdca26"
             ],
             [
              1,
              "#f0f921"
             ]
            ],
            "type": "heatmap"
           }
          ],
          "heatmapgl": [
           {
            "colorbar": {
             "outlinewidth": 0,
             "ticks": ""
            },
            "colorscale": [
             [
              0,
              "#0d0887"
             ],
             [
              0.1111111111111111,
              "#46039f"
             ],
             [
              0.2222222222222222,
              "#7201a8"
             ],
             [
              0.3333333333333333,
              "#9c179e"
             ],
             [
              0.4444444444444444,
              "#bd3786"
             ],
             [
              0.5555555555555556,
              "#d8576b"
             ],
             [
              0.6666666666666666,
              "#ed7953"
             ],
             [
              0.7777777777777778,
              "#fb9f3a"
             ],
             [
              0.8888888888888888,
              "#fdca26"
             ],
             [
              1,
              "#f0f921"
             ]
            ],
            "type": "heatmapgl"
           }
          ],
          "histogram": [
           {
            "marker": {
             "colorbar": {
              "outlinewidth": 0,
              "ticks": ""
             }
            },
            "type": "histogram"
           }
          ],
          "histogram2d": [
           {
            "colorbar": {
             "outlinewidth": 0,
             "ticks": ""
            },
            "colorscale": [
             [
              0,
              "#0d0887"
             ],
             [
              0.1111111111111111,
              "#46039f"
             ],
             [
              0.2222222222222222,
              "#7201a8"
             ],
             [
              0.3333333333333333,
              "#9c179e"
             ],
             [
              0.4444444444444444,
              "#bd3786"
             ],
             [
              0.5555555555555556,
              "#d8576b"
             ],
             [
              0.6666666666666666,
              "#ed7953"
             ],
             [
              0.7777777777777778,
              "#fb9f3a"
             ],
             [
              0.8888888888888888,
              "#fdca26"
             ],
             [
              1,
              "#f0f921"
             ]
            ],
            "type": "histogram2d"
           }
          ],
          "histogram2dcontour": [
           {
            "colorbar": {
             "outlinewidth": 0,
             "ticks": ""
            },
            "colorscale": [
             [
              0,
              "#0d0887"
             ],
             [
              0.1111111111111111,
              "#46039f"
             ],
             [
              0.2222222222222222,
              "#7201a8"
             ],
             [
              0.3333333333333333,
              "#9c179e"
             ],
             [
              0.4444444444444444,
              "#bd3786"
             ],
             [
              0.5555555555555556,
              "#d8576b"
             ],
             [
              0.6666666666666666,
              "#ed7953"
             ],
             [
              0.7777777777777778,
              "#fb9f3a"
             ],
             [
              0.8888888888888888,
              "#fdca26"
             ],
             [
              1,
              "#f0f921"
             ]
            ],
            "type": "histogram2dcontour"
           }
          ],
          "mesh3d": [
           {
            "colorbar": {
             "outlinewidth": 0,
             "ticks": ""
            },
            "type": "mesh3d"
           }
          ],
          "parcoords": [
           {
            "line": {
             "colorbar": {
              "outlinewidth": 0,
              "ticks": ""
             }
            },
            "type": "parcoords"
           }
          ],
          "pie": [
           {
            "automargin": true,
            "type": "pie"
           }
          ],
          "scatter": [
           {
            "marker": {
             "colorbar": {
              "outlinewidth": 0,
              "ticks": ""
             }
            },
            "type": "scatter"
           }
          ],
          "scatter3d": [
           {
            "line": {
             "colorbar": {
              "outlinewidth": 0,
              "ticks": ""
             }
            },
            "marker": {
             "colorbar": {
              "outlinewidth": 0,
              "ticks": ""
             }
            },
            "type": "scatter3d"
           }
          ],
          "scattercarpet": [
           {
            "marker": {
             "colorbar": {
              "outlinewidth": 0,
              "ticks": ""
             }
            },
            "type": "scattercarpet"
           }
          ],
          "scattergeo": [
           {
            "marker": {
             "colorbar": {
              "outlinewidth": 0,
              "ticks": ""
             }
            },
            "type": "scattergeo"
           }
          ],
          "scattergl": [
           {
            "marker": {
             "colorbar": {
              "outlinewidth": 0,
              "ticks": ""
             }
            },
            "type": "scattergl"
           }
          ],
          "scattermapbox": [
           {
            "marker": {
             "colorbar": {
              "outlinewidth": 0,
              "ticks": ""
             }
            },
            "type": "scattermapbox"
           }
          ],
          "scatterpolar": [
           {
            "marker": {
             "colorbar": {
              "outlinewidth": 0,
              "ticks": ""
             }
            },
            "type": "scatterpolar"
           }
          ],
          "scatterpolargl": [
           {
            "marker": {
             "colorbar": {
              "outlinewidth": 0,
              "ticks": ""
             }
            },
            "type": "scatterpolargl"
           }
          ],
          "scatterternary": [
           {
            "marker": {
             "colorbar": {
              "outlinewidth": 0,
              "ticks": ""
             }
            },
            "type": "scatterternary"
           }
          ],
          "surface": [
           {
            "colorbar": {
             "outlinewidth": 0,
             "ticks": ""
            },
            "colorscale": [
             [
              0,
              "#0d0887"
             ],
             [
              0.1111111111111111,
              "#46039f"
             ],
             [
              0.2222222222222222,
              "#7201a8"
             ],
             [
              0.3333333333333333,
              "#9c179e"
             ],
             [
              0.4444444444444444,
              "#bd3786"
             ],
             [
              0.5555555555555556,
              "#d8576b"
             ],
             [
              0.6666666666666666,
              "#ed7953"
             ],
             [
              0.7777777777777778,
              "#fb9f3a"
             ],
             [
              0.8888888888888888,
              "#fdca26"
             ],
             [
              1,
              "#f0f921"
             ]
            ],
            "type": "surface"
           }
          ],
          "table": [
           {
            "cells": {
             "fill": {
              "color": "#EBF0F8"
             },
             "line": {
              "color": "white"
             }
            },
            "header": {
             "fill": {
              "color": "#C8D4E3"
             },
             "line": {
              "color": "white"
             }
            },
            "type": "table"
           }
          ]
         },
         "layout": {
          "annotationdefaults": {
           "arrowcolor": "#2a3f5f",
           "arrowhead": 0,
           "arrowwidth": 1
          },
          "coloraxis": {
           "colorbar": {
            "outlinewidth": 0,
            "ticks": ""
           }
          },
          "colorscale": {
           "diverging": [
            [
             0,
             "#8e0152"
            ],
            [
             0.1,
             "#c51b7d"
            ],
            [
             0.2,
             "#de77ae"
            ],
            [
             0.3,
             "#f1b6da"
            ],
            [
             0.4,
             "#fde0ef"
            ],
            [
             0.5,
             "#f7f7f7"
            ],
            [
             0.6,
             "#e6f5d0"
            ],
            [
             0.7,
             "#b8e186"
            ],
            [
             0.8,
             "#7fbc41"
            ],
            [
             0.9,
             "#4d9221"
            ],
            [
             1,
             "#276419"
            ]
           ],
           "sequential": [
            [
             0,
             "#0d0887"
            ],
            [
             0.1111111111111111,
             "#46039f"
            ],
            [
             0.2222222222222222,
             "#7201a8"
            ],
            [
             0.3333333333333333,
             "#9c179e"
            ],
            [
             0.4444444444444444,
             "#bd3786"
            ],
            [
             0.5555555555555556,
             "#d8576b"
            ],
            [
             0.6666666666666666,
             "#ed7953"
            ],
            [
             0.7777777777777778,
             "#fb9f3a"
            ],
            [
             0.8888888888888888,
             "#fdca26"
            ],
            [
             1,
             "#f0f921"
            ]
           ],
           "sequentialminus": [
            [
             0,
             "#0d0887"
            ],
            [
             0.1111111111111111,
             "#46039f"
            ],
            [
             0.2222222222222222,
             "#7201a8"
            ],
            [
             0.3333333333333333,
             "#9c179e"
            ],
            [
             0.4444444444444444,
             "#bd3786"
            ],
            [
             0.5555555555555556,
             "#d8576b"
            ],
            [
             0.6666666666666666,
             "#ed7953"
            ],
            [
             0.7777777777777778,
             "#fb9f3a"
            ],
            [
             0.8888888888888888,
             "#fdca26"
            ],
            [
             1,
             "#f0f921"
            ]
           ]
          },
          "colorway": [
           "#636efa",
           "#EF553B",
           "#00cc96",
           "#ab63fa",
           "#FFA15A",
           "#19d3f3",
           "#FF6692",
           "#B6E880",
           "#FF97FF",
           "#FECB52"
          ],
          "font": {
           "color": "#2a3f5f"
          },
          "geo": {
           "bgcolor": "white",
           "lakecolor": "white",
           "landcolor": "#E5ECF6",
           "showlakes": true,
           "showland": true,
           "subunitcolor": "white"
          },
          "hoverlabel": {
           "align": "left"
          },
          "hovermode": "closest",
          "mapbox": {
           "style": "light"
          },
          "paper_bgcolor": "white",
          "plot_bgcolor": "#E5ECF6",
          "polar": {
           "angularaxis": {
            "gridcolor": "white",
            "linecolor": "white",
            "ticks": ""
           },
           "bgcolor": "#E5ECF6",
           "radialaxis": {
            "gridcolor": "white",
            "linecolor": "white",
            "ticks": ""
           }
          },
          "scene": {
           "xaxis": {
            "backgroundcolor": "#E5ECF6",
            "gridcolor": "white",
            "gridwidth": 2,
            "linecolor": "white",
            "showbackground": true,
            "ticks": "",
            "zerolinecolor": "white"
           },
           "yaxis": {
            "backgroundcolor": "#E5ECF6",
            "gridcolor": "white",
            "gridwidth": 2,
            "linecolor": "white",
            "showbackground": true,
            "ticks": "",
            "zerolinecolor": "white"
           },
           "zaxis": {
            "backgroundcolor": "#E5ECF6",
            "gridcolor": "white",
            "gridwidth": 2,
            "linecolor": "white",
            "showbackground": true,
            "ticks": "",
            "zerolinecolor": "white"
           }
          },
          "shapedefaults": {
           "line": {
            "color": "#2a3f5f"
           }
          },
          "ternary": {
           "aaxis": {
            "gridcolor": "white",
            "linecolor": "white",
            "ticks": ""
           },
           "baxis": {
            "gridcolor": "white",
            "linecolor": "white",
            "ticks": ""
           },
           "bgcolor": "#E5ECF6",
           "caxis": {
            "gridcolor": "white",
            "linecolor": "white",
            "ticks": ""
           }
          },
          "title": {
           "x": 0.05
          },
          "xaxis": {
           "automargin": true,
           "gridcolor": "white",
           "linecolor": "white",
           "ticks": "",
           "title": {
            "standoff": 15
           },
           "zerolinecolor": "white",
           "zerolinewidth": 2
          },
          "yaxis": {
           "automargin": true,
           "gridcolor": "white",
           "linecolor": "white",
           "ticks": "",
           "title": {
            "standoff": 15
           },
           "zerolinecolor": "white",
           "zerolinewidth": 2
          }
         }
        },
        "title": {
         "text": "Loan Predictions: Random Forest Confusion Matrix"
        },
        "xaxis": {
         "dtick": 1,
         "gridcolor": "rgb(0, 0, 0)",
         "side": "top",
         "ticks": ""
        },
        "yaxis": {
         "dtick": 1,
         "ticks": "",
         "ticksuffix": "  "
        }
       }
      },
      "text/html": [
       "<div>                            <div id=\"40329303-d22c-4b2f-ae38-2bbb7ed0475d\" class=\"plotly-graph-div\" style=\"height:525px; width:100%;\"></div>            <script type=\"text/javascript\">                require([\"plotly\"], function(Plotly) {                    window.PLOTLYENV=window.PLOTLYENV || {};                                    if (document.getElementById(\"40329303-d22c-4b2f-ae38-2bbb7ed0475d\")) {                    Plotly.newPlot(                        \"40329303-d22c-4b2f-ae38-2bbb7ed0475d\",                        [{\"colorscale\": [[0.0, \"rgb(247,252,245)\"], [0.125, \"rgb(229,245,224)\"], [0.25, \"rgb(199,233,192)\"], [0.375, \"rgb(161,217,155)\"], [0.5, \"rgb(116,196,118)\"], [0.625, \"rgb(65,171,93)\"], [0.75, \"rgb(35,139,69)\"], [0.875, \"rgb(0,109,44)\"], [1.0, \"rgb(0,68,27)\"]], \"reversescale\": false, \"showscale\": false, \"type\": \"heatmap\", \"x\": [\"Predicted - Denied (0)\", \"Predicted - Approved (1)\"], \"y\": [\"Actual - Denied (0)\", \"Actual - Approved (1)\"], \"z\": [[804403, 171], [749126, 1894957]]}],                        {\"annotations\": [{\"font\": {\"color\": \"#000000\"}, \"showarrow\": false, \"text\": \"804403\", \"x\": \"Predicted - Denied (0)\", \"xref\": \"x\", \"y\": \"Actual - Denied (0)\", \"yref\": \"y\"}, {\"font\": {\"color\": \"#000000\"}, \"showarrow\": false, \"text\": \"171\", \"x\": \"Predicted - Approved (1)\", \"xref\": \"x\", \"y\": \"Actual - Denied (0)\", \"yref\": \"y\"}, {\"font\": {\"color\": \"#000000\"}, \"showarrow\": false, \"text\": \"749126\", \"x\": \"Predicted - Denied (0)\", \"xref\": \"x\", \"y\": \"Actual - Approved (1)\", \"yref\": \"y\"}, {\"font\": {\"color\": \"#FFFFFF\"}, \"showarrow\": false, \"text\": \"1894957\", \"x\": \"Predicted - Approved (1)\", \"xref\": \"x\", \"y\": \"Actual - Approved (1)\", \"yref\": \"y\"}], \"template\": {\"data\": {\"bar\": [{\"error_x\": {\"color\": \"#2a3f5f\"}, \"error_y\": {\"color\": \"#2a3f5f\"}, \"marker\": {\"line\": {\"color\": \"#E5ECF6\", \"width\": 0.5}}, \"type\": \"bar\"}], \"barpolar\": [{\"marker\": {\"line\": {\"color\": \"#E5ECF6\", \"width\": 0.5}}, \"type\": \"barpolar\"}], \"carpet\": [{\"aaxis\": {\"endlinecolor\": \"#2a3f5f\", \"gridcolor\": \"white\", \"linecolor\": \"white\", \"minorgridcolor\": \"white\", \"startlinecolor\": \"#2a3f5f\"}, \"baxis\": {\"endlinecolor\": \"#2a3f5f\", \"gridcolor\": \"white\", \"linecolor\": \"white\", \"minorgridcolor\": \"white\", \"startlinecolor\": \"#2a3f5f\"}, \"type\": \"carpet\"}], \"choropleth\": [{\"colorbar\": {\"outlinewidth\": 0, \"ticks\": \"\"}, \"type\": \"choropleth\"}], \"contour\": [{\"colorbar\": {\"outlinewidth\": 0, \"ticks\": \"\"}, \"colorscale\": [[0.0, \"#0d0887\"], [0.1111111111111111, \"#46039f\"], [0.2222222222222222, \"#7201a8\"], [0.3333333333333333, \"#9c179e\"], [0.4444444444444444, \"#bd3786\"], [0.5555555555555556, \"#d8576b\"], [0.6666666666666666, \"#ed7953\"], [0.7777777777777778, \"#fb9f3a\"], [0.8888888888888888, \"#fdca26\"], [1.0, \"#f0f921\"]], \"type\": \"contour\"}], \"contourcarpet\": [{\"colorbar\": {\"outlinewidth\": 0, \"ticks\": \"\"}, \"type\": \"contourcarpet\"}], \"heatmap\": [{\"colorbar\": {\"outlinewidth\": 0, \"ticks\": \"\"}, \"colorscale\": [[0.0, \"#0d0887\"], [0.1111111111111111, \"#46039f\"], [0.2222222222222222, \"#7201a8\"], [0.3333333333333333, \"#9c179e\"], [0.4444444444444444, \"#bd3786\"], [0.5555555555555556, \"#d8576b\"], [0.6666666666666666, \"#ed7953\"], [0.7777777777777778, \"#fb9f3a\"], [0.8888888888888888, \"#fdca26\"], [1.0, \"#f0f921\"]], \"type\": \"heatmap\"}], \"heatmapgl\": [{\"colorbar\": {\"outlinewidth\": 0, \"ticks\": \"\"}, \"colorscale\": [[0.0, \"#0d0887\"], [0.1111111111111111, \"#46039f\"], [0.2222222222222222, \"#7201a8\"], [0.3333333333333333, \"#9c179e\"], [0.4444444444444444, \"#bd3786\"], [0.5555555555555556, \"#d8576b\"], [0.6666666666666666, \"#ed7953\"], [0.7777777777777778, \"#fb9f3a\"], [0.8888888888888888, \"#fdca26\"], [1.0, \"#f0f921\"]], \"type\": \"heatmapgl\"}], \"histogram\": [{\"marker\": {\"colorbar\": {\"outlinewidth\": 0, \"ticks\": \"\"}}, \"type\": \"histogram\"}], \"histogram2d\": [{\"colorbar\": {\"outlinewidth\": 0, \"ticks\": \"\"}, \"colorscale\": [[0.0, \"#0d0887\"], [0.1111111111111111, \"#46039f\"], [0.2222222222222222, \"#7201a8\"], [0.3333333333333333, \"#9c179e\"], [0.4444444444444444, \"#bd3786\"], [0.5555555555555556, \"#d8576b\"], [0.6666666666666666, \"#ed7953\"], [0.7777777777777778, \"#fb9f3a\"], [0.8888888888888888, \"#fdca26\"], [1.0, \"#f0f921\"]], \"type\": \"histogram2d\"}], \"histogram2dcontour\": [{\"colorbar\": {\"outlinewidth\": 0, \"ticks\": \"\"}, \"colorscale\": [[0.0, \"#0d0887\"], [0.1111111111111111, \"#46039f\"], [0.2222222222222222, \"#7201a8\"], [0.3333333333333333, \"#9c179e\"], [0.4444444444444444, \"#bd3786\"], [0.5555555555555556, \"#d8576b\"], [0.6666666666666666, \"#ed7953\"], [0.7777777777777778, \"#fb9f3a\"], [0.8888888888888888, \"#fdca26\"], [1.0, \"#f0f921\"]], \"type\": \"histogram2dcontour\"}], \"mesh3d\": [{\"colorbar\": {\"outlinewidth\": 0, \"ticks\": \"\"}, \"type\": \"mesh3d\"}], \"parcoords\": [{\"line\": {\"colorbar\": {\"outlinewidth\": 0, \"ticks\": \"\"}}, \"type\": \"parcoords\"}], \"pie\": [{\"automargin\": true, \"type\": \"pie\"}], \"scatter\": [{\"marker\": {\"colorbar\": {\"outlinewidth\": 0, \"ticks\": \"\"}}, \"type\": \"scatter\"}], \"scatter3d\": [{\"line\": {\"colorbar\": {\"outlinewidth\": 0, \"ticks\": \"\"}}, \"marker\": {\"colorbar\": {\"outlinewidth\": 0, \"ticks\": \"\"}}, \"type\": \"scatter3d\"}], \"scattercarpet\": [{\"marker\": {\"colorbar\": {\"outlinewidth\": 0, \"ticks\": \"\"}}, \"type\": \"scattercarpet\"}], \"scattergeo\": [{\"marker\": {\"colorbar\": {\"outlinewidth\": 0, \"ticks\": \"\"}}, \"type\": \"scattergeo\"}], \"scattergl\": [{\"marker\": {\"colorbar\": {\"outlinewidth\": 0, \"ticks\": \"\"}}, \"type\": \"scattergl\"}], \"scattermapbox\": [{\"marker\": {\"colorbar\": {\"outlinewidth\": 0, \"ticks\": \"\"}}, \"type\": \"scattermapbox\"}], \"scatterpolar\": [{\"marker\": {\"colorbar\": {\"outlinewidth\": 0, \"ticks\": \"\"}}, \"type\": \"scatterpolar\"}], \"scatterpolargl\": [{\"marker\": {\"colorbar\": {\"outlinewidth\": 0, \"ticks\": \"\"}}, \"type\": \"scatterpolargl\"}], \"scatterternary\": [{\"marker\": {\"colorbar\": {\"outlinewidth\": 0, \"ticks\": \"\"}}, \"type\": \"scatterternary\"}], \"surface\": [{\"colorbar\": {\"outlinewidth\": 0, \"ticks\": \"\"}, \"colorscale\": [[0.0, \"#0d0887\"], [0.1111111111111111, \"#46039f\"], [0.2222222222222222, \"#7201a8\"], [0.3333333333333333, \"#9c179e\"], [0.4444444444444444, \"#bd3786\"], [0.5555555555555556, \"#d8576b\"], [0.6666666666666666, \"#ed7953\"], [0.7777777777777778, \"#fb9f3a\"], [0.8888888888888888, \"#fdca26\"], [1.0, \"#f0f921\"]], \"type\": \"surface\"}], \"table\": [{\"cells\": {\"fill\": {\"color\": \"#EBF0F8\"}, \"line\": {\"color\": \"white\"}}, \"header\": {\"fill\": {\"color\": \"#C8D4E3\"}, \"line\": {\"color\": \"white\"}}, \"type\": \"table\"}]}, \"layout\": {\"annotationdefaults\": {\"arrowcolor\": \"#2a3f5f\", \"arrowhead\": 0, \"arrowwidth\": 1}, \"coloraxis\": {\"colorbar\": {\"outlinewidth\": 0, \"ticks\": \"\"}}, \"colorscale\": {\"diverging\": [[0, \"#8e0152\"], [0.1, \"#c51b7d\"], [0.2, \"#de77ae\"], [0.3, \"#f1b6da\"], [0.4, \"#fde0ef\"], [0.5, \"#f7f7f7\"], [0.6, \"#e6f5d0\"], [0.7, \"#b8e186\"], [0.8, \"#7fbc41\"], [0.9, \"#4d9221\"], [1, \"#276419\"]], \"sequential\": [[0.0, \"#0d0887\"], [0.1111111111111111, \"#46039f\"], [0.2222222222222222, \"#7201a8\"], [0.3333333333333333, \"#9c179e\"], [0.4444444444444444, \"#bd3786\"], [0.5555555555555556, \"#d8576b\"], [0.6666666666666666, \"#ed7953\"], [0.7777777777777778, \"#fb9f3a\"], [0.8888888888888888, \"#fdca26\"], [1.0, \"#f0f921\"]], \"sequentialminus\": [[0.0, \"#0d0887\"], [0.1111111111111111, \"#46039f\"], [0.2222222222222222, \"#7201a8\"], [0.3333333333333333, \"#9c179e\"], [0.4444444444444444, \"#bd3786\"], [0.5555555555555556, \"#d8576b\"], [0.6666666666666666, \"#ed7953\"], [0.7777777777777778, \"#fb9f3a\"], [0.8888888888888888, \"#fdca26\"], [1.0, \"#f0f921\"]]}, \"colorway\": [\"#636efa\", \"#EF553B\", \"#00cc96\", \"#ab63fa\", \"#FFA15A\", \"#19d3f3\", \"#FF6692\", \"#B6E880\", \"#FF97FF\", \"#FECB52\"], \"font\": {\"color\": \"#2a3f5f\"}, \"geo\": {\"bgcolor\": \"white\", \"lakecolor\": \"white\", \"landcolor\": \"#E5ECF6\", \"showlakes\": true, \"showland\": true, \"subunitcolor\": \"white\"}, \"hoverlabel\": {\"align\": \"left\"}, \"hovermode\": \"closest\", \"mapbox\": {\"style\": \"light\"}, \"paper_bgcolor\": \"white\", \"plot_bgcolor\": \"#E5ECF6\", \"polar\": {\"angularaxis\": {\"gridcolor\": \"white\", \"linecolor\": \"white\", \"ticks\": \"\"}, \"bgcolor\": \"#E5ECF6\", \"radialaxis\": {\"gridcolor\": \"white\", \"linecolor\": \"white\", \"ticks\": \"\"}}, \"scene\": {\"xaxis\": {\"backgroundcolor\": \"#E5ECF6\", \"gridcolor\": \"white\", \"gridwidth\": 2, \"linecolor\": \"white\", \"showbackground\": true, \"ticks\": \"\", \"zerolinecolor\": \"white\"}, \"yaxis\": {\"backgroundcolor\": \"#E5ECF6\", \"gridcolor\": \"white\", \"gridwidth\": 2, \"linecolor\": \"white\", \"showbackground\": true, \"ticks\": \"\", \"zerolinecolor\": \"white\"}, \"zaxis\": {\"backgroundcolor\": \"#E5ECF6\", \"gridcolor\": \"white\", \"gridwidth\": 2, \"linecolor\": \"white\", \"showbackground\": true, \"ticks\": \"\", \"zerolinecolor\": \"white\"}}, \"shapedefaults\": {\"line\": {\"color\": \"#2a3f5f\"}}, \"ternary\": {\"aaxis\": {\"gridcolor\": \"white\", \"linecolor\": \"white\", \"ticks\": \"\"}, \"baxis\": {\"gridcolor\": \"white\", \"linecolor\": \"white\", \"ticks\": \"\"}, \"bgcolor\": \"#E5ECF6\", \"caxis\": {\"gridcolor\": \"white\", \"linecolor\": \"white\", \"ticks\": \"\"}}, \"title\": {\"x\": 0.05}, \"xaxis\": {\"automargin\": true, \"gridcolor\": \"white\", \"linecolor\": \"white\", \"ticks\": \"\", \"title\": {\"standoff\": 15}, \"zerolinecolor\": \"white\", \"zerolinewidth\": 2}, \"yaxis\": {\"automargin\": true, \"gridcolor\": \"white\", \"linecolor\": \"white\", \"ticks\": \"\", \"title\": {\"standoff\": 15}, \"zerolinecolor\": \"white\", \"zerolinewidth\": 2}}}, \"title\": {\"text\": \"Loan Predictions: Random Forest Confusion Matrix\"}, \"xaxis\": {\"dtick\": 1, \"gridcolor\": \"rgb(0, 0, 0)\", \"side\": \"top\", \"ticks\": \"\"}, \"yaxis\": {\"dtick\": 1, \"ticks\": \"\", \"ticksuffix\": \"  \"}},                        {\"responsive\": true}                    ).then(function(){\n",
       "                            \n",
       "var gd = document.getElementById('40329303-d22c-4b2f-ae38-2bbb7ed0475d');\n",
       "var x = new MutationObserver(function (mutations, observer) {{\n",
       "        var display = window.getComputedStyle(gd).display;\n",
       "        if (!display || display === 'none') {{\n",
       "            console.log([gd, 'removed!']);\n",
       "            Plotly.purge(gd);\n",
       "            observer.disconnect();\n",
       "        }}\n",
       "}});\n",
       "\n",
       "// Listen for the removal of the full notebook cells\n",
       "var notebookContainer = gd.closest('#notebook-container');\n",
       "if (notebookContainer) {{\n",
       "    x.observe(notebookContainer, {childList: true});\n",
       "}}\n",
       "\n",
       "// Listen for the clearing of the current output cell\n",
       "var outputEl = gd.closest('.output');\n",
       "if (outputEl) {{\n",
       "    x.observe(outputEl, {childList: true});\n",
       "}}\n",
       "\n",
       "                        })                };                });            </script>        </div>"
      ]
     },
     "metadata": {},
     "output_type": "display_data"
    }
   ],
   "source": [
    "make_heatmap(rf_result['matrix'], 'Random Forest Confusion Matrix', 'Greens')"
   ]
  },
  {
   "cell_type": "code",
   "execution_count": 43,
   "metadata": {},
   "outputs": [
    {
     "name": "stdout",
     "output_type": "stream",
     "text": [
      "              precision    recall  f1-score   support\n",
      "\n",
      "           0       0.52      1.00      0.68    804574\n",
      "           1       1.00      0.72      0.83   2644083\n",
      "\n",
      "    accuracy                           0.78   3448657\n",
      "   macro avg       0.76      0.86      0.76   3448657\n",
      "weighted avg       0.89      0.78      0.80   3448657\n",
      "\n"
     ]
    }
   ],
   "source": [
    "print(rf_result['report'])"
   ]
  },
  {
   "cell_type": "code",
   "execution_count": 44,
   "metadata": {},
   "outputs": [
    {
     "name": "stdout",
     "output_type": "stream",
     "text": [
      "Random Forest areaUnderROC: 0.9479956947466625\n"
     ]
    }
   ],
   "source": [
    "evaluator = BinaryClassificationEvaluator()\n",
    "print('Random Forest areaUnderROC: {}'.format(evaluator.evaluate(rf_result['predictions'])))"
   ]
  },
  {
   "cell_type": "code",
   "execution_count": 45,
   "metadata": {},
   "outputs": [],
   "source": [
    "# Gradient-Boosted Trees\n",
    "\n",
    "gbt = GBTClassifier(maxIter=10, weightCol = 'weights')\n",
    "\n",
    "gbt_result = crossval_training(gbt)"
   ]
  },
  {
   "cell_type": "code",
   "execution_count": 46,
   "metadata": {},
   "outputs": [
    {
     "data": {
      "application/vnd.plotly.v1+json": {
       "config": {
        "plotlyServerURL": "https://plot.ly"
       },
       "data": [
        {
         "colorscale": [
          [
           0,
           "rgb(247,252,245)"
          ],
          [
           0.125,
           "rgb(229,245,224)"
          ],
          [
           0.25,
           "rgb(199,233,192)"
          ],
          [
           0.375,
           "rgb(161,217,155)"
          ],
          [
           0.5,
           "rgb(116,196,118)"
          ],
          [
           0.625,
           "rgb(65,171,93)"
          ],
          [
           0.75,
           "rgb(35,139,69)"
          ],
          [
           0.875,
           "rgb(0,109,44)"
          ],
          [
           1,
           "rgb(0,68,27)"
          ]
         ],
         "reversescale": false,
         "showscale": false,
         "type": "heatmap",
         "x": [
          "Predicted - Denied (0)",
          "Predicted - Approved (1)"
         ],
         "y": [
          "Actual - Denied (0)",
          "Actual - Approved (1)"
         ],
         "z": [
          [
           776594,
           27980
          ],
          [
           586404,
           2057679
          ]
         ]
        }
       ],
       "layout": {
        "annotations": [
         {
          "font": {
           "color": "#000000"
          },
          "showarrow": false,
          "text": "776594",
          "x": "Predicted - Denied (0)",
          "xref": "x",
          "y": "Actual - Denied (0)",
          "yref": "y"
         },
         {
          "font": {
           "color": "#000000"
          },
          "showarrow": false,
          "text": "27980",
          "x": "Predicted - Approved (1)",
          "xref": "x",
          "y": "Actual - Denied (0)",
          "yref": "y"
         },
         {
          "font": {
           "color": "#000000"
          },
          "showarrow": false,
          "text": "586404",
          "x": "Predicted - Denied (0)",
          "xref": "x",
          "y": "Actual - Approved (1)",
          "yref": "y"
         },
         {
          "font": {
           "color": "#FFFFFF"
          },
          "showarrow": false,
          "text": "2057679",
          "x": "Predicted - Approved (1)",
          "xref": "x",
          "y": "Actual - Approved (1)",
          "yref": "y"
         }
        ],
        "template": {
         "data": {
          "bar": [
           {
            "error_x": {
             "color": "#2a3f5f"
            },
            "error_y": {
             "color": "#2a3f5f"
            },
            "marker": {
             "line": {
              "color": "#E5ECF6",
              "width": 0.5
             }
            },
            "type": "bar"
           }
          ],
          "barpolar": [
           {
            "marker": {
             "line": {
              "color": "#E5ECF6",
              "width": 0.5
             }
            },
            "type": "barpolar"
           }
          ],
          "carpet": [
           {
            "aaxis": {
             "endlinecolor": "#2a3f5f",
             "gridcolor": "white",
             "linecolor": "white",
             "minorgridcolor": "white",
             "startlinecolor": "#2a3f5f"
            },
            "baxis": {
             "endlinecolor": "#2a3f5f",
             "gridcolor": "white",
             "linecolor": "white",
             "minorgridcolor": "white",
             "startlinecolor": "#2a3f5f"
            },
            "type": "carpet"
           }
          ],
          "choropleth": [
           {
            "colorbar": {
             "outlinewidth": 0,
             "ticks": ""
            },
            "type": "choropleth"
           }
          ],
          "contour": [
           {
            "colorbar": {
             "outlinewidth": 0,
             "ticks": ""
            },
            "colorscale": [
             [
              0,
              "#0d0887"
             ],
             [
              0.1111111111111111,
              "#46039f"
             ],
             [
              0.2222222222222222,
              "#7201a8"
             ],
             [
              0.3333333333333333,
              "#9c179e"
             ],
             [
              0.4444444444444444,
              "#bd3786"
             ],
             [
              0.5555555555555556,
              "#d8576b"
             ],
             [
              0.6666666666666666,
              "#ed7953"
             ],
             [
              0.7777777777777778,
              "#fb9f3a"
             ],
             [
              0.8888888888888888,
              "#fdca26"
             ],
             [
              1,
              "#f0f921"
             ]
            ],
            "type": "contour"
           }
          ],
          "contourcarpet": [
           {
            "colorbar": {
             "outlinewidth": 0,
             "ticks": ""
            },
            "type": "contourcarpet"
           }
          ],
          "heatmap": [
           {
            "colorbar": {
             "outlinewidth": 0,
             "ticks": ""
            },
            "colorscale": [
             [
              0,
              "#0d0887"
             ],
             [
              0.1111111111111111,
              "#46039f"
             ],
             [
              0.2222222222222222,
              "#7201a8"
             ],
             [
              0.3333333333333333,
              "#9c179e"
             ],
             [
              0.4444444444444444,
              "#bd3786"
             ],
             [
              0.5555555555555556,
              "#d8576b"
             ],
             [
              0.6666666666666666,
              "#ed7953"
             ],
             [
              0.7777777777777778,
              "#fb9f3a"
             ],
             [
              0.8888888888888888,
              "#fdca26"
             ],
             [
              1,
              "#f0f921"
             ]
            ],
            "type": "heatmap"
           }
          ],
          "heatmapgl": [
           {
            "colorbar": {
             "outlinewidth": 0,
             "ticks": ""
            },
            "colorscale": [
             [
              0,
              "#0d0887"
             ],
             [
              0.1111111111111111,
              "#46039f"
             ],
             [
              0.2222222222222222,
              "#7201a8"
             ],
             [
              0.3333333333333333,
              "#9c179e"
             ],
             [
              0.4444444444444444,
              "#bd3786"
             ],
             [
              0.5555555555555556,
              "#d8576b"
             ],
             [
              0.6666666666666666,
              "#ed7953"
             ],
             [
              0.7777777777777778,
              "#fb9f3a"
             ],
             [
              0.8888888888888888,
              "#fdca26"
             ],
             [
              1,
              "#f0f921"
             ]
            ],
            "type": "heatmapgl"
           }
          ],
          "histogram": [
           {
            "marker": {
             "colorbar": {
              "outlinewidth": 0,
              "ticks": ""
             }
            },
            "type": "histogram"
           }
          ],
          "histogram2d": [
           {
            "colorbar": {
             "outlinewidth": 0,
             "ticks": ""
            },
            "colorscale": [
             [
              0,
              "#0d0887"
             ],
             [
              0.1111111111111111,
              "#46039f"
             ],
             [
              0.2222222222222222,
              "#7201a8"
             ],
             [
              0.3333333333333333,
              "#9c179e"
             ],
             [
              0.4444444444444444,
              "#bd3786"
             ],
             [
              0.5555555555555556,
              "#d8576b"
             ],
             [
              0.6666666666666666,
              "#ed7953"
             ],
             [
              0.7777777777777778,
              "#fb9f3a"
             ],
             [
              0.8888888888888888,
              "#fdca26"
             ],
             [
              1,
              "#f0f921"
             ]
            ],
            "type": "histogram2d"
           }
          ],
          "histogram2dcontour": [
           {
            "colorbar": {
             "outlinewidth": 0,
             "ticks": ""
            },
            "colorscale": [
             [
              0,
              "#0d0887"
             ],
             [
              0.1111111111111111,
              "#46039f"
             ],
             [
              0.2222222222222222,
              "#7201a8"
             ],
             [
              0.3333333333333333,
              "#9c179e"
             ],
             [
              0.4444444444444444,
              "#bd3786"
             ],
             [
              0.5555555555555556,
              "#d8576b"
             ],
             [
              0.6666666666666666,
              "#ed7953"
             ],
             [
              0.7777777777777778,
              "#fb9f3a"
             ],
             [
              0.8888888888888888,
              "#fdca26"
             ],
             [
              1,
              "#f0f921"
             ]
            ],
            "type": "histogram2dcontour"
           }
          ],
          "mesh3d": [
           {
            "colorbar": {
             "outlinewidth": 0,
             "ticks": ""
            },
            "type": "mesh3d"
           }
          ],
          "parcoords": [
           {
            "line": {
             "colorbar": {
              "outlinewidth": 0,
              "ticks": ""
             }
            },
            "type": "parcoords"
           }
          ],
          "pie": [
           {
            "automargin": true,
            "type": "pie"
           }
          ],
          "scatter": [
           {
            "marker": {
             "colorbar": {
              "outlinewidth": 0,
              "ticks": ""
             }
            },
            "type": "scatter"
           }
          ],
          "scatter3d": [
           {
            "line": {
             "colorbar": {
              "outlinewidth": 0,
              "ticks": ""
             }
            },
            "marker": {
             "colorbar": {
              "outlinewidth": 0,
              "ticks": ""
             }
            },
            "type": "scatter3d"
           }
          ],
          "scattercarpet": [
           {
            "marker": {
             "colorbar": {
              "outlinewidth": 0,
              "ticks": ""
             }
            },
            "type": "scattercarpet"
           }
          ],
          "scattergeo": [
           {
            "marker": {
             "colorbar": {
              "outlinewidth": 0,
              "ticks": ""
             }
            },
            "type": "scattergeo"
           }
          ],
          "scattergl": [
           {
            "marker": {
             "colorbar": {
              "outlinewidth": 0,
              "ticks": ""
             }
            },
            "type": "scattergl"
           }
          ],
          "scattermapbox": [
           {
            "marker": {
             "colorbar": {
              "outlinewidth": 0,
              "ticks": ""
             }
            },
            "type": "scattermapbox"
           }
          ],
          "scatterpolar": [
           {
            "marker": {
             "colorbar": {
              "outlinewidth": 0,
              "ticks": ""
             }
            },
            "type": "scatterpolar"
           }
          ],
          "scatterpolargl": [
           {
            "marker": {
             "colorbar": {
              "outlinewidth": 0,
              "ticks": ""
             }
            },
            "type": "scatterpolargl"
           }
          ],
          "scatterternary": [
           {
            "marker": {
             "colorbar": {
              "outlinewidth": 0,
              "ticks": ""
             }
            },
            "type": "scatterternary"
           }
          ],
          "surface": [
           {
            "colorbar": {
             "outlinewidth": 0,
             "ticks": ""
            },
            "colorscale": [
             [
              0,
              "#0d0887"
             ],
             [
              0.1111111111111111,
              "#46039f"
             ],
             [
              0.2222222222222222,
              "#7201a8"
             ],
             [
              0.3333333333333333,
              "#9c179e"
             ],
             [
              0.4444444444444444,
              "#bd3786"
             ],
             [
              0.5555555555555556,
              "#d8576b"
             ],
             [
              0.6666666666666666,
              "#ed7953"
             ],
             [
              0.7777777777777778,
              "#fb9f3a"
             ],
             [
              0.8888888888888888,
              "#fdca26"
             ],
             [
              1,
              "#f0f921"
             ]
            ],
            "type": "surface"
           }
          ],
          "table": [
           {
            "cells": {
             "fill": {
              "color": "#EBF0F8"
             },
             "line": {
              "color": "white"
             }
            },
            "header": {
             "fill": {
              "color": "#C8D4E3"
             },
             "line": {
              "color": "white"
             }
            },
            "type": "table"
           }
          ]
         },
         "layout": {
          "annotationdefaults": {
           "arrowcolor": "#2a3f5f",
           "arrowhead": 0,
           "arrowwidth": 1
          },
          "coloraxis": {
           "colorbar": {
            "outlinewidth": 0,
            "ticks": ""
           }
          },
          "colorscale": {
           "diverging": [
            [
             0,
             "#8e0152"
            ],
            [
             0.1,
             "#c51b7d"
            ],
            [
             0.2,
             "#de77ae"
            ],
            [
             0.3,
             "#f1b6da"
            ],
            [
             0.4,
             "#fde0ef"
            ],
            [
             0.5,
             "#f7f7f7"
            ],
            [
             0.6,
             "#e6f5d0"
            ],
            [
             0.7,
             "#b8e186"
            ],
            [
             0.8,
             "#7fbc41"
            ],
            [
             0.9,
             "#4d9221"
            ],
            [
             1,
             "#276419"
            ]
           ],
           "sequential": [
            [
             0,
             "#0d0887"
            ],
            [
             0.1111111111111111,
             "#46039f"
            ],
            [
             0.2222222222222222,
             "#7201a8"
            ],
            [
             0.3333333333333333,
             "#9c179e"
            ],
            [
             0.4444444444444444,
             "#bd3786"
            ],
            [
             0.5555555555555556,
             "#d8576b"
            ],
            [
             0.6666666666666666,
             "#ed7953"
            ],
            [
             0.7777777777777778,
             "#fb9f3a"
            ],
            [
             0.8888888888888888,
             "#fdca26"
            ],
            [
             1,
             "#f0f921"
            ]
           ],
           "sequentialminus": [
            [
             0,
             "#0d0887"
            ],
            [
             0.1111111111111111,
             "#46039f"
            ],
            [
             0.2222222222222222,
             "#7201a8"
            ],
            [
             0.3333333333333333,
             "#9c179e"
            ],
            [
             0.4444444444444444,
             "#bd3786"
            ],
            [
             0.5555555555555556,
             "#d8576b"
            ],
            [
             0.6666666666666666,
             "#ed7953"
            ],
            [
             0.7777777777777778,
             "#fb9f3a"
            ],
            [
             0.8888888888888888,
             "#fdca26"
            ],
            [
             1,
             "#f0f921"
            ]
           ]
          },
          "colorway": [
           "#636efa",
           "#EF553B",
           "#00cc96",
           "#ab63fa",
           "#FFA15A",
           "#19d3f3",
           "#FF6692",
           "#B6E880",
           "#FF97FF",
           "#FECB52"
          ],
          "font": {
           "color": "#2a3f5f"
          },
          "geo": {
           "bgcolor": "white",
           "lakecolor": "white",
           "landcolor": "#E5ECF6",
           "showlakes": true,
           "showland": true,
           "subunitcolor": "white"
          },
          "hoverlabel": {
           "align": "left"
          },
          "hovermode": "closest",
          "mapbox": {
           "style": "light"
          },
          "paper_bgcolor": "white",
          "plot_bgcolor": "#E5ECF6",
          "polar": {
           "angularaxis": {
            "gridcolor": "white",
            "linecolor": "white",
            "ticks": ""
           },
           "bgcolor": "#E5ECF6",
           "radialaxis": {
            "gridcolor": "white",
            "linecolor": "white",
            "ticks": ""
           }
          },
          "scene": {
           "xaxis": {
            "backgroundcolor": "#E5ECF6",
            "gridcolor": "white",
            "gridwidth": 2,
            "linecolor": "white",
            "showbackground": true,
            "ticks": "",
            "zerolinecolor": "white"
           },
           "yaxis": {
            "backgroundcolor": "#E5ECF6",
            "gridcolor": "white",
            "gridwidth": 2,
            "linecolor": "white",
            "showbackground": true,
            "ticks": "",
            "zerolinecolor": "white"
           },
           "zaxis": {
            "backgroundcolor": "#E5ECF6",
            "gridcolor": "white",
            "gridwidth": 2,
            "linecolor": "white",
            "showbackground": true,
            "ticks": "",
            "zerolinecolor": "white"
           }
          },
          "shapedefaults": {
           "line": {
            "color": "#2a3f5f"
           }
          },
          "ternary": {
           "aaxis": {
            "gridcolor": "white",
            "linecolor": "white",
            "ticks": ""
           },
           "baxis": {
            "gridcolor": "white",
            "linecolor": "white",
            "ticks": ""
           },
           "bgcolor": "#E5ECF6",
           "caxis": {
            "gridcolor": "white",
            "linecolor": "white",
            "ticks": ""
           }
          },
          "title": {
           "x": 0.05
          },
          "xaxis": {
           "automargin": true,
           "gridcolor": "white",
           "linecolor": "white",
           "ticks": "",
           "title": {
            "standoff": 15
           },
           "zerolinecolor": "white",
           "zerolinewidth": 2
          },
          "yaxis": {
           "automargin": true,
           "gridcolor": "white",
           "linecolor": "white",
           "ticks": "",
           "title": {
            "standoff": 15
           },
           "zerolinecolor": "white",
           "zerolinewidth": 2
          }
         }
        },
        "title": {
         "text": "Loan Predictions: Gradient-Boosted Tree Confusion Matrix"
        },
        "xaxis": {
         "dtick": 1,
         "gridcolor": "rgb(0, 0, 0)",
         "side": "top",
         "ticks": ""
        },
        "yaxis": {
         "dtick": 1,
         "ticks": "",
         "ticksuffix": "  "
        }
       }
      },
      "text/html": [
       "<div>                            <div id=\"11d3e2e2-2e0b-47ee-b49e-d8488e44bfd7\" class=\"plotly-graph-div\" style=\"height:525px; width:100%;\"></div>            <script type=\"text/javascript\">                require([\"plotly\"], function(Plotly) {                    window.PLOTLYENV=window.PLOTLYENV || {};                                    if (document.getElementById(\"11d3e2e2-2e0b-47ee-b49e-d8488e44bfd7\")) {                    Plotly.newPlot(                        \"11d3e2e2-2e0b-47ee-b49e-d8488e44bfd7\",                        [{\"colorscale\": [[0.0, \"rgb(247,252,245)\"], [0.125, \"rgb(229,245,224)\"], [0.25, \"rgb(199,233,192)\"], [0.375, \"rgb(161,217,155)\"], [0.5, \"rgb(116,196,118)\"], [0.625, \"rgb(65,171,93)\"], [0.75, \"rgb(35,139,69)\"], [0.875, \"rgb(0,109,44)\"], [1.0, \"rgb(0,68,27)\"]], \"reversescale\": false, \"showscale\": false, \"type\": \"heatmap\", \"x\": [\"Predicted - Denied (0)\", \"Predicted - Approved (1)\"], \"y\": [\"Actual - Denied (0)\", \"Actual - Approved (1)\"], \"z\": [[776594, 27980], [586404, 2057679]]}],                        {\"annotations\": [{\"font\": {\"color\": \"#000000\"}, \"showarrow\": false, \"text\": \"776594\", \"x\": \"Predicted - Denied (0)\", \"xref\": \"x\", \"y\": \"Actual - Denied (0)\", \"yref\": \"y\"}, {\"font\": {\"color\": \"#000000\"}, \"showarrow\": false, \"text\": \"27980\", \"x\": \"Predicted - Approved (1)\", \"xref\": \"x\", \"y\": \"Actual - Denied (0)\", \"yref\": \"y\"}, {\"font\": {\"color\": \"#000000\"}, \"showarrow\": false, \"text\": \"586404\", \"x\": \"Predicted - Denied (0)\", \"xref\": \"x\", \"y\": \"Actual - Approved (1)\", \"yref\": \"y\"}, {\"font\": {\"color\": \"#FFFFFF\"}, \"showarrow\": false, \"text\": \"2057679\", \"x\": \"Predicted - Approved (1)\", \"xref\": \"x\", \"y\": \"Actual - Approved (1)\", \"yref\": \"y\"}], \"template\": {\"data\": {\"bar\": [{\"error_x\": {\"color\": \"#2a3f5f\"}, \"error_y\": {\"color\": \"#2a3f5f\"}, \"marker\": {\"line\": {\"color\": \"#E5ECF6\", \"width\": 0.5}}, \"type\": \"bar\"}], \"barpolar\": [{\"marker\": {\"line\": {\"color\": \"#E5ECF6\", \"width\": 0.5}}, \"type\": \"barpolar\"}], \"carpet\": [{\"aaxis\": {\"endlinecolor\": \"#2a3f5f\", \"gridcolor\": \"white\", \"linecolor\": \"white\", \"minorgridcolor\": \"white\", \"startlinecolor\": \"#2a3f5f\"}, \"baxis\": {\"endlinecolor\": \"#2a3f5f\", \"gridcolor\": \"white\", \"linecolor\": \"white\", \"minorgridcolor\": \"white\", \"startlinecolor\": \"#2a3f5f\"}, \"type\": \"carpet\"}], \"choropleth\": [{\"colorbar\": {\"outlinewidth\": 0, \"ticks\": \"\"}, \"type\": \"choropleth\"}], \"contour\": [{\"colorbar\": {\"outlinewidth\": 0, \"ticks\": \"\"}, \"colorscale\": [[0.0, \"#0d0887\"], [0.1111111111111111, \"#46039f\"], [0.2222222222222222, \"#7201a8\"], [0.3333333333333333, \"#9c179e\"], [0.4444444444444444, \"#bd3786\"], [0.5555555555555556, \"#d8576b\"], [0.6666666666666666, \"#ed7953\"], [0.7777777777777778, \"#fb9f3a\"], [0.8888888888888888, \"#fdca26\"], [1.0, \"#f0f921\"]], \"type\": \"contour\"}], \"contourcarpet\": [{\"colorbar\": {\"outlinewidth\": 0, \"ticks\": \"\"}, \"type\": \"contourcarpet\"}], \"heatmap\": [{\"colorbar\": {\"outlinewidth\": 0, \"ticks\": \"\"}, \"colorscale\": [[0.0, \"#0d0887\"], [0.1111111111111111, \"#46039f\"], [0.2222222222222222, \"#7201a8\"], [0.3333333333333333, \"#9c179e\"], [0.4444444444444444, \"#bd3786\"], [0.5555555555555556, \"#d8576b\"], [0.6666666666666666, \"#ed7953\"], [0.7777777777777778, \"#fb9f3a\"], [0.8888888888888888, \"#fdca26\"], [1.0, \"#f0f921\"]], \"type\": \"heatmap\"}], \"heatmapgl\": [{\"colorbar\": {\"outlinewidth\": 0, \"ticks\": \"\"}, \"colorscale\": [[0.0, \"#0d0887\"], [0.1111111111111111, \"#46039f\"], [0.2222222222222222, \"#7201a8\"], [0.3333333333333333, \"#9c179e\"], [0.4444444444444444, \"#bd3786\"], [0.5555555555555556, \"#d8576b\"], [0.6666666666666666, \"#ed7953\"], [0.7777777777777778, \"#fb9f3a\"], [0.8888888888888888, \"#fdca26\"], [1.0, \"#f0f921\"]], \"type\": \"heatmapgl\"}], \"histogram\": [{\"marker\": {\"colorbar\": {\"outlinewidth\": 0, \"ticks\": \"\"}}, \"type\": \"histogram\"}], \"histogram2d\": [{\"colorbar\": {\"outlinewidth\": 0, \"ticks\": \"\"}, \"colorscale\": [[0.0, \"#0d0887\"], [0.1111111111111111, \"#46039f\"], [0.2222222222222222, \"#7201a8\"], [0.3333333333333333, \"#9c179e\"], [0.4444444444444444, \"#bd3786\"], [0.5555555555555556, \"#d8576b\"], [0.6666666666666666, \"#ed7953\"], [0.7777777777777778, \"#fb9f3a\"], [0.8888888888888888, \"#fdca26\"], [1.0, \"#f0f921\"]], \"type\": \"histogram2d\"}], \"histogram2dcontour\": [{\"colorbar\": {\"outlinewidth\": 0, \"ticks\": \"\"}, \"colorscale\": [[0.0, \"#0d0887\"], [0.1111111111111111, \"#46039f\"], [0.2222222222222222, \"#7201a8\"], [0.3333333333333333, \"#9c179e\"], [0.4444444444444444, \"#bd3786\"], [0.5555555555555556, \"#d8576b\"], [0.6666666666666666, \"#ed7953\"], [0.7777777777777778, \"#fb9f3a\"], [0.8888888888888888, \"#fdca26\"], [1.0, \"#f0f921\"]], \"type\": \"histogram2dcontour\"}], \"mesh3d\": [{\"colorbar\": {\"outlinewidth\": 0, \"ticks\": \"\"}, \"type\": \"mesh3d\"}], \"parcoords\": [{\"line\": {\"colorbar\": {\"outlinewidth\": 0, \"ticks\": \"\"}}, \"type\": \"parcoords\"}], \"pie\": [{\"automargin\": true, \"type\": \"pie\"}], \"scatter\": [{\"marker\": {\"colorbar\": {\"outlinewidth\": 0, \"ticks\": \"\"}}, \"type\": \"scatter\"}], \"scatter3d\": [{\"line\": {\"colorbar\": {\"outlinewidth\": 0, \"ticks\": \"\"}}, \"marker\": {\"colorbar\": {\"outlinewidth\": 0, \"ticks\": \"\"}}, \"type\": \"scatter3d\"}], \"scattercarpet\": [{\"marker\": {\"colorbar\": {\"outlinewidth\": 0, \"ticks\": \"\"}}, \"type\": \"scattercarpet\"}], \"scattergeo\": [{\"marker\": {\"colorbar\": {\"outlinewidth\": 0, \"ticks\": \"\"}}, \"type\": \"scattergeo\"}], \"scattergl\": [{\"marker\": {\"colorbar\": {\"outlinewidth\": 0, \"ticks\": \"\"}}, \"type\": \"scattergl\"}], \"scattermapbox\": [{\"marker\": {\"colorbar\": {\"outlinewidth\": 0, \"ticks\": \"\"}}, \"type\": \"scattermapbox\"}], \"scatterpolar\": [{\"marker\": {\"colorbar\": {\"outlinewidth\": 0, \"ticks\": \"\"}}, \"type\": \"scatterpolar\"}], \"scatterpolargl\": [{\"marker\": {\"colorbar\": {\"outlinewidth\": 0, \"ticks\": \"\"}}, \"type\": \"scatterpolargl\"}], \"scatterternary\": [{\"marker\": {\"colorbar\": {\"outlinewidth\": 0, \"ticks\": \"\"}}, \"type\": \"scatterternary\"}], \"surface\": [{\"colorbar\": {\"outlinewidth\": 0, \"ticks\": \"\"}, \"colorscale\": [[0.0, \"#0d0887\"], [0.1111111111111111, \"#46039f\"], [0.2222222222222222, \"#7201a8\"], [0.3333333333333333, \"#9c179e\"], [0.4444444444444444, \"#bd3786\"], [0.5555555555555556, \"#d8576b\"], [0.6666666666666666, \"#ed7953\"], [0.7777777777777778, \"#fb9f3a\"], [0.8888888888888888, \"#fdca26\"], [1.0, \"#f0f921\"]], \"type\": \"surface\"}], \"table\": [{\"cells\": {\"fill\": {\"color\": \"#EBF0F8\"}, \"line\": {\"color\": \"white\"}}, \"header\": {\"fill\": {\"color\": \"#C8D4E3\"}, \"line\": {\"color\": \"white\"}}, \"type\": \"table\"}]}, \"layout\": {\"annotationdefaults\": {\"arrowcolor\": \"#2a3f5f\", \"arrowhead\": 0, \"arrowwidth\": 1}, \"coloraxis\": {\"colorbar\": {\"outlinewidth\": 0, \"ticks\": \"\"}}, \"colorscale\": {\"diverging\": [[0, \"#8e0152\"], [0.1, \"#c51b7d\"], [0.2, \"#de77ae\"], [0.3, \"#f1b6da\"], [0.4, \"#fde0ef\"], [0.5, \"#f7f7f7\"], [0.6, \"#e6f5d0\"], [0.7, \"#b8e186\"], [0.8, \"#7fbc41\"], [0.9, \"#4d9221\"], [1, \"#276419\"]], \"sequential\": [[0.0, \"#0d0887\"], [0.1111111111111111, \"#46039f\"], [0.2222222222222222, \"#7201a8\"], [0.3333333333333333, \"#9c179e\"], [0.4444444444444444, \"#bd3786\"], [0.5555555555555556, \"#d8576b\"], [0.6666666666666666, \"#ed7953\"], [0.7777777777777778, \"#fb9f3a\"], [0.8888888888888888, \"#fdca26\"], [1.0, \"#f0f921\"]], \"sequentialminus\": [[0.0, \"#0d0887\"], [0.1111111111111111, \"#46039f\"], [0.2222222222222222, \"#7201a8\"], [0.3333333333333333, \"#9c179e\"], [0.4444444444444444, \"#bd3786\"], [0.5555555555555556, \"#d8576b\"], [0.6666666666666666, \"#ed7953\"], [0.7777777777777778, \"#fb9f3a\"], [0.8888888888888888, \"#fdca26\"], [1.0, \"#f0f921\"]]}, \"colorway\": [\"#636efa\", \"#EF553B\", \"#00cc96\", \"#ab63fa\", \"#FFA15A\", \"#19d3f3\", \"#FF6692\", \"#B6E880\", \"#FF97FF\", \"#FECB52\"], \"font\": {\"color\": \"#2a3f5f\"}, \"geo\": {\"bgcolor\": \"white\", \"lakecolor\": \"white\", \"landcolor\": \"#E5ECF6\", \"showlakes\": true, \"showland\": true, \"subunitcolor\": \"white\"}, \"hoverlabel\": {\"align\": \"left\"}, \"hovermode\": \"closest\", \"mapbox\": {\"style\": \"light\"}, \"paper_bgcolor\": \"white\", \"plot_bgcolor\": \"#E5ECF6\", \"polar\": {\"angularaxis\": {\"gridcolor\": \"white\", \"linecolor\": \"white\", \"ticks\": \"\"}, \"bgcolor\": \"#E5ECF6\", \"radialaxis\": {\"gridcolor\": \"white\", \"linecolor\": \"white\", \"ticks\": \"\"}}, \"scene\": {\"xaxis\": {\"backgroundcolor\": \"#E5ECF6\", \"gridcolor\": \"white\", \"gridwidth\": 2, \"linecolor\": \"white\", \"showbackground\": true, \"ticks\": \"\", \"zerolinecolor\": \"white\"}, \"yaxis\": {\"backgroundcolor\": \"#E5ECF6\", \"gridcolor\": \"white\", \"gridwidth\": 2, \"linecolor\": \"white\", \"showbackground\": true, \"ticks\": \"\", \"zerolinecolor\": \"white\"}, \"zaxis\": {\"backgroundcolor\": \"#E5ECF6\", \"gridcolor\": \"white\", \"gridwidth\": 2, \"linecolor\": \"white\", \"showbackground\": true, \"ticks\": \"\", \"zerolinecolor\": \"white\"}}, \"shapedefaults\": {\"line\": {\"color\": \"#2a3f5f\"}}, \"ternary\": {\"aaxis\": {\"gridcolor\": \"white\", \"linecolor\": \"white\", \"ticks\": \"\"}, \"baxis\": {\"gridcolor\": \"white\", \"linecolor\": \"white\", \"ticks\": \"\"}, \"bgcolor\": \"#E5ECF6\", \"caxis\": {\"gridcolor\": \"white\", \"linecolor\": \"white\", \"ticks\": \"\"}}, \"title\": {\"x\": 0.05}, \"xaxis\": {\"automargin\": true, \"gridcolor\": \"white\", \"linecolor\": \"white\", \"ticks\": \"\", \"title\": {\"standoff\": 15}, \"zerolinecolor\": \"white\", \"zerolinewidth\": 2}, \"yaxis\": {\"automargin\": true, \"gridcolor\": \"white\", \"linecolor\": \"white\", \"ticks\": \"\", \"title\": {\"standoff\": 15}, \"zerolinecolor\": \"white\", \"zerolinewidth\": 2}}}, \"title\": {\"text\": \"Loan Predictions: Gradient-Boosted Tree Confusion Matrix\"}, \"xaxis\": {\"dtick\": 1, \"gridcolor\": \"rgb(0, 0, 0)\", \"side\": \"top\", \"ticks\": \"\"}, \"yaxis\": {\"dtick\": 1, \"ticks\": \"\", \"ticksuffix\": \"  \"}},                        {\"responsive\": true}                    ).then(function(){\n",
       "                            \n",
       "var gd = document.getElementById('11d3e2e2-2e0b-47ee-b49e-d8488e44bfd7');\n",
       "var x = new MutationObserver(function (mutations, observer) {{\n",
       "        var display = window.getComputedStyle(gd).display;\n",
       "        if (!display || display === 'none') {{\n",
       "            console.log([gd, 'removed!']);\n",
       "            Plotly.purge(gd);\n",
       "            observer.disconnect();\n",
       "        }}\n",
       "}});\n",
       "\n",
       "// Listen for the removal of the full notebook cells\n",
       "var notebookContainer = gd.closest('#notebook-container');\n",
       "if (notebookContainer) {{\n",
       "    x.observe(notebookContainer, {childList: true});\n",
       "}}\n",
       "\n",
       "// Listen for the clearing of the current output cell\n",
       "var outputEl = gd.closest('.output');\n",
       "if (outputEl) {{\n",
       "    x.observe(outputEl, {childList: true});\n",
       "}}\n",
       "\n",
       "                        })                };                });            </script>        </div>"
      ]
     },
     "metadata": {},
     "output_type": "display_data"
    }
   ],
   "source": [
    "make_heatmap(gbt_result['matrix'], 'Gradient-Boosted Tree Confusion Matrix', 'Greens')"
   ]
  },
  {
   "cell_type": "code",
   "execution_count": 47,
   "metadata": {},
   "outputs": [
    {
     "name": "stdout",
     "output_type": "stream",
     "text": [
      "              precision    recall  f1-score   support\n",
      "\n",
      "           0       0.57      0.97      0.72    804574\n",
      "           1       0.99      0.78      0.87   2644083\n",
      "\n",
      "    accuracy                           0.82   3448657\n",
      "   macro avg       0.78      0.87      0.79   3448657\n",
      "weighted avg       0.89      0.82      0.83   3448657\n",
      "\n"
     ]
    }
   ],
   "source": [
    "print(gbt_result['report'])"
   ]
  },
  {
   "cell_type": "code",
   "execution_count": 48,
   "metadata": {},
   "outputs": [
    {
     "name": "stdout",
     "output_type": "stream",
     "text": [
      "Gradient-Boosted Tree areaUnderROC: 0.9527209056329249\n"
     ]
    }
   ],
   "source": [
    "evaluator = BinaryClassificationEvaluator()\n",
    "print('Gradient-Boosted Tree areaUnderROC: {}'.format(evaluator.evaluate(gbt_result['predictions'])))"
   ]
  },
  {
   "cell_type": "code",
   "execution_count": 49,
   "metadata": {},
   "outputs": [],
   "source": [
    "# Naive Bayes\n",
    "\n",
    "nb = NaiveBayes(weightCol = 'weights')\n",
    "\n",
    "nb_result = crossval_training(nb)"
   ]
  },
  {
   "cell_type": "code",
   "execution_count": 50,
   "metadata": {},
   "outputs": [
    {
     "data": {
      "application/vnd.plotly.v1+json": {
       "config": {
        "plotlyServerURL": "https://plot.ly"
       },
       "data": [
        {
         "colorscale": [
          [
           0,
           "rgb(247,252,245)"
          ],
          [
           0.125,
           "rgb(229,245,224)"
          ],
          [
           0.25,
           "rgb(199,233,192)"
          ],
          [
           0.375,
           "rgb(161,217,155)"
          ],
          [
           0.5,
           "rgb(116,196,118)"
          ],
          [
           0.625,
           "rgb(65,171,93)"
          ],
          [
           0.75,
           "rgb(35,139,69)"
          ],
          [
           0.875,
           "rgb(0,109,44)"
          ],
          [
           1,
           "rgb(0,68,27)"
          ]
         ],
         "reversescale": false,
         "showscale": false,
         "type": "heatmap",
         "x": [
          "Predicted - Denied (0)",
          "Predicted - Approved (1)"
         ],
         "y": [
          "Actual - Denied (0)",
          "Actual - Approved (1)"
         ],
         "z": [
          [
           803922,
           652
          ],
          [
           1895244,
           748839
          ]
         ]
        }
       ],
       "layout": {
        "annotations": [
         {
          "font": {
           "color": "#000000"
          },
          "showarrow": false,
          "text": "803922",
          "x": "Predicted - Denied (0)",
          "xref": "x",
          "y": "Actual - Denied (0)",
          "yref": "y"
         },
         {
          "font": {
           "color": "#000000"
          },
          "showarrow": false,
          "text": "652",
          "x": "Predicted - Approved (1)",
          "xref": "x",
          "y": "Actual - Denied (0)",
          "yref": "y"
         },
         {
          "font": {
           "color": "#FFFFFF"
          },
          "showarrow": false,
          "text": "1895244",
          "x": "Predicted - Denied (0)",
          "xref": "x",
          "y": "Actual - Approved (1)",
          "yref": "y"
         },
         {
          "font": {
           "color": "#000000"
          },
          "showarrow": false,
          "text": "748839",
          "x": "Predicted - Approved (1)",
          "xref": "x",
          "y": "Actual - Approved (1)",
          "yref": "y"
         }
        ],
        "template": {
         "data": {
          "bar": [
           {
            "error_x": {
             "color": "#2a3f5f"
            },
            "error_y": {
             "color": "#2a3f5f"
            },
            "marker": {
             "line": {
              "color": "#E5ECF6",
              "width": 0.5
             }
            },
            "type": "bar"
           }
          ],
          "barpolar": [
           {
            "marker": {
             "line": {
              "color": "#E5ECF6",
              "width": 0.5
             }
            },
            "type": "barpolar"
           }
          ],
          "carpet": [
           {
            "aaxis": {
             "endlinecolor": "#2a3f5f",
             "gridcolor": "white",
             "linecolor": "white",
             "minorgridcolor": "white",
             "startlinecolor": "#2a3f5f"
            },
            "baxis": {
             "endlinecolor": "#2a3f5f",
             "gridcolor": "white",
             "linecolor": "white",
             "minorgridcolor": "white",
             "startlinecolor": "#2a3f5f"
            },
            "type": "carpet"
           }
          ],
          "choropleth": [
           {
            "colorbar": {
             "outlinewidth": 0,
             "ticks": ""
            },
            "type": "choropleth"
           }
          ],
          "contour": [
           {
            "colorbar": {
             "outlinewidth": 0,
             "ticks": ""
            },
            "colorscale": [
             [
              0,
              "#0d0887"
             ],
             [
              0.1111111111111111,
              "#46039f"
             ],
             [
              0.2222222222222222,
              "#7201a8"
             ],
             [
              0.3333333333333333,
              "#9c179e"
             ],
             [
              0.4444444444444444,
              "#bd3786"
             ],
             [
              0.5555555555555556,
              "#d8576b"
             ],
             [
              0.6666666666666666,
              "#ed7953"
             ],
             [
              0.7777777777777778,
              "#fb9f3a"
             ],
             [
              0.8888888888888888,
              "#fdca26"
             ],
             [
              1,
              "#f0f921"
             ]
            ],
            "type": "contour"
           }
          ],
          "contourcarpet": [
           {
            "colorbar": {
             "outlinewidth": 0,
             "ticks": ""
            },
            "type": "contourcarpet"
           }
          ],
          "heatmap": [
           {
            "colorbar": {
             "outlinewidth": 0,
             "ticks": ""
            },
            "colorscale": [
             [
              0,
              "#0d0887"
             ],
             [
              0.1111111111111111,
              "#46039f"
             ],
             [
              0.2222222222222222,
              "#7201a8"
             ],
             [
              0.3333333333333333,
              "#9c179e"
             ],
             [
              0.4444444444444444,
              "#bd3786"
             ],
             [
              0.5555555555555556,
              "#d8576b"
             ],
             [
              0.6666666666666666,
              "#ed7953"
             ],
             [
              0.7777777777777778,
              "#fb9f3a"
             ],
             [
              0.8888888888888888,
              "#fdca26"
             ],
             [
              1,
              "#f0f921"
             ]
            ],
            "type": "heatmap"
           }
          ],
          "heatmapgl": [
           {
            "colorbar": {
             "outlinewidth": 0,
             "ticks": ""
            },
            "colorscale": [
             [
              0,
              "#0d0887"
             ],
             [
              0.1111111111111111,
              "#46039f"
             ],
             [
              0.2222222222222222,
              "#7201a8"
             ],
             [
              0.3333333333333333,
              "#9c179e"
             ],
             [
              0.4444444444444444,
              "#bd3786"
             ],
             [
              0.5555555555555556,
              "#d8576b"
             ],
             [
              0.6666666666666666,
              "#ed7953"
             ],
             [
              0.7777777777777778,
              "#fb9f3a"
             ],
             [
              0.8888888888888888,
              "#fdca26"
             ],
             [
              1,
              "#f0f921"
             ]
            ],
            "type": "heatmapgl"
           }
          ],
          "histogram": [
           {
            "marker": {
             "colorbar": {
              "outlinewidth": 0,
              "ticks": ""
             }
            },
            "type": "histogram"
           }
          ],
          "histogram2d": [
           {
            "colorbar": {
             "outlinewidth": 0,
             "ticks": ""
            },
            "colorscale": [
             [
              0,
              "#0d0887"
             ],
             [
              0.1111111111111111,
              "#46039f"
             ],
             [
              0.2222222222222222,
              "#7201a8"
             ],
             [
              0.3333333333333333,
              "#9c179e"
             ],
             [
              0.4444444444444444,
              "#bd3786"
             ],
             [
              0.5555555555555556,
              "#d8576b"
             ],
             [
              0.6666666666666666,
              "#ed7953"
             ],
             [
              0.7777777777777778,
              "#fb9f3a"
             ],
             [
              0.8888888888888888,
              "#fdca26"
             ],
             [
              1,
              "#f0f921"
             ]
            ],
            "type": "histogram2d"
           }
          ],
          "histogram2dcontour": [
           {
            "colorbar": {
             "outlinewidth": 0,
             "ticks": ""
            },
            "colorscale": [
             [
              0,
              "#0d0887"
             ],
             [
              0.1111111111111111,
              "#46039f"
             ],
             [
              0.2222222222222222,
              "#7201a8"
             ],
             [
              0.3333333333333333,
              "#9c179e"
             ],
             [
              0.4444444444444444,
              "#bd3786"
             ],
             [
              0.5555555555555556,
              "#d8576b"
             ],
             [
              0.6666666666666666,
              "#ed7953"
             ],
             [
              0.7777777777777778,
              "#fb9f3a"
             ],
             [
              0.8888888888888888,
              "#fdca26"
             ],
             [
              1,
              "#f0f921"
             ]
            ],
            "type": "histogram2dcontour"
           }
          ],
          "mesh3d": [
           {
            "colorbar": {
             "outlinewidth": 0,
             "ticks": ""
            },
            "type": "mesh3d"
           }
          ],
          "parcoords": [
           {
            "line": {
             "colorbar": {
              "outlinewidth": 0,
              "ticks": ""
             }
            },
            "type": "parcoords"
           }
          ],
          "pie": [
           {
            "automargin": true,
            "type": "pie"
           }
          ],
          "scatter": [
           {
            "marker": {
             "colorbar": {
              "outlinewidth": 0,
              "ticks": ""
             }
            },
            "type": "scatter"
           }
          ],
          "scatter3d": [
           {
            "line": {
             "colorbar": {
              "outlinewidth": 0,
              "ticks": ""
             }
            },
            "marker": {
             "colorbar": {
              "outlinewidth": 0,
              "ticks": ""
             }
            },
            "type": "scatter3d"
           }
          ],
          "scattercarpet": [
           {
            "marker": {
             "colorbar": {
              "outlinewidth": 0,
              "ticks": ""
             }
            },
            "type": "scattercarpet"
           }
          ],
          "scattergeo": [
           {
            "marker": {
             "colorbar": {
              "outlinewidth": 0,
              "ticks": ""
             }
            },
            "type": "scattergeo"
           }
          ],
          "scattergl": [
           {
            "marker": {
             "colorbar": {
              "outlinewidth": 0,
              "ticks": ""
             }
            },
            "type": "scattergl"
           }
          ],
          "scattermapbox": [
           {
            "marker": {
             "colorbar": {
              "outlinewidth": 0,
              "ticks": ""
             }
            },
            "type": "scattermapbox"
           }
          ],
          "scatterpolar": [
           {
            "marker": {
             "colorbar": {
              "outlinewidth": 0,
              "ticks": ""
             }
            },
            "type": "scatterpolar"
           }
          ],
          "scatterpolargl": [
           {
            "marker": {
             "colorbar": {
              "outlinewidth": 0,
              "ticks": ""
             }
            },
            "type": "scatterpolargl"
           }
          ],
          "scatterternary": [
           {
            "marker": {
             "colorbar": {
              "outlinewidth": 0,
              "ticks": ""
             }
            },
            "type": "scatterternary"
           }
          ],
          "surface": [
           {
            "colorbar": {
             "outlinewidth": 0,
             "ticks": ""
            },
            "colorscale": [
             [
              0,
              "#0d0887"
             ],
             [
              0.1111111111111111,
              "#46039f"
             ],
             [
              0.2222222222222222,
              "#7201a8"
             ],
             [
              0.3333333333333333,
              "#9c179e"
             ],
             [
              0.4444444444444444,
              "#bd3786"
             ],
             [
              0.5555555555555556,
              "#d8576b"
             ],
             [
              0.6666666666666666,
              "#ed7953"
             ],
             [
              0.7777777777777778,
              "#fb9f3a"
             ],
             [
              0.8888888888888888,
              "#fdca26"
             ],
             [
              1,
              "#f0f921"
             ]
            ],
            "type": "surface"
           }
          ],
          "table": [
           {
            "cells": {
             "fill": {
              "color": "#EBF0F8"
             },
             "line": {
              "color": "white"
             }
            },
            "header": {
             "fill": {
              "color": "#C8D4E3"
             },
             "line": {
              "color": "white"
             }
            },
            "type": "table"
           }
          ]
         },
         "layout": {
          "annotationdefaults": {
           "arrowcolor": "#2a3f5f",
           "arrowhead": 0,
           "arrowwidth": 1
          },
          "coloraxis": {
           "colorbar": {
            "outlinewidth": 0,
            "ticks": ""
           }
          },
          "colorscale": {
           "diverging": [
            [
             0,
             "#8e0152"
            ],
            [
             0.1,
             "#c51b7d"
            ],
            [
             0.2,
             "#de77ae"
            ],
            [
             0.3,
             "#f1b6da"
            ],
            [
             0.4,
             "#fde0ef"
            ],
            [
             0.5,
             "#f7f7f7"
            ],
            [
             0.6,
             "#e6f5d0"
            ],
            [
             0.7,
             "#b8e186"
            ],
            [
             0.8,
             "#7fbc41"
            ],
            [
             0.9,
             "#4d9221"
            ],
            [
             1,
             "#276419"
            ]
           ],
           "sequential": [
            [
             0,
             "#0d0887"
            ],
            [
             0.1111111111111111,
             "#46039f"
            ],
            [
             0.2222222222222222,
             "#7201a8"
            ],
            [
             0.3333333333333333,
             "#9c179e"
            ],
            [
             0.4444444444444444,
             "#bd3786"
            ],
            [
             0.5555555555555556,
             "#d8576b"
            ],
            [
             0.6666666666666666,
             "#ed7953"
            ],
            [
             0.7777777777777778,
             "#fb9f3a"
            ],
            [
             0.8888888888888888,
             "#fdca26"
            ],
            [
             1,
             "#f0f921"
            ]
           ],
           "sequentialminus": [
            [
             0,
             "#0d0887"
            ],
            [
             0.1111111111111111,
             "#46039f"
            ],
            [
             0.2222222222222222,
             "#7201a8"
            ],
            [
             0.3333333333333333,
             "#9c179e"
            ],
            [
             0.4444444444444444,
             "#bd3786"
            ],
            [
             0.5555555555555556,
             "#d8576b"
            ],
            [
             0.6666666666666666,
             "#ed7953"
            ],
            [
             0.7777777777777778,
             "#fb9f3a"
            ],
            [
             0.8888888888888888,
             "#fdca26"
            ],
            [
             1,
             "#f0f921"
            ]
           ]
          },
          "colorway": [
           "#636efa",
           "#EF553B",
           "#00cc96",
           "#ab63fa",
           "#FFA15A",
           "#19d3f3",
           "#FF6692",
           "#B6E880",
           "#FF97FF",
           "#FECB52"
          ],
          "font": {
           "color": "#2a3f5f"
          },
          "geo": {
           "bgcolor": "white",
           "lakecolor": "white",
           "landcolor": "#E5ECF6",
           "showlakes": true,
           "showland": true,
           "subunitcolor": "white"
          },
          "hoverlabel": {
           "align": "left"
          },
          "hovermode": "closest",
          "mapbox": {
           "style": "light"
          },
          "paper_bgcolor": "white",
          "plot_bgcolor": "#E5ECF6",
          "polar": {
           "angularaxis": {
            "gridcolor": "white",
            "linecolor": "white",
            "ticks": ""
           },
           "bgcolor": "#E5ECF6",
           "radialaxis": {
            "gridcolor": "white",
            "linecolor": "white",
            "ticks": ""
           }
          },
          "scene": {
           "xaxis": {
            "backgroundcolor": "#E5ECF6",
            "gridcolor": "white",
            "gridwidth": 2,
            "linecolor": "white",
            "showbackground": true,
            "ticks": "",
            "zerolinecolor": "white"
           },
           "yaxis": {
            "backgroundcolor": "#E5ECF6",
            "gridcolor": "white",
            "gridwidth": 2,
            "linecolor": "white",
            "showbackground": true,
            "ticks": "",
            "zerolinecolor": "white"
           },
           "zaxis": {
            "backgroundcolor": "#E5ECF6",
            "gridcolor": "white",
            "gridwidth": 2,
            "linecolor": "white",
            "showbackground": true,
            "ticks": "",
            "zerolinecolor": "white"
           }
          },
          "shapedefaults": {
           "line": {
            "color": "#2a3f5f"
           }
          },
          "ternary": {
           "aaxis": {
            "gridcolor": "white",
            "linecolor": "white",
            "ticks": ""
           },
           "baxis": {
            "gridcolor": "white",
            "linecolor": "white",
            "ticks": ""
           },
           "bgcolor": "#E5ECF6",
           "caxis": {
            "gridcolor": "white",
            "linecolor": "white",
            "ticks": ""
           }
          },
          "title": {
           "x": 0.05
          },
          "xaxis": {
           "automargin": true,
           "gridcolor": "white",
           "linecolor": "white",
           "ticks": "",
           "title": {
            "standoff": 15
           },
           "zerolinecolor": "white",
           "zerolinewidth": 2
          },
          "yaxis": {
           "automargin": true,
           "gridcolor": "white",
           "linecolor": "white",
           "ticks": "",
           "title": {
            "standoff": 15
           },
           "zerolinecolor": "white",
           "zerolinewidth": 2
          }
         }
        },
        "title": {
         "text": "Loan Predictions: Naive Bayes Confusion Matrix"
        },
        "xaxis": {
         "dtick": 1,
         "gridcolor": "rgb(0, 0, 0)",
         "side": "top",
         "ticks": ""
        },
        "yaxis": {
         "dtick": 1,
         "ticks": "",
         "ticksuffix": "  "
        }
       }
      },
      "text/html": [
       "<div>                            <div id=\"2105e60d-a509-4673-a382-27c3ac595b62\" class=\"plotly-graph-div\" style=\"height:525px; width:100%;\"></div>            <script type=\"text/javascript\">                require([\"plotly\"], function(Plotly) {                    window.PLOTLYENV=window.PLOTLYENV || {};                                    if (document.getElementById(\"2105e60d-a509-4673-a382-27c3ac595b62\")) {                    Plotly.newPlot(                        \"2105e60d-a509-4673-a382-27c3ac595b62\",                        [{\"colorscale\": [[0.0, \"rgb(247,252,245)\"], [0.125, \"rgb(229,245,224)\"], [0.25, \"rgb(199,233,192)\"], [0.375, \"rgb(161,217,155)\"], [0.5, \"rgb(116,196,118)\"], [0.625, \"rgb(65,171,93)\"], [0.75, \"rgb(35,139,69)\"], [0.875, \"rgb(0,109,44)\"], [1.0, \"rgb(0,68,27)\"]], \"reversescale\": false, \"showscale\": false, \"type\": \"heatmap\", \"x\": [\"Predicted - Denied (0)\", \"Predicted - Approved (1)\"], \"y\": [\"Actual - Denied (0)\", \"Actual - Approved (1)\"], \"z\": [[803922, 652], [1895244, 748839]]}],                        {\"annotations\": [{\"font\": {\"color\": \"#000000\"}, \"showarrow\": false, \"text\": \"803922\", \"x\": \"Predicted - Denied (0)\", \"xref\": \"x\", \"y\": \"Actual - Denied (0)\", \"yref\": \"y\"}, {\"font\": {\"color\": \"#000000\"}, \"showarrow\": false, \"text\": \"652\", \"x\": \"Predicted - Approved (1)\", \"xref\": \"x\", \"y\": \"Actual - Denied (0)\", \"yref\": \"y\"}, {\"font\": {\"color\": \"#FFFFFF\"}, \"showarrow\": false, \"text\": \"1895244\", \"x\": \"Predicted - Denied (0)\", \"xref\": \"x\", \"y\": \"Actual - Approved (1)\", \"yref\": \"y\"}, {\"font\": {\"color\": \"#000000\"}, \"showarrow\": false, \"text\": \"748839\", \"x\": \"Predicted - Approved (1)\", \"xref\": \"x\", \"y\": \"Actual - Approved (1)\", \"yref\": \"y\"}], \"template\": {\"data\": {\"bar\": [{\"error_x\": {\"color\": \"#2a3f5f\"}, \"error_y\": {\"color\": \"#2a3f5f\"}, \"marker\": {\"line\": {\"color\": \"#E5ECF6\", \"width\": 0.5}}, \"type\": \"bar\"}], \"barpolar\": [{\"marker\": {\"line\": {\"color\": \"#E5ECF6\", \"width\": 0.5}}, \"type\": \"barpolar\"}], \"carpet\": [{\"aaxis\": {\"endlinecolor\": \"#2a3f5f\", \"gridcolor\": \"white\", \"linecolor\": \"white\", \"minorgridcolor\": \"white\", \"startlinecolor\": \"#2a3f5f\"}, \"baxis\": {\"endlinecolor\": \"#2a3f5f\", \"gridcolor\": \"white\", \"linecolor\": \"white\", \"minorgridcolor\": \"white\", \"startlinecolor\": \"#2a3f5f\"}, \"type\": \"carpet\"}], \"choropleth\": [{\"colorbar\": {\"outlinewidth\": 0, \"ticks\": \"\"}, \"type\": \"choropleth\"}], \"contour\": [{\"colorbar\": {\"outlinewidth\": 0, \"ticks\": \"\"}, \"colorscale\": [[0.0, \"#0d0887\"], [0.1111111111111111, \"#46039f\"], [0.2222222222222222, \"#7201a8\"], [0.3333333333333333, \"#9c179e\"], [0.4444444444444444, \"#bd3786\"], [0.5555555555555556, \"#d8576b\"], [0.6666666666666666, \"#ed7953\"], [0.7777777777777778, \"#fb9f3a\"], [0.8888888888888888, \"#fdca26\"], [1.0, \"#f0f921\"]], \"type\": \"contour\"}], \"contourcarpet\": [{\"colorbar\": {\"outlinewidth\": 0, \"ticks\": \"\"}, \"type\": \"contourcarpet\"}], \"heatmap\": [{\"colorbar\": {\"outlinewidth\": 0, \"ticks\": \"\"}, \"colorscale\": [[0.0, \"#0d0887\"], [0.1111111111111111, \"#46039f\"], [0.2222222222222222, \"#7201a8\"], [0.3333333333333333, \"#9c179e\"], [0.4444444444444444, \"#bd3786\"], [0.5555555555555556, \"#d8576b\"], [0.6666666666666666, \"#ed7953\"], [0.7777777777777778, \"#fb9f3a\"], [0.8888888888888888, \"#fdca26\"], [1.0, \"#f0f921\"]], \"type\": \"heatmap\"}], \"heatmapgl\": [{\"colorbar\": {\"outlinewidth\": 0, \"ticks\": \"\"}, \"colorscale\": [[0.0, \"#0d0887\"], [0.1111111111111111, \"#46039f\"], [0.2222222222222222, \"#7201a8\"], [0.3333333333333333, \"#9c179e\"], [0.4444444444444444, \"#bd3786\"], [0.5555555555555556, \"#d8576b\"], [0.6666666666666666, \"#ed7953\"], [0.7777777777777778, \"#fb9f3a\"], [0.8888888888888888, \"#fdca26\"], [1.0, \"#f0f921\"]], \"type\": \"heatmapgl\"}], \"histogram\": [{\"marker\": {\"colorbar\": {\"outlinewidth\": 0, \"ticks\": \"\"}}, \"type\": \"histogram\"}], \"histogram2d\": [{\"colorbar\": {\"outlinewidth\": 0, \"ticks\": \"\"}, \"colorscale\": [[0.0, \"#0d0887\"], [0.1111111111111111, \"#46039f\"], [0.2222222222222222, \"#7201a8\"], [0.3333333333333333, \"#9c179e\"], [0.4444444444444444, \"#bd3786\"], [0.5555555555555556, \"#d8576b\"], [0.6666666666666666, \"#ed7953\"], [0.7777777777777778, \"#fb9f3a\"], [0.8888888888888888, \"#fdca26\"], [1.0, \"#f0f921\"]], \"type\": \"histogram2d\"}], \"histogram2dcontour\": [{\"colorbar\": {\"outlinewidth\": 0, \"ticks\": \"\"}, \"colorscale\": [[0.0, \"#0d0887\"], [0.1111111111111111, \"#46039f\"], [0.2222222222222222, \"#7201a8\"], [0.3333333333333333, \"#9c179e\"], [0.4444444444444444, \"#bd3786\"], [0.5555555555555556, \"#d8576b\"], [0.6666666666666666, \"#ed7953\"], [0.7777777777777778, \"#fb9f3a\"], [0.8888888888888888, \"#fdca26\"], [1.0, \"#f0f921\"]], \"type\": \"histogram2dcontour\"}], \"mesh3d\": [{\"colorbar\": {\"outlinewidth\": 0, \"ticks\": \"\"}, \"type\": \"mesh3d\"}], \"parcoords\": [{\"line\": {\"colorbar\": {\"outlinewidth\": 0, \"ticks\": \"\"}}, \"type\": \"parcoords\"}], \"pie\": [{\"automargin\": true, \"type\": \"pie\"}], \"scatter\": [{\"marker\": {\"colorbar\": {\"outlinewidth\": 0, \"ticks\": \"\"}}, \"type\": \"scatter\"}], \"scatter3d\": [{\"line\": {\"colorbar\": {\"outlinewidth\": 0, \"ticks\": \"\"}}, \"marker\": {\"colorbar\": {\"outlinewidth\": 0, \"ticks\": \"\"}}, \"type\": \"scatter3d\"}], \"scattercarpet\": [{\"marker\": {\"colorbar\": {\"outlinewidth\": 0, \"ticks\": \"\"}}, \"type\": \"scattercarpet\"}], \"scattergeo\": [{\"marker\": {\"colorbar\": {\"outlinewidth\": 0, \"ticks\": \"\"}}, \"type\": \"scattergeo\"}], \"scattergl\": [{\"marker\": {\"colorbar\": {\"outlinewidth\": 0, \"ticks\": \"\"}}, \"type\": \"scattergl\"}], \"scattermapbox\": [{\"marker\": {\"colorbar\": {\"outlinewidth\": 0, \"ticks\": \"\"}}, \"type\": \"scattermapbox\"}], \"scatterpolar\": [{\"marker\": {\"colorbar\": {\"outlinewidth\": 0, \"ticks\": \"\"}}, \"type\": \"scatterpolar\"}], \"scatterpolargl\": [{\"marker\": {\"colorbar\": {\"outlinewidth\": 0, \"ticks\": \"\"}}, \"type\": \"scatterpolargl\"}], \"scatterternary\": [{\"marker\": {\"colorbar\": {\"outlinewidth\": 0, \"ticks\": \"\"}}, \"type\": \"scatterternary\"}], \"surface\": [{\"colorbar\": {\"outlinewidth\": 0, \"ticks\": \"\"}, \"colorscale\": [[0.0, \"#0d0887\"], [0.1111111111111111, \"#46039f\"], [0.2222222222222222, \"#7201a8\"], [0.3333333333333333, \"#9c179e\"], [0.4444444444444444, \"#bd3786\"], [0.5555555555555556, \"#d8576b\"], [0.6666666666666666, \"#ed7953\"], [0.7777777777777778, \"#fb9f3a\"], [0.8888888888888888, \"#fdca26\"], [1.0, \"#f0f921\"]], \"type\": \"surface\"}], \"table\": [{\"cells\": {\"fill\": {\"color\": \"#EBF0F8\"}, \"line\": {\"color\": \"white\"}}, \"header\": {\"fill\": {\"color\": \"#C8D4E3\"}, \"line\": {\"color\": \"white\"}}, \"type\": \"table\"}]}, \"layout\": {\"annotationdefaults\": {\"arrowcolor\": \"#2a3f5f\", \"arrowhead\": 0, \"arrowwidth\": 1}, \"coloraxis\": {\"colorbar\": {\"outlinewidth\": 0, \"ticks\": \"\"}}, \"colorscale\": {\"diverging\": [[0, \"#8e0152\"], [0.1, \"#c51b7d\"], [0.2, \"#de77ae\"], [0.3, \"#f1b6da\"], [0.4, \"#fde0ef\"], [0.5, \"#f7f7f7\"], [0.6, \"#e6f5d0\"], [0.7, \"#b8e186\"], [0.8, \"#7fbc41\"], [0.9, \"#4d9221\"], [1, \"#276419\"]], \"sequential\": [[0.0, \"#0d0887\"], [0.1111111111111111, \"#46039f\"], [0.2222222222222222, \"#7201a8\"], [0.3333333333333333, \"#9c179e\"], [0.4444444444444444, \"#bd3786\"], [0.5555555555555556, \"#d8576b\"], [0.6666666666666666, \"#ed7953\"], [0.7777777777777778, \"#fb9f3a\"], [0.8888888888888888, \"#fdca26\"], [1.0, \"#f0f921\"]], \"sequentialminus\": [[0.0, \"#0d0887\"], [0.1111111111111111, \"#46039f\"], [0.2222222222222222, \"#7201a8\"], [0.3333333333333333, \"#9c179e\"], [0.4444444444444444, \"#bd3786\"], [0.5555555555555556, \"#d8576b\"], [0.6666666666666666, \"#ed7953\"], [0.7777777777777778, \"#fb9f3a\"], [0.8888888888888888, \"#fdca26\"], [1.0, \"#f0f921\"]]}, \"colorway\": [\"#636efa\", \"#EF553B\", \"#00cc96\", \"#ab63fa\", \"#FFA15A\", \"#19d3f3\", \"#FF6692\", \"#B6E880\", \"#FF97FF\", \"#FECB52\"], \"font\": {\"color\": \"#2a3f5f\"}, \"geo\": {\"bgcolor\": \"white\", \"lakecolor\": \"white\", \"landcolor\": \"#E5ECF6\", \"showlakes\": true, \"showland\": true, \"subunitcolor\": \"white\"}, \"hoverlabel\": {\"align\": \"left\"}, \"hovermode\": \"closest\", \"mapbox\": {\"style\": \"light\"}, \"paper_bgcolor\": \"white\", \"plot_bgcolor\": \"#E5ECF6\", \"polar\": {\"angularaxis\": {\"gridcolor\": \"white\", \"linecolor\": \"white\", \"ticks\": \"\"}, \"bgcolor\": \"#E5ECF6\", \"radialaxis\": {\"gridcolor\": \"white\", \"linecolor\": \"white\", \"ticks\": \"\"}}, \"scene\": {\"xaxis\": {\"backgroundcolor\": \"#E5ECF6\", \"gridcolor\": \"white\", \"gridwidth\": 2, \"linecolor\": \"white\", \"showbackground\": true, \"ticks\": \"\", \"zerolinecolor\": \"white\"}, \"yaxis\": {\"backgroundcolor\": \"#E5ECF6\", \"gridcolor\": \"white\", \"gridwidth\": 2, \"linecolor\": \"white\", \"showbackground\": true, \"ticks\": \"\", \"zerolinecolor\": \"white\"}, \"zaxis\": {\"backgroundcolor\": \"#E5ECF6\", \"gridcolor\": \"white\", \"gridwidth\": 2, \"linecolor\": \"white\", \"showbackground\": true, \"ticks\": \"\", \"zerolinecolor\": \"white\"}}, \"shapedefaults\": {\"line\": {\"color\": \"#2a3f5f\"}}, \"ternary\": {\"aaxis\": {\"gridcolor\": \"white\", \"linecolor\": \"white\", \"ticks\": \"\"}, \"baxis\": {\"gridcolor\": \"white\", \"linecolor\": \"white\", \"ticks\": \"\"}, \"bgcolor\": \"#E5ECF6\", \"caxis\": {\"gridcolor\": \"white\", \"linecolor\": \"white\", \"ticks\": \"\"}}, \"title\": {\"x\": 0.05}, \"xaxis\": {\"automargin\": true, \"gridcolor\": \"white\", \"linecolor\": \"white\", \"ticks\": \"\", \"title\": {\"standoff\": 15}, \"zerolinecolor\": \"white\", \"zerolinewidth\": 2}, \"yaxis\": {\"automargin\": true, \"gridcolor\": \"white\", \"linecolor\": \"white\", \"ticks\": \"\", \"title\": {\"standoff\": 15}, \"zerolinecolor\": \"white\", \"zerolinewidth\": 2}}}, \"title\": {\"text\": \"Loan Predictions: Naive Bayes Confusion Matrix\"}, \"xaxis\": {\"dtick\": 1, \"gridcolor\": \"rgb(0, 0, 0)\", \"side\": \"top\", \"ticks\": \"\"}, \"yaxis\": {\"dtick\": 1, \"ticks\": \"\", \"ticksuffix\": \"  \"}},                        {\"responsive\": true}                    ).then(function(){\n",
       "                            \n",
       "var gd = document.getElementById('2105e60d-a509-4673-a382-27c3ac595b62');\n",
       "var x = new MutationObserver(function (mutations, observer) {{\n",
       "        var display = window.getComputedStyle(gd).display;\n",
       "        if (!display || display === 'none') {{\n",
       "            console.log([gd, 'removed!']);\n",
       "            Plotly.purge(gd);\n",
       "            observer.disconnect();\n",
       "        }}\n",
       "}});\n",
       "\n",
       "// Listen for the removal of the full notebook cells\n",
       "var notebookContainer = gd.closest('#notebook-container');\n",
       "if (notebookContainer) {{\n",
       "    x.observe(notebookContainer, {childList: true});\n",
       "}}\n",
       "\n",
       "// Listen for the clearing of the current output cell\n",
       "var outputEl = gd.closest('.output');\n",
       "if (outputEl) {{\n",
       "    x.observe(outputEl, {childList: true});\n",
       "}}\n",
       "\n",
       "                        })                };                });            </script>        </div>"
      ]
     },
     "metadata": {},
     "output_type": "display_data"
    }
   ],
   "source": [
    "make_heatmap(nb_result['matrix'], 'Naive Bayes Confusion Matrix', 'Greens')"
   ]
  },
  {
   "cell_type": "code",
   "execution_count": 51,
   "metadata": {},
   "outputs": [
    {
     "name": "stdout",
     "output_type": "stream",
     "text": [
      "              precision    recall  f1-score   support\n",
      "\n",
      "           0       0.30      1.00      0.46    804574\n",
      "           1       1.00      0.28      0.44   2644083\n",
      "\n",
      "    accuracy                           0.45   3448657\n",
      "   macro avg       0.65      0.64      0.45   3448657\n",
      "weighted avg       0.84      0.45      0.45   3448657\n",
      "\n"
     ]
    }
   ],
   "source": [
    "print(nb_result['report'])"
   ]
  },
  {
   "cell_type": "code",
   "execution_count": 52,
   "metadata": {},
   "outputs": [
    {
     "name": "stdout",
     "output_type": "stream",
     "text": [
      "Naive Bayes areaUnderROC: 0.11037348363590317\n"
     ]
    }
   ],
   "source": [
    "evaluator = BinaryClassificationEvaluator()\n",
    "print('Naive Bayes areaUnderROC: {}'.format(evaluator.evaluate(nb_result['predictions'])))"
   ]
  },
  {
   "cell_type": "code",
   "execution_count": 53,
   "metadata": {},
   "outputs": [
    {
     "name": "stderr",
     "output_type": "stream",
     "text": [
      "C:\\Users\\Aniruddha\\Anaconda3\\lib\\site-packages\\sklearn\\metrics\\_classification.py:1221: UndefinedMetricWarning:\n",
      "\n",
      "Precision and F-score are ill-defined and being set to 0.0 in labels with no predicted samples. Use `zero_division` parameter to control this behavior.\n",
      "\n"
     ]
    }
   ],
   "source": [
    "# Support Vector Machine\n",
    "\n",
    "svm = LinearSVC(maxIter=10, regParam=0.05, weightCol = 'weights')\n",
    "\n",
    "svm_result = crossval_training(svm)"
   ]
  },
  {
   "cell_type": "code",
   "execution_count": 54,
   "metadata": {},
   "outputs": [
    {
     "data": {
      "application/vnd.plotly.v1+json": {
       "config": {
        "plotlyServerURL": "https://plot.ly"
       },
       "data": [
        {
         "colorscale": [
          [
           0,
           "rgb(247,252,245)"
          ],
          [
           0.125,
           "rgb(229,245,224)"
          ],
          [
           0.25,
           "rgb(199,233,192)"
          ],
          [
           0.375,
           "rgb(161,217,155)"
          ],
          [
           0.5,
           "rgb(116,196,118)"
          ],
          [
           0.625,
           "rgb(65,171,93)"
          ],
          [
           0.75,
           "rgb(35,139,69)"
          ],
          [
           0.875,
           "rgb(0,109,44)"
          ],
          [
           1,
           "rgb(0,68,27)"
          ]
         ],
         "reversescale": false,
         "showscale": false,
         "type": "heatmap",
         "x": [
          "Predicted - Denied (0)",
          "Predicted - Approved (1)"
         ],
         "y": [
          "Actual - Denied (0)",
          "Actual - Approved (1)"
         ],
         "z": [
          [
           0,
           804574
          ],
          [
           0,
           2644083
          ]
         ]
        }
       ],
       "layout": {
        "annotations": [
         {
          "font": {
           "color": "#000000"
          },
          "showarrow": false,
          "text": "0",
          "x": "Predicted - Denied (0)",
          "xref": "x",
          "y": "Actual - Denied (0)",
          "yref": "y"
         },
         {
          "font": {
           "color": "#000000"
          },
          "showarrow": false,
          "text": "804574",
          "x": "Predicted - Approved (1)",
          "xref": "x",
          "y": "Actual - Denied (0)",
          "yref": "y"
         },
         {
          "font": {
           "color": "#000000"
          },
          "showarrow": false,
          "text": "0",
          "x": "Predicted - Denied (0)",
          "xref": "x",
          "y": "Actual - Approved (1)",
          "yref": "y"
         },
         {
          "font": {
           "color": "#FFFFFF"
          },
          "showarrow": false,
          "text": "2644083",
          "x": "Predicted - Approved (1)",
          "xref": "x",
          "y": "Actual - Approved (1)",
          "yref": "y"
         }
        ],
        "template": {
         "data": {
          "bar": [
           {
            "error_x": {
             "color": "#2a3f5f"
            },
            "error_y": {
             "color": "#2a3f5f"
            },
            "marker": {
             "line": {
              "color": "#E5ECF6",
              "width": 0.5
             }
            },
            "type": "bar"
           }
          ],
          "barpolar": [
           {
            "marker": {
             "line": {
              "color": "#E5ECF6",
              "width": 0.5
             }
            },
            "type": "barpolar"
           }
          ],
          "carpet": [
           {
            "aaxis": {
             "endlinecolor": "#2a3f5f",
             "gridcolor": "white",
             "linecolor": "white",
             "minorgridcolor": "white",
             "startlinecolor": "#2a3f5f"
            },
            "baxis": {
             "endlinecolor": "#2a3f5f",
             "gridcolor": "white",
             "linecolor": "white",
             "minorgridcolor": "white",
             "startlinecolor": "#2a3f5f"
            },
            "type": "carpet"
           }
          ],
          "choropleth": [
           {
            "colorbar": {
             "outlinewidth": 0,
             "ticks": ""
            },
            "type": "choropleth"
           }
          ],
          "contour": [
           {
            "colorbar": {
             "outlinewidth": 0,
             "ticks": ""
            },
            "colorscale": [
             [
              0,
              "#0d0887"
             ],
             [
              0.1111111111111111,
              "#46039f"
             ],
             [
              0.2222222222222222,
              "#7201a8"
             ],
             [
              0.3333333333333333,
              "#9c179e"
             ],
             [
              0.4444444444444444,
              "#bd3786"
             ],
             [
              0.5555555555555556,
              "#d8576b"
             ],
             [
              0.6666666666666666,
              "#ed7953"
             ],
             [
              0.7777777777777778,
              "#fb9f3a"
             ],
             [
              0.8888888888888888,
              "#fdca26"
             ],
             [
              1,
              "#f0f921"
             ]
            ],
            "type": "contour"
           }
          ],
          "contourcarpet": [
           {
            "colorbar": {
             "outlinewidth": 0,
             "ticks": ""
            },
            "type": "contourcarpet"
           }
          ],
          "heatmap": [
           {
            "colorbar": {
             "outlinewidth": 0,
             "ticks": ""
            },
            "colorscale": [
             [
              0,
              "#0d0887"
             ],
             [
              0.1111111111111111,
              "#46039f"
             ],
             [
              0.2222222222222222,
              "#7201a8"
             ],
             [
              0.3333333333333333,
              "#9c179e"
             ],
             [
              0.4444444444444444,
              "#bd3786"
             ],
             [
              0.5555555555555556,
              "#d8576b"
             ],
             [
              0.6666666666666666,
              "#ed7953"
             ],
             [
              0.7777777777777778,
              "#fb9f3a"
             ],
             [
              0.8888888888888888,
              "#fdca26"
             ],
             [
              1,
              "#f0f921"
             ]
            ],
            "type": "heatmap"
           }
          ],
          "heatmapgl": [
           {
            "colorbar": {
             "outlinewidth": 0,
             "ticks": ""
            },
            "colorscale": [
             [
              0,
              "#0d0887"
             ],
             [
              0.1111111111111111,
              "#46039f"
             ],
             [
              0.2222222222222222,
              "#7201a8"
             ],
             [
              0.3333333333333333,
              "#9c179e"
             ],
             [
              0.4444444444444444,
              "#bd3786"
             ],
             [
              0.5555555555555556,
              "#d8576b"
             ],
             [
              0.6666666666666666,
              "#ed7953"
             ],
             [
              0.7777777777777778,
              "#fb9f3a"
             ],
             [
              0.8888888888888888,
              "#fdca26"
             ],
             [
              1,
              "#f0f921"
             ]
            ],
            "type": "heatmapgl"
           }
          ],
          "histogram": [
           {
            "marker": {
             "colorbar": {
              "outlinewidth": 0,
              "ticks": ""
             }
            },
            "type": "histogram"
           }
          ],
          "histogram2d": [
           {
            "colorbar": {
             "outlinewidth": 0,
             "ticks": ""
            },
            "colorscale": [
             [
              0,
              "#0d0887"
             ],
             [
              0.1111111111111111,
              "#46039f"
             ],
             [
              0.2222222222222222,
              "#7201a8"
             ],
             [
              0.3333333333333333,
              "#9c179e"
             ],
             [
              0.4444444444444444,
              "#bd3786"
             ],
             [
              0.5555555555555556,
              "#d8576b"
             ],
             [
              0.6666666666666666,
              "#ed7953"
             ],
             [
              0.7777777777777778,
              "#fb9f3a"
             ],
             [
              0.8888888888888888,
              "#fdca26"
             ],
             [
              1,
              "#f0f921"
             ]
            ],
            "type": "histogram2d"
           }
          ],
          "histogram2dcontour": [
           {
            "colorbar": {
             "outlinewidth": 0,
             "ticks": ""
            },
            "colorscale": [
             [
              0,
              "#0d0887"
             ],
             [
              0.1111111111111111,
              "#46039f"
             ],
             [
              0.2222222222222222,
              "#7201a8"
             ],
             [
              0.3333333333333333,
              "#9c179e"
             ],
             [
              0.4444444444444444,
              "#bd3786"
             ],
             [
              0.5555555555555556,
              "#d8576b"
             ],
             [
              0.6666666666666666,
              "#ed7953"
             ],
             [
              0.7777777777777778,
              "#fb9f3a"
             ],
             [
              0.8888888888888888,
              "#fdca26"
             ],
             [
              1,
              "#f0f921"
             ]
            ],
            "type": "histogram2dcontour"
           }
          ],
          "mesh3d": [
           {
            "colorbar": {
             "outlinewidth": 0,
             "ticks": ""
            },
            "type": "mesh3d"
           }
          ],
          "parcoords": [
           {
            "line": {
             "colorbar": {
              "outlinewidth": 0,
              "ticks": ""
             }
            },
            "type": "parcoords"
           }
          ],
          "pie": [
           {
            "automargin": true,
            "type": "pie"
           }
          ],
          "scatter": [
           {
            "marker": {
             "colorbar": {
              "outlinewidth": 0,
              "ticks": ""
             }
            },
            "type": "scatter"
           }
          ],
          "scatter3d": [
           {
            "line": {
             "colorbar": {
              "outlinewidth": 0,
              "ticks": ""
             }
            },
            "marker": {
             "colorbar": {
              "outlinewidth": 0,
              "ticks": ""
             }
            },
            "type": "scatter3d"
           }
          ],
          "scattercarpet": [
           {
            "marker": {
             "colorbar": {
              "outlinewidth": 0,
              "ticks": ""
             }
            },
            "type": "scattercarpet"
           }
          ],
          "scattergeo": [
           {
            "marker": {
             "colorbar": {
              "outlinewidth": 0,
              "ticks": ""
             }
            },
            "type": "scattergeo"
           }
          ],
          "scattergl": [
           {
            "marker": {
             "colorbar": {
              "outlinewidth": 0,
              "ticks": ""
             }
            },
            "type": "scattergl"
           }
          ],
          "scattermapbox": [
           {
            "marker": {
             "colorbar": {
              "outlinewidth": 0,
              "ticks": ""
             }
            },
            "type": "scattermapbox"
           }
          ],
          "scatterpolar": [
           {
            "marker": {
             "colorbar": {
              "outlinewidth": 0,
              "ticks": ""
             }
            },
            "type": "scatterpolar"
           }
          ],
          "scatterpolargl": [
           {
            "marker": {
             "colorbar": {
              "outlinewidth": 0,
              "ticks": ""
             }
            },
            "type": "scatterpolargl"
           }
          ],
          "scatterternary": [
           {
            "marker": {
             "colorbar": {
              "outlinewidth": 0,
              "ticks": ""
             }
            },
            "type": "scatterternary"
           }
          ],
          "surface": [
           {
            "colorbar": {
             "outlinewidth": 0,
             "ticks": ""
            },
            "colorscale": [
             [
              0,
              "#0d0887"
             ],
             [
              0.1111111111111111,
              "#46039f"
             ],
             [
              0.2222222222222222,
              "#7201a8"
             ],
             [
              0.3333333333333333,
              "#9c179e"
             ],
             [
              0.4444444444444444,
              "#bd3786"
             ],
             [
              0.5555555555555556,
              "#d8576b"
             ],
             [
              0.6666666666666666,
              "#ed7953"
             ],
             [
              0.7777777777777778,
              "#fb9f3a"
             ],
             [
              0.8888888888888888,
              "#fdca26"
             ],
             [
              1,
              "#f0f921"
             ]
            ],
            "type": "surface"
           }
          ],
          "table": [
           {
            "cells": {
             "fill": {
              "color": "#EBF0F8"
             },
             "line": {
              "color": "white"
             }
            },
            "header": {
             "fill": {
              "color": "#C8D4E3"
             },
             "line": {
              "color": "white"
             }
            },
            "type": "table"
           }
          ]
         },
         "layout": {
          "annotationdefaults": {
           "arrowcolor": "#2a3f5f",
           "arrowhead": 0,
           "arrowwidth": 1
          },
          "coloraxis": {
           "colorbar": {
            "outlinewidth": 0,
            "ticks": ""
           }
          },
          "colorscale": {
           "diverging": [
            [
             0,
             "#8e0152"
            ],
            [
             0.1,
             "#c51b7d"
            ],
            [
             0.2,
             "#de77ae"
            ],
            [
             0.3,
             "#f1b6da"
            ],
            [
             0.4,
             "#fde0ef"
            ],
            [
             0.5,
             "#f7f7f7"
            ],
            [
             0.6,
             "#e6f5d0"
            ],
            [
             0.7,
             "#b8e186"
            ],
            [
             0.8,
             "#7fbc41"
            ],
            [
             0.9,
             "#4d9221"
            ],
            [
             1,
             "#276419"
            ]
           ],
           "sequential": [
            [
             0,
             "#0d0887"
            ],
            [
             0.1111111111111111,
             "#46039f"
            ],
            [
             0.2222222222222222,
             "#7201a8"
            ],
            [
             0.3333333333333333,
             "#9c179e"
            ],
            [
             0.4444444444444444,
             "#bd3786"
            ],
            [
             0.5555555555555556,
             "#d8576b"
            ],
            [
             0.6666666666666666,
             "#ed7953"
            ],
            [
             0.7777777777777778,
             "#fb9f3a"
            ],
            [
             0.8888888888888888,
             "#fdca26"
            ],
            [
             1,
             "#f0f921"
            ]
           ],
           "sequentialminus": [
            [
             0,
             "#0d0887"
            ],
            [
             0.1111111111111111,
             "#46039f"
            ],
            [
             0.2222222222222222,
             "#7201a8"
            ],
            [
             0.3333333333333333,
             "#9c179e"
            ],
            [
             0.4444444444444444,
             "#bd3786"
            ],
            [
             0.5555555555555556,
             "#d8576b"
            ],
            [
             0.6666666666666666,
             "#ed7953"
            ],
            [
             0.7777777777777778,
             "#fb9f3a"
            ],
            [
             0.8888888888888888,
             "#fdca26"
            ],
            [
             1,
             "#f0f921"
            ]
           ]
          },
          "colorway": [
           "#636efa",
           "#EF553B",
           "#00cc96",
           "#ab63fa",
           "#FFA15A",
           "#19d3f3",
           "#FF6692",
           "#B6E880",
           "#FF97FF",
           "#FECB52"
          ],
          "font": {
           "color": "#2a3f5f"
          },
          "geo": {
           "bgcolor": "white",
           "lakecolor": "white",
           "landcolor": "#E5ECF6",
           "showlakes": true,
           "showland": true,
           "subunitcolor": "white"
          },
          "hoverlabel": {
           "align": "left"
          },
          "hovermode": "closest",
          "mapbox": {
           "style": "light"
          },
          "paper_bgcolor": "white",
          "plot_bgcolor": "#E5ECF6",
          "polar": {
           "angularaxis": {
            "gridcolor": "white",
            "linecolor": "white",
            "ticks": ""
           },
           "bgcolor": "#E5ECF6",
           "radialaxis": {
            "gridcolor": "white",
            "linecolor": "white",
            "ticks": ""
           }
          },
          "scene": {
           "xaxis": {
            "backgroundcolor": "#E5ECF6",
            "gridcolor": "white",
            "gridwidth": 2,
            "linecolor": "white",
            "showbackground": true,
            "ticks": "",
            "zerolinecolor": "white"
           },
           "yaxis": {
            "backgroundcolor": "#E5ECF6",
            "gridcolor": "white",
            "gridwidth": 2,
            "linecolor": "white",
            "showbackground": true,
            "ticks": "",
            "zerolinecolor": "white"
           },
           "zaxis": {
            "backgroundcolor": "#E5ECF6",
            "gridcolor": "white",
            "gridwidth": 2,
            "linecolor": "white",
            "showbackground": true,
            "ticks": "",
            "zerolinecolor": "white"
           }
          },
          "shapedefaults": {
           "line": {
            "color": "#2a3f5f"
           }
          },
          "ternary": {
           "aaxis": {
            "gridcolor": "white",
            "linecolor": "white",
            "ticks": ""
           },
           "baxis": {
            "gridcolor": "white",
            "linecolor": "white",
            "ticks": ""
           },
           "bgcolor": "#E5ECF6",
           "caxis": {
            "gridcolor": "white",
            "linecolor": "white",
            "ticks": ""
           }
          },
          "title": {
           "x": 0.05
          },
          "xaxis": {
           "automargin": true,
           "gridcolor": "white",
           "linecolor": "white",
           "ticks": "",
           "title": {
            "standoff": 15
           },
           "zerolinecolor": "white",
           "zerolinewidth": 2
          },
          "yaxis": {
           "automargin": true,
           "gridcolor": "white",
           "linecolor": "white",
           "ticks": "",
           "title": {
            "standoff": 15
           },
           "zerolinecolor": "white",
           "zerolinewidth": 2
          }
         }
        },
        "title": {
         "text": "Loan Predictions: Support Vector Machine"
        },
        "xaxis": {
         "dtick": 1,
         "gridcolor": "rgb(0, 0, 0)",
         "side": "top",
         "ticks": ""
        },
        "yaxis": {
         "dtick": 1,
         "ticks": "",
         "ticksuffix": "  "
        }
       }
      },
      "text/html": [
       "<div>                            <div id=\"6f85c00f-6e1d-4604-9336-c9030616cfe9\" class=\"plotly-graph-div\" style=\"height:525px; width:100%;\"></div>            <script type=\"text/javascript\">                require([\"plotly\"], function(Plotly) {                    window.PLOTLYENV=window.PLOTLYENV || {};                                    if (document.getElementById(\"6f85c00f-6e1d-4604-9336-c9030616cfe9\")) {                    Plotly.newPlot(                        \"6f85c00f-6e1d-4604-9336-c9030616cfe9\",                        [{\"colorscale\": [[0.0, \"rgb(247,252,245)\"], [0.125, \"rgb(229,245,224)\"], [0.25, \"rgb(199,233,192)\"], [0.375, \"rgb(161,217,155)\"], [0.5, \"rgb(116,196,118)\"], [0.625, \"rgb(65,171,93)\"], [0.75, \"rgb(35,139,69)\"], [0.875, \"rgb(0,109,44)\"], [1.0, \"rgb(0,68,27)\"]], \"reversescale\": false, \"showscale\": false, \"type\": \"heatmap\", \"x\": [\"Predicted - Denied (0)\", \"Predicted - Approved (1)\"], \"y\": [\"Actual - Denied (0)\", \"Actual - Approved (1)\"], \"z\": [[0, 804574], [0, 2644083]]}],                        {\"annotations\": [{\"font\": {\"color\": \"#000000\"}, \"showarrow\": false, \"text\": \"0\", \"x\": \"Predicted - Denied (0)\", \"xref\": \"x\", \"y\": \"Actual - Denied (0)\", \"yref\": \"y\"}, {\"font\": {\"color\": \"#000000\"}, \"showarrow\": false, \"text\": \"804574\", \"x\": \"Predicted - Approved (1)\", \"xref\": \"x\", \"y\": \"Actual - Denied (0)\", \"yref\": \"y\"}, {\"font\": {\"color\": \"#000000\"}, \"showarrow\": false, \"text\": \"0\", \"x\": \"Predicted - Denied (0)\", \"xref\": \"x\", \"y\": \"Actual - Approved (1)\", \"yref\": \"y\"}, {\"font\": {\"color\": \"#FFFFFF\"}, \"showarrow\": false, \"text\": \"2644083\", \"x\": \"Predicted - Approved (1)\", \"xref\": \"x\", \"y\": \"Actual - Approved (1)\", \"yref\": \"y\"}], \"template\": {\"data\": {\"bar\": [{\"error_x\": {\"color\": \"#2a3f5f\"}, \"error_y\": {\"color\": \"#2a3f5f\"}, \"marker\": {\"line\": {\"color\": \"#E5ECF6\", \"width\": 0.5}}, \"type\": \"bar\"}], \"barpolar\": [{\"marker\": {\"line\": {\"color\": \"#E5ECF6\", \"width\": 0.5}}, \"type\": \"barpolar\"}], \"carpet\": [{\"aaxis\": {\"endlinecolor\": \"#2a3f5f\", \"gridcolor\": \"white\", \"linecolor\": \"white\", \"minorgridcolor\": \"white\", \"startlinecolor\": \"#2a3f5f\"}, \"baxis\": {\"endlinecolor\": \"#2a3f5f\", \"gridcolor\": \"white\", \"linecolor\": \"white\", \"minorgridcolor\": \"white\", \"startlinecolor\": \"#2a3f5f\"}, \"type\": \"carpet\"}], \"choropleth\": [{\"colorbar\": {\"outlinewidth\": 0, \"ticks\": \"\"}, \"type\": \"choropleth\"}], \"contour\": [{\"colorbar\": {\"outlinewidth\": 0, \"ticks\": \"\"}, \"colorscale\": [[0.0, \"#0d0887\"], [0.1111111111111111, \"#46039f\"], [0.2222222222222222, \"#7201a8\"], [0.3333333333333333, \"#9c179e\"], [0.4444444444444444, \"#bd3786\"], [0.5555555555555556, \"#d8576b\"], [0.6666666666666666, \"#ed7953\"], [0.7777777777777778, \"#fb9f3a\"], [0.8888888888888888, \"#fdca26\"], [1.0, \"#f0f921\"]], \"type\": \"contour\"}], \"contourcarpet\": [{\"colorbar\": {\"outlinewidth\": 0, \"ticks\": \"\"}, \"type\": \"contourcarpet\"}], \"heatmap\": [{\"colorbar\": {\"outlinewidth\": 0, \"ticks\": \"\"}, \"colorscale\": [[0.0, \"#0d0887\"], [0.1111111111111111, \"#46039f\"], [0.2222222222222222, \"#7201a8\"], [0.3333333333333333, \"#9c179e\"], [0.4444444444444444, \"#bd3786\"], [0.5555555555555556, \"#d8576b\"], [0.6666666666666666, \"#ed7953\"], [0.7777777777777778, \"#fb9f3a\"], [0.8888888888888888, \"#fdca26\"], [1.0, \"#f0f921\"]], \"type\": \"heatmap\"}], \"heatmapgl\": [{\"colorbar\": {\"outlinewidth\": 0, \"ticks\": \"\"}, \"colorscale\": [[0.0, \"#0d0887\"], [0.1111111111111111, \"#46039f\"], [0.2222222222222222, \"#7201a8\"], [0.3333333333333333, \"#9c179e\"], [0.4444444444444444, \"#bd3786\"], [0.5555555555555556, \"#d8576b\"], [0.6666666666666666, \"#ed7953\"], [0.7777777777777778, \"#fb9f3a\"], [0.8888888888888888, \"#fdca26\"], [1.0, \"#f0f921\"]], \"type\": \"heatmapgl\"}], \"histogram\": [{\"marker\": {\"colorbar\": {\"outlinewidth\": 0, \"ticks\": \"\"}}, \"type\": \"histogram\"}], \"histogram2d\": [{\"colorbar\": {\"outlinewidth\": 0, \"ticks\": \"\"}, \"colorscale\": [[0.0, \"#0d0887\"], [0.1111111111111111, \"#46039f\"], [0.2222222222222222, \"#7201a8\"], [0.3333333333333333, \"#9c179e\"], [0.4444444444444444, \"#bd3786\"], [0.5555555555555556, \"#d8576b\"], [0.6666666666666666, \"#ed7953\"], [0.7777777777777778, \"#fb9f3a\"], [0.8888888888888888, \"#fdca26\"], [1.0, \"#f0f921\"]], \"type\": \"histogram2d\"}], \"histogram2dcontour\": [{\"colorbar\": {\"outlinewidth\": 0, \"ticks\": \"\"}, \"colorscale\": [[0.0, \"#0d0887\"], [0.1111111111111111, \"#46039f\"], [0.2222222222222222, \"#7201a8\"], [0.3333333333333333, \"#9c179e\"], [0.4444444444444444, \"#bd3786\"], [0.5555555555555556, \"#d8576b\"], [0.6666666666666666, \"#ed7953\"], [0.7777777777777778, \"#fb9f3a\"], [0.8888888888888888, \"#fdca26\"], [1.0, \"#f0f921\"]], \"type\": \"histogram2dcontour\"}], \"mesh3d\": [{\"colorbar\": {\"outlinewidth\": 0, \"ticks\": \"\"}, \"type\": \"mesh3d\"}], \"parcoords\": [{\"line\": {\"colorbar\": {\"outlinewidth\": 0, \"ticks\": \"\"}}, \"type\": \"parcoords\"}], \"pie\": [{\"automargin\": true, \"type\": \"pie\"}], \"scatter\": [{\"marker\": {\"colorbar\": {\"outlinewidth\": 0, \"ticks\": \"\"}}, \"type\": \"scatter\"}], \"scatter3d\": [{\"line\": {\"colorbar\": {\"outlinewidth\": 0, \"ticks\": \"\"}}, \"marker\": {\"colorbar\": {\"outlinewidth\": 0, \"ticks\": \"\"}}, \"type\": \"scatter3d\"}], \"scattercarpet\": [{\"marker\": {\"colorbar\": {\"outlinewidth\": 0, \"ticks\": \"\"}}, \"type\": \"scattercarpet\"}], \"scattergeo\": [{\"marker\": {\"colorbar\": {\"outlinewidth\": 0, \"ticks\": \"\"}}, \"type\": \"scattergeo\"}], \"scattergl\": [{\"marker\": {\"colorbar\": {\"outlinewidth\": 0, \"ticks\": \"\"}}, \"type\": \"scattergl\"}], \"scattermapbox\": [{\"marker\": {\"colorbar\": {\"outlinewidth\": 0, \"ticks\": \"\"}}, \"type\": \"scattermapbox\"}], \"scatterpolar\": [{\"marker\": {\"colorbar\": {\"outlinewidth\": 0, \"ticks\": \"\"}}, \"type\": \"scatterpolar\"}], \"scatterpolargl\": [{\"marker\": {\"colorbar\": {\"outlinewidth\": 0, \"ticks\": \"\"}}, \"type\": \"scatterpolargl\"}], \"scatterternary\": [{\"marker\": {\"colorbar\": {\"outlinewidth\": 0, \"ticks\": \"\"}}, \"type\": \"scatterternary\"}], \"surface\": [{\"colorbar\": {\"outlinewidth\": 0, \"ticks\": \"\"}, \"colorscale\": [[0.0, \"#0d0887\"], [0.1111111111111111, \"#46039f\"], [0.2222222222222222, \"#7201a8\"], [0.3333333333333333, \"#9c179e\"], [0.4444444444444444, \"#bd3786\"], [0.5555555555555556, \"#d8576b\"], [0.6666666666666666, \"#ed7953\"], [0.7777777777777778, \"#fb9f3a\"], [0.8888888888888888, \"#fdca26\"], [1.0, \"#f0f921\"]], \"type\": \"surface\"}], \"table\": [{\"cells\": {\"fill\": {\"color\": \"#EBF0F8\"}, \"line\": {\"color\": \"white\"}}, \"header\": {\"fill\": {\"color\": \"#C8D4E3\"}, \"line\": {\"color\": \"white\"}}, \"type\": \"table\"}]}, \"layout\": {\"annotationdefaults\": {\"arrowcolor\": \"#2a3f5f\", \"arrowhead\": 0, \"arrowwidth\": 1}, \"coloraxis\": {\"colorbar\": {\"outlinewidth\": 0, \"ticks\": \"\"}}, \"colorscale\": {\"diverging\": [[0, \"#8e0152\"], [0.1, \"#c51b7d\"], [0.2, \"#de77ae\"], [0.3, \"#f1b6da\"], [0.4, \"#fde0ef\"], [0.5, \"#f7f7f7\"], [0.6, \"#e6f5d0\"], [0.7, \"#b8e186\"], [0.8, \"#7fbc41\"], [0.9, \"#4d9221\"], [1, \"#276419\"]], \"sequential\": [[0.0, \"#0d0887\"], [0.1111111111111111, \"#46039f\"], [0.2222222222222222, \"#7201a8\"], [0.3333333333333333, \"#9c179e\"], [0.4444444444444444, \"#bd3786\"], [0.5555555555555556, \"#d8576b\"], [0.6666666666666666, \"#ed7953\"], [0.7777777777777778, \"#fb9f3a\"], [0.8888888888888888, \"#fdca26\"], [1.0, \"#f0f921\"]], \"sequentialminus\": [[0.0, \"#0d0887\"], [0.1111111111111111, \"#46039f\"], [0.2222222222222222, \"#7201a8\"], [0.3333333333333333, \"#9c179e\"], [0.4444444444444444, \"#bd3786\"], [0.5555555555555556, \"#d8576b\"], [0.6666666666666666, \"#ed7953\"], [0.7777777777777778, \"#fb9f3a\"], [0.8888888888888888, \"#fdca26\"], [1.0, \"#f0f921\"]]}, \"colorway\": [\"#636efa\", \"#EF553B\", \"#00cc96\", \"#ab63fa\", \"#FFA15A\", \"#19d3f3\", \"#FF6692\", \"#B6E880\", \"#FF97FF\", \"#FECB52\"], \"font\": {\"color\": \"#2a3f5f\"}, \"geo\": {\"bgcolor\": \"white\", \"lakecolor\": \"white\", \"landcolor\": \"#E5ECF6\", \"showlakes\": true, \"showland\": true, \"subunitcolor\": \"white\"}, \"hoverlabel\": {\"align\": \"left\"}, \"hovermode\": \"closest\", \"mapbox\": {\"style\": \"light\"}, \"paper_bgcolor\": \"white\", \"plot_bgcolor\": \"#E5ECF6\", \"polar\": {\"angularaxis\": {\"gridcolor\": \"white\", \"linecolor\": \"white\", \"ticks\": \"\"}, \"bgcolor\": \"#E5ECF6\", \"radialaxis\": {\"gridcolor\": \"white\", \"linecolor\": \"white\", \"ticks\": \"\"}}, \"scene\": {\"xaxis\": {\"backgroundcolor\": \"#E5ECF6\", \"gridcolor\": \"white\", \"gridwidth\": 2, \"linecolor\": \"white\", \"showbackground\": true, \"ticks\": \"\", \"zerolinecolor\": \"white\"}, \"yaxis\": {\"backgroundcolor\": \"#E5ECF6\", \"gridcolor\": \"white\", \"gridwidth\": 2, \"linecolor\": \"white\", \"showbackground\": true, \"ticks\": \"\", \"zerolinecolor\": \"white\"}, \"zaxis\": {\"backgroundcolor\": \"#E5ECF6\", \"gridcolor\": \"white\", \"gridwidth\": 2, \"linecolor\": \"white\", \"showbackground\": true, \"ticks\": \"\", \"zerolinecolor\": \"white\"}}, \"shapedefaults\": {\"line\": {\"color\": \"#2a3f5f\"}}, \"ternary\": {\"aaxis\": {\"gridcolor\": \"white\", \"linecolor\": \"white\", \"ticks\": \"\"}, \"baxis\": {\"gridcolor\": \"white\", \"linecolor\": \"white\", \"ticks\": \"\"}, \"bgcolor\": \"#E5ECF6\", \"caxis\": {\"gridcolor\": \"white\", \"linecolor\": \"white\", \"ticks\": \"\"}}, \"title\": {\"x\": 0.05}, \"xaxis\": {\"automargin\": true, \"gridcolor\": \"white\", \"linecolor\": \"white\", \"ticks\": \"\", \"title\": {\"standoff\": 15}, \"zerolinecolor\": \"white\", \"zerolinewidth\": 2}, \"yaxis\": {\"automargin\": true, \"gridcolor\": \"white\", \"linecolor\": \"white\", \"ticks\": \"\", \"title\": {\"standoff\": 15}, \"zerolinecolor\": \"white\", \"zerolinewidth\": 2}}}, \"title\": {\"text\": \"Loan Predictions: Support Vector Machine\"}, \"xaxis\": {\"dtick\": 1, \"gridcolor\": \"rgb(0, 0, 0)\", \"side\": \"top\", \"ticks\": \"\"}, \"yaxis\": {\"dtick\": 1, \"ticks\": \"\", \"ticksuffix\": \"  \"}},                        {\"responsive\": true}                    ).then(function(){\n",
       "                            \n",
       "var gd = document.getElementById('6f85c00f-6e1d-4604-9336-c9030616cfe9');\n",
       "var x = new MutationObserver(function (mutations, observer) {{\n",
       "        var display = window.getComputedStyle(gd).display;\n",
       "        if (!display || display === 'none') {{\n",
       "            console.log([gd, 'removed!']);\n",
       "            Plotly.purge(gd);\n",
       "            observer.disconnect();\n",
       "        }}\n",
       "}});\n",
       "\n",
       "// Listen for the removal of the full notebook cells\n",
       "var notebookContainer = gd.closest('#notebook-container');\n",
       "if (notebookContainer) {{\n",
       "    x.observe(notebookContainer, {childList: true});\n",
       "}}\n",
       "\n",
       "// Listen for the clearing of the current output cell\n",
       "var outputEl = gd.closest('.output');\n",
       "if (outputEl) {{\n",
       "    x.observe(outputEl, {childList: true});\n",
       "}}\n",
       "\n",
       "                        })                };                });            </script>        </div>"
      ]
     },
     "metadata": {},
     "output_type": "display_data"
    }
   ],
   "source": [
    "make_heatmap(svm_result['matrix'], 'Support Vector Machine', 'Greens')"
   ]
  },
  {
   "cell_type": "code",
   "execution_count": 55,
   "metadata": {},
   "outputs": [
    {
     "name": "stdout",
     "output_type": "stream",
     "text": [
      "              precision    recall  f1-score   support\n",
      "\n",
      "           0       0.00      0.00      0.00    804574\n",
      "           1       0.77      1.00      0.87   2644083\n",
      "\n",
      "    accuracy                           0.77   3448657\n",
      "   macro avg       0.38      0.50      0.43   3448657\n",
      "weighted avg       0.59      0.77      0.67   3448657\n",
      "\n"
     ]
    }
   ],
   "source": [
    "print(svm_result['report'])"
   ]
  },
  {
   "cell_type": "code",
   "execution_count": 56,
   "metadata": {},
   "outputs": [
    {
     "name": "stdout",
     "output_type": "stream",
     "text": [
      "Support Vector Machine areaUnderROC: 0.9224175483282917\n"
     ]
    }
   ],
   "source": [
    "evaluator = BinaryClassificationEvaluator()\n",
    "print('Support Vector Machine areaUnderROC: {}'.format(evaluator.evaluate(svm_result['predictions'])))"
   ]
  },
  {
   "cell_type": "markdown",
   "metadata": {},
   "source": [
    "### Conclusion"
   ]
  },
  {
   "cell_type": "markdown",
   "metadata": {},
   "source": [
    "When it comes to evaluating the performance of the classifiers above, multiple angles must be considered. Most of them demonstrated an accuracy at least in the high 70s but as stated earlier, this is certainly not the best standard to go by. Weight balancing had to be performed since training all the models without them yielded high accuracies but terrible recall of the negative class (maximum in the high 50s). Both the Decision Tree and Random Forest models surprisingly provided identical, yet disappointing results. Here, they had almost the same amount of false negatives as that of true negatives and not a single false positive. The Gradient-Boosted Tree improved slightly yet this and the other two tree-based models were highly overfit to the negative/minority class (0 - loan denials), most likely due to the weighting. The Naive-Bayes model was by far the worst with an accuracy of 45% and an average F1-score of 0.45. Looking at the confusion matrix/classification report, even though it correctly predicted all the denied loans present in the data, it predicted far too many of them and not enough approved loans. Surprisingly, simple logistic regression gave the best results, with an accuracy of 84% and an F1-score of 0.78 after tweaking some hyperparameters. \n",
    "\n",
    "Besides model performence, there were several other drawbacks and areas for improvement. Currently the dataset provides applicants' credit score types but not the scores themselves. Those are hugely influential factors in determining whether or not to approve a loan/mortgage, but having those collected in future releases online would be a privacy risk. A possible solution for the CFPB could be to at least divide the scores into several bins of specified ranges to further anonymize the data. Also, the Spark ML library itself was not the easiest to work with. First of all, there doesn't appear to be a native API to view confusion matrices. In this notebook, the predictions had to be converted into a Pandas DataFrame, processed in scikit-learn, and visualized as a heatmap with Plotly. Additionally Spark ML doesn't natively support a wide variety of feature encoding techniques like scikit-learn does (here, target/mean encoding & leave-one-out encoding had to be implemented separately). Furthermore, Spark ML could support more model types such as XGBoost or including different kernel types for Support Vector Machines (polynomial, rbf, etc). Another item of note is the run time for this notebook, which could be sped up with better hardware. The whole process took many hours, with the tree based models taking the longest to train. Inspecting Terminal during model training revealed that insufficient memory for caching the RDDs was the cause, but the problem could also be that the notebook was running on a 4-year old weak MacBook CPU. This also resulted in needing to rerun several times for a complete output as the kernel would occasionally die out."
   ]
  },
  {
   "cell_type": "markdown",
   "metadata": {},
   "source": [
    "References:\n",
    "\n",
    "1. Data Dictionary/Definitions: https://ffiec.cfpb.gov/documentation/2019/lar-data-fields/\n",
    "2. SPark MLLib Documentation: https://spark.apache.org/docs/latest/ml-guide.html"
   ]
  }
 ],
 "metadata": {
  "kernelspec": {
   "display_name": "Python 3",
   "language": "python",
   "name": "python3"
  },
  "language_info": {
   "codemirror_mode": {
    "name": "ipython",
    "version": 3
   },
   "file_extension": ".py",
   "mimetype": "text/x-python",
   "name": "python",
   "nbconvert_exporter": "python",
   "pygments_lexer": "ipython3",
   "version": "3.7.9"
  }
 },
 "nbformat": 4,
 "nbformat_minor": 4
}
